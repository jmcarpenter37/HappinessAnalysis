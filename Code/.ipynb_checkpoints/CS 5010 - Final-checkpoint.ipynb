{
 "cells": [
  {
   "cell_type": "code",
   "execution_count": 50,
   "metadata": {},
   "outputs": [],
   "source": [
    "import pandas as pd\n",
    "df2015= pd.read_csv(\"../2015.csv\")\n",
    "\n",
    "df2016= pd.read_csv(\"../2016.csv\")\n",
    "df2017= pd.read_csv(\"../2017.csv\")\n",
    "\n",
    "df2015['year'] = 2015\n",
    "df2016['year'] = 2016\n",
    "df2017['year'] = 2017"
   ]
  },
  {
   "cell_type": "code",
   "execution_count": 53,
   "metadata": {},
   "outputs": [],
   "source": [
    "df2017= df2017.rename(columns={'Happiness.Rank': 'Happiness Rank', 'Happiness.Score':'Happiness Score',\n",
    "       'Economy..GDP.per.Capita.':'Economy (GDP per Capita)',  'Health..Life.Expectancy.':'Health (Life Expectancy)',\n",
    "       'Trust..Government.Corruption.':'Trust (Government Corruption)',\n",
    "       'Dystopia.Residual':'Dystopia Residual'})\n",
    "\n",
    "df2017 = df2017.replace(to_replace =\"Hong Kong S.A.R., China\", \n",
    "                 value =\"Hong Kong\") \n",
    "df2017 = df2017.replace(to_replace =\"Taiwan Province of China\", \n",
    "                 value =\"Taiwan\") \n",
    "\n",
    "region_df = df2016[['Country', 'Region']]\n",
    "df2017 = df2017.merge(region_df, how = 'left', on = 'Country' )\n",
    "#df1.merge(df2, left_on='lkey', right_on='rkey')"
   ]
  },
  {
   "cell_type": "code",
   "execution_count": 54,
   "metadata": {},
   "outputs": [],
   "source": [
    "stacked_data = df2015.append(df2016)\n",
    "stacked_data = stacked_data.append(df2017)\n",
    "#stacked_data[stacked_data['Country'] == \"Taiwan Province of China\"]\n"
   ]
  },
  {
   "cell_type": "code",
   "execution_count": 55,
   "metadata": {},
   "outputs": [
    {
     "data": {
      "text/html": [
       "<div>\n",
       "<style scoped>\n",
       "    .dataframe tbody tr th:only-of-type {\n",
       "        vertical-align: middle;\n",
       "    }\n",
       "\n",
       "    .dataframe tbody tr th {\n",
       "        vertical-align: top;\n",
       "    }\n",
       "\n",
       "    .dataframe thead th {\n",
       "        text-align: right;\n",
       "    }\n",
       "</style>\n",
       "<table border=\"1\" class=\"dataframe\">\n",
       "  <thead>\n",
       "    <tr style=\"text-align: right;\">\n",
       "      <th></th>\n",
       "      <th>Country</th>\n",
       "      <th>Dystopia Residual</th>\n",
       "      <th>Economy (GDP per Capita)</th>\n",
       "      <th>Family</th>\n",
       "      <th>Freedom</th>\n",
       "      <th>Generosity</th>\n",
       "      <th>Happiness Rank</th>\n",
       "      <th>Happiness Score</th>\n",
       "      <th>Health (Life Expectancy)</th>\n",
       "      <th>Lower Confidence Interval</th>\n",
       "      <th>Region</th>\n",
       "      <th>Standard Error</th>\n",
       "      <th>Trust (Government Corruption)</th>\n",
       "      <th>Upper Confidence Interval</th>\n",
       "      <th>Whisker.high</th>\n",
       "      <th>Whisker.low</th>\n",
       "      <th>year</th>\n",
       "    </tr>\n",
       "  </thead>\n",
       "  <tbody>\n",
       "    <tr>\n",
       "      <th>0</th>\n",
       "      <td>Switzerland</td>\n",
       "      <td>2.517380</td>\n",
       "      <td>1.396510</td>\n",
       "      <td>1.349510</td>\n",
       "      <td>0.665570</td>\n",
       "      <td>0.296780</td>\n",
       "      <td>1</td>\n",
       "      <td>7.587</td>\n",
       "      <td>0.941430</td>\n",
       "      <td>NaN</td>\n",
       "      <td>Western Europe</td>\n",
       "      <td>0.03411</td>\n",
       "      <td>0.419780</td>\n",
       "      <td>NaN</td>\n",
       "      <td>NaN</td>\n",
       "      <td>NaN</td>\n",
       "      <td>2015</td>\n",
       "    </tr>\n",
       "    <tr>\n",
       "      <th>1</th>\n",
       "      <td>Iceland</td>\n",
       "      <td>2.702010</td>\n",
       "      <td>1.302320</td>\n",
       "      <td>1.402230</td>\n",
       "      <td>0.628770</td>\n",
       "      <td>0.436300</td>\n",
       "      <td>2</td>\n",
       "      <td>7.561</td>\n",
       "      <td>0.947840</td>\n",
       "      <td>NaN</td>\n",
       "      <td>Western Europe</td>\n",
       "      <td>0.04884</td>\n",
       "      <td>0.141450</td>\n",
       "      <td>NaN</td>\n",
       "      <td>NaN</td>\n",
       "      <td>NaN</td>\n",
       "      <td>2015</td>\n",
       "    </tr>\n",
       "    <tr>\n",
       "      <th>2</th>\n",
       "      <td>Denmark</td>\n",
       "      <td>2.492040</td>\n",
       "      <td>1.325480</td>\n",
       "      <td>1.360580</td>\n",
       "      <td>0.649380</td>\n",
       "      <td>0.341390</td>\n",
       "      <td>3</td>\n",
       "      <td>7.527</td>\n",
       "      <td>0.874640</td>\n",
       "      <td>NaN</td>\n",
       "      <td>Western Europe</td>\n",
       "      <td>0.03328</td>\n",
       "      <td>0.483570</td>\n",
       "      <td>NaN</td>\n",
       "      <td>NaN</td>\n",
       "      <td>NaN</td>\n",
       "      <td>2015</td>\n",
       "    </tr>\n",
       "    <tr>\n",
       "      <th>3</th>\n",
       "      <td>Norway</td>\n",
       "      <td>2.465310</td>\n",
       "      <td>1.459000</td>\n",
       "      <td>1.330950</td>\n",
       "      <td>0.669730</td>\n",
       "      <td>0.346990</td>\n",
       "      <td>4</td>\n",
       "      <td>7.522</td>\n",
       "      <td>0.885210</td>\n",
       "      <td>NaN</td>\n",
       "      <td>Western Europe</td>\n",
       "      <td>0.03880</td>\n",
       "      <td>0.365030</td>\n",
       "      <td>NaN</td>\n",
       "      <td>NaN</td>\n",
       "      <td>NaN</td>\n",
       "      <td>2015</td>\n",
       "    </tr>\n",
       "    <tr>\n",
       "      <th>4</th>\n",
       "      <td>Canada</td>\n",
       "      <td>2.451760</td>\n",
       "      <td>1.326290</td>\n",
       "      <td>1.322610</td>\n",
       "      <td>0.632970</td>\n",
       "      <td>0.458110</td>\n",
       "      <td>5</td>\n",
       "      <td>7.427</td>\n",
       "      <td>0.905630</td>\n",
       "      <td>NaN</td>\n",
       "      <td>North America</td>\n",
       "      <td>0.03553</td>\n",
       "      <td>0.329570</td>\n",
       "      <td>NaN</td>\n",
       "      <td>NaN</td>\n",
       "      <td>NaN</td>\n",
       "      <td>2015</td>\n",
       "    </tr>\n",
       "    <tr>\n",
       "      <th>5</th>\n",
       "      <td>Finland</td>\n",
       "      <td>2.619550</td>\n",
       "      <td>1.290250</td>\n",
       "      <td>1.318260</td>\n",
       "      <td>0.641690</td>\n",
       "      <td>0.233510</td>\n",
       "      <td>6</td>\n",
       "      <td>7.406</td>\n",
       "      <td>0.889110</td>\n",
       "      <td>NaN</td>\n",
       "      <td>Western Europe</td>\n",
       "      <td>0.03140</td>\n",
       "      <td>0.413720</td>\n",
       "      <td>NaN</td>\n",
       "      <td>NaN</td>\n",
       "      <td>NaN</td>\n",
       "      <td>2015</td>\n",
       "    </tr>\n",
       "    <tr>\n",
       "      <th>6</th>\n",
       "      <td>Netherlands</td>\n",
       "      <td>2.465700</td>\n",
       "      <td>1.329440</td>\n",
       "      <td>1.280170</td>\n",
       "      <td>0.615760</td>\n",
       "      <td>0.476100</td>\n",
       "      <td>7</td>\n",
       "      <td>7.378</td>\n",
       "      <td>0.892840</td>\n",
       "      <td>NaN</td>\n",
       "      <td>Western Europe</td>\n",
       "      <td>0.02799</td>\n",
       "      <td>0.318140</td>\n",
       "      <td>NaN</td>\n",
       "      <td>NaN</td>\n",
       "      <td>NaN</td>\n",
       "      <td>2015</td>\n",
       "    </tr>\n",
       "    <tr>\n",
       "      <th>7</th>\n",
       "      <td>Sweden</td>\n",
       "      <td>2.371190</td>\n",
       "      <td>1.331710</td>\n",
       "      <td>1.289070</td>\n",
       "      <td>0.659800</td>\n",
       "      <td>0.362620</td>\n",
       "      <td>8</td>\n",
       "      <td>7.364</td>\n",
       "      <td>0.910870</td>\n",
       "      <td>NaN</td>\n",
       "      <td>Western Europe</td>\n",
       "      <td>0.03157</td>\n",
       "      <td>0.438440</td>\n",
       "      <td>NaN</td>\n",
       "      <td>NaN</td>\n",
       "      <td>NaN</td>\n",
       "      <td>2015</td>\n",
       "    </tr>\n",
       "    <tr>\n",
       "      <th>8</th>\n",
       "      <td>New Zealand</td>\n",
       "      <td>2.264250</td>\n",
       "      <td>1.250180</td>\n",
       "      <td>1.319670</td>\n",
       "      <td>0.639380</td>\n",
       "      <td>0.475010</td>\n",
       "      <td>9</td>\n",
       "      <td>7.286</td>\n",
       "      <td>0.908370</td>\n",
       "      <td>NaN</td>\n",
       "      <td>Australia and New Zealand</td>\n",
       "      <td>0.03371</td>\n",
       "      <td>0.429220</td>\n",
       "      <td>NaN</td>\n",
       "      <td>NaN</td>\n",
       "      <td>NaN</td>\n",
       "      <td>2015</td>\n",
       "    </tr>\n",
       "    <tr>\n",
       "      <th>9</th>\n",
       "      <td>Australia</td>\n",
       "      <td>2.266460</td>\n",
       "      <td>1.333580</td>\n",
       "      <td>1.309230</td>\n",
       "      <td>0.651240</td>\n",
       "      <td>0.435620</td>\n",
       "      <td>10</td>\n",
       "      <td>7.284</td>\n",
       "      <td>0.931560</td>\n",
       "      <td>NaN</td>\n",
       "      <td>Australia and New Zealand</td>\n",
       "      <td>0.04083</td>\n",
       "      <td>0.356370</td>\n",
       "      <td>NaN</td>\n",
       "      <td>NaN</td>\n",
       "      <td>NaN</td>\n",
       "      <td>2015</td>\n",
       "    </tr>\n",
       "    <tr>\n",
       "      <th>10</th>\n",
       "      <td>Israel</td>\n",
       "      <td>3.088540</td>\n",
       "      <td>1.228570</td>\n",
       "      <td>1.223930</td>\n",
       "      <td>0.413190</td>\n",
       "      <td>0.331720</td>\n",
       "      <td>11</td>\n",
       "      <td>7.278</td>\n",
       "      <td>0.913870</td>\n",
       "      <td>NaN</td>\n",
       "      <td>Middle East and Northern Africa</td>\n",
       "      <td>0.03470</td>\n",
       "      <td>0.077850</td>\n",
       "      <td>NaN</td>\n",
       "      <td>NaN</td>\n",
       "      <td>NaN</td>\n",
       "      <td>2015</td>\n",
       "    </tr>\n",
       "    <tr>\n",
       "      <th>11</th>\n",
       "      <td>Costa Rica</td>\n",
       "      <td>3.177280</td>\n",
       "      <td>0.955780</td>\n",
       "      <td>1.237880</td>\n",
       "      <td>0.633760</td>\n",
       "      <td>0.254970</td>\n",
       "      <td>12</td>\n",
       "      <td>7.226</td>\n",
       "      <td>0.860270</td>\n",
       "      <td>NaN</td>\n",
       "      <td>Latin America and Caribbean</td>\n",
       "      <td>0.04454</td>\n",
       "      <td>0.105830</td>\n",
       "      <td>NaN</td>\n",
       "      <td>NaN</td>\n",
       "      <td>NaN</td>\n",
       "      <td>2015</td>\n",
       "    </tr>\n",
       "    <tr>\n",
       "      <th>12</th>\n",
       "      <td>Austria</td>\n",
       "      <td>2.533200</td>\n",
       "      <td>1.337230</td>\n",
       "      <td>1.297040</td>\n",
       "      <td>0.624330</td>\n",
       "      <td>0.330880</td>\n",
       "      <td>13</td>\n",
       "      <td>7.200</td>\n",
       "      <td>0.890420</td>\n",
       "      <td>NaN</td>\n",
       "      <td>Western Europe</td>\n",
       "      <td>0.03751</td>\n",
       "      <td>0.186760</td>\n",
       "      <td>NaN</td>\n",
       "      <td>NaN</td>\n",
       "      <td>NaN</td>\n",
       "      <td>2015</td>\n",
       "    </tr>\n",
       "    <tr>\n",
       "      <th>13</th>\n",
       "      <td>Mexico</td>\n",
       "      <td>3.602140</td>\n",
       "      <td>1.020540</td>\n",
       "      <td>0.914510</td>\n",
       "      <td>0.481810</td>\n",
       "      <td>0.140740</td>\n",
       "      <td>14</td>\n",
       "      <td>7.187</td>\n",
       "      <td>0.814440</td>\n",
       "      <td>NaN</td>\n",
       "      <td>Latin America and Caribbean</td>\n",
       "      <td>0.04176</td>\n",
       "      <td>0.213120</td>\n",
       "      <td>NaN</td>\n",
       "      <td>NaN</td>\n",
       "      <td>NaN</td>\n",
       "      <td>2015</td>\n",
       "    </tr>\n",
       "    <tr>\n",
       "      <th>14</th>\n",
       "      <td>United States</td>\n",
       "      <td>2.510110</td>\n",
       "      <td>1.394510</td>\n",
       "      <td>1.247110</td>\n",
       "      <td>0.546040</td>\n",
       "      <td>0.401050</td>\n",
       "      <td>15</td>\n",
       "      <td>7.119</td>\n",
       "      <td>0.861790</td>\n",
       "      <td>NaN</td>\n",
       "      <td>North America</td>\n",
       "      <td>0.03839</td>\n",
       "      <td>0.158900</td>\n",
       "      <td>NaN</td>\n",
       "      <td>NaN</td>\n",
       "      <td>NaN</td>\n",
       "      <td>2015</td>\n",
       "    </tr>\n",
       "    <tr>\n",
       "      <th>15</th>\n",
       "      <td>Brazil</td>\n",
       "      <td>3.260010</td>\n",
       "      <td>0.981240</td>\n",
       "      <td>1.232870</td>\n",
       "      <td>0.490490</td>\n",
       "      <td>0.145740</td>\n",
       "      <td>16</td>\n",
       "      <td>6.983</td>\n",
       "      <td>0.697020</td>\n",
       "      <td>NaN</td>\n",
       "      <td>Latin America and Caribbean</td>\n",
       "      <td>0.04076</td>\n",
       "      <td>0.175210</td>\n",
       "      <td>NaN</td>\n",
       "      <td>NaN</td>\n",
       "      <td>NaN</td>\n",
       "      <td>2015</td>\n",
       "    </tr>\n",
       "    <tr>\n",
       "      <th>16</th>\n",
       "      <td>Luxembourg</td>\n",
       "      <td>1.969610</td>\n",
       "      <td>1.563910</td>\n",
       "      <td>1.219630</td>\n",
       "      <td>0.615830</td>\n",
       "      <td>0.280340</td>\n",
       "      <td>17</td>\n",
       "      <td>6.946</td>\n",
       "      <td>0.918940</td>\n",
       "      <td>NaN</td>\n",
       "      <td>Western Europe</td>\n",
       "      <td>0.03499</td>\n",
       "      <td>0.377980</td>\n",
       "      <td>NaN</td>\n",
       "      <td>NaN</td>\n",
       "      <td>NaN</td>\n",
       "      <td>2015</td>\n",
       "    </tr>\n",
       "    <tr>\n",
       "      <th>17</th>\n",
       "      <td>Ireland</td>\n",
       "      <td>1.975700</td>\n",
       "      <td>1.335960</td>\n",
       "      <td>1.369480</td>\n",
       "      <td>0.617770</td>\n",
       "      <td>0.459010</td>\n",
       "      <td>18</td>\n",
       "      <td>6.940</td>\n",
       "      <td>0.895330</td>\n",
       "      <td>NaN</td>\n",
       "      <td>Western Europe</td>\n",
       "      <td>0.03676</td>\n",
       "      <td>0.287030</td>\n",
       "      <td>NaN</td>\n",
       "      <td>NaN</td>\n",
       "      <td>NaN</td>\n",
       "      <td>2015</td>\n",
       "    </tr>\n",
       "    <tr>\n",
       "      <th>18</th>\n",
       "      <td>Belgium</td>\n",
       "      <td>2.414840</td>\n",
       "      <td>1.307820</td>\n",
       "      <td>1.285660</td>\n",
       "      <td>0.584500</td>\n",
       "      <td>0.222500</td>\n",
       "      <td>19</td>\n",
       "      <td>6.937</td>\n",
       "      <td>0.896670</td>\n",
       "      <td>NaN</td>\n",
       "      <td>Western Europe</td>\n",
       "      <td>0.03595</td>\n",
       "      <td>0.225400</td>\n",
       "      <td>NaN</td>\n",
       "      <td>NaN</td>\n",
       "      <td>NaN</td>\n",
       "      <td>2015</td>\n",
       "    </tr>\n",
       "    <tr>\n",
       "      <th>19</th>\n",
       "      <td>United Arab Emirates</td>\n",
       "      <td>2.247430</td>\n",
       "      <td>1.427270</td>\n",
       "      <td>1.125750</td>\n",
       "      <td>0.641570</td>\n",
       "      <td>0.264280</td>\n",
       "      <td>20</td>\n",
       "      <td>6.901</td>\n",
       "      <td>0.809250</td>\n",
       "      <td>NaN</td>\n",
       "      <td>Middle East and Northern Africa</td>\n",
       "      <td>0.03729</td>\n",
       "      <td>0.385830</td>\n",
       "      <td>NaN</td>\n",
       "      <td>NaN</td>\n",
       "      <td>NaN</td>\n",
       "      <td>2015</td>\n",
       "    </tr>\n",
       "    <tr>\n",
       "      <th>20</th>\n",
       "      <td>United Kingdom</td>\n",
       "      <td>1.969940</td>\n",
       "      <td>1.266370</td>\n",
       "      <td>1.285480</td>\n",
       "      <td>0.596250</td>\n",
       "      <td>0.519120</td>\n",
       "      <td>21</td>\n",
       "      <td>6.867</td>\n",
       "      <td>0.909430</td>\n",
       "      <td>NaN</td>\n",
       "      <td>Western Europe</td>\n",
       "      <td>0.01866</td>\n",
       "      <td>0.320670</td>\n",
       "      <td>NaN</td>\n",
       "      <td>NaN</td>\n",
       "      <td>NaN</td>\n",
       "      <td>2015</td>\n",
       "    </tr>\n",
       "    <tr>\n",
       "      <th>21</th>\n",
       "      <td>Oman</td>\n",
       "      <td>2.474890</td>\n",
       "      <td>1.360110</td>\n",
       "      <td>1.081820</td>\n",
       "      <td>0.632740</td>\n",
       "      <td>0.215420</td>\n",
       "      <td>22</td>\n",
       "      <td>6.853</td>\n",
       "      <td>0.762760</td>\n",
       "      <td>NaN</td>\n",
       "      <td>Middle East and Northern Africa</td>\n",
       "      <td>0.05335</td>\n",
       "      <td>0.325240</td>\n",
       "      <td>NaN</td>\n",
       "      <td>NaN</td>\n",
       "      <td>NaN</td>\n",
       "      <td>2015</td>\n",
       "    </tr>\n",
       "    <tr>\n",
       "      <th>22</th>\n",
       "      <td>Venezuela</td>\n",
       "      <td>3.191310</td>\n",
       "      <td>1.044240</td>\n",
       "      <td>1.255960</td>\n",
       "      <td>0.429080</td>\n",
       "      <td>0.058410</td>\n",
       "      <td>23</td>\n",
       "      <td>6.810</td>\n",
       "      <td>0.720520</td>\n",
       "      <td>NaN</td>\n",
       "      <td>Latin America and Caribbean</td>\n",
       "      <td>0.06476</td>\n",
       "      <td>0.110690</td>\n",
       "      <td>NaN</td>\n",
       "      <td>NaN</td>\n",
       "      <td>NaN</td>\n",
       "      <td>2015</td>\n",
       "    </tr>\n",
       "    <tr>\n",
       "      <th>23</th>\n",
       "      <td>Singapore</td>\n",
       "      <td>1.885010</td>\n",
       "      <td>1.521860</td>\n",
       "      <td>1.020000</td>\n",
       "      <td>0.542520</td>\n",
       "      <td>0.311050</td>\n",
       "      <td>24</td>\n",
       "      <td>6.798</td>\n",
       "      <td>1.025250</td>\n",
       "      <td>NaN</td>\n",
       "      <td>Southeastern Asia</td>\n",
       "      <td>0.03780</td>\n",
       "      <td>0.492100</td>\n",
       "      <td>NaN</td>\n",
       "      <td>NaN</td>\n",
       "      <td>NaN</td>\n",
       "      <td>2015</td>\n",
       "    </tr>\n",
       "    <tr>\n",
       "      <th>24</th>\n",
       "      <td>Panama</td>\n",
       "      <td>2.848480</td>\n",
       "      <td>1.063530</td>\n",
       "      <td>1.198500</td>\n",
       "      <td>0.542100</td>\n",
       "      <td>0.244340</td>\n",
       "      <td>25</td>\n",
       "      <td>6.786</td>\n",
       "      <td>0.796610</td>\n",
       "      <td>NaN</td>\n",
       "      <td>Latin America and Caribbean</td>\n",
       "      <td>0.04910</td>\n",
       "      <td>0.092700</td>\n",
       "      <td>NaN</td>\n",
       "      <td>NaN</td>\n",
       "      <td>NaN</td>\n",
       "      <td>2015</td>\n",
       "    </tr>\n",
       "    <tr>\n",
       "      <th>25</th>\n",
       "      <td>Germany</td>\n",
       "      <td>2.115690</td>\n",
       "      <td>1.327920</td>\n",
       "      <td>1.299370</td>\n",
       "      <td>0.614770</td>\n",
       "      <td>0.282140</td>\n",
       "      <td>26</td>\n",
       "      <td>6.750</td>\n",
       "      <td>0.891860</td>\n",
       "      <td>NaN</td>\n",
       "      <td>Western Europe</td>\n",
       "      <td>0.01848</td>\n",
       "      <td>0.218430</td>\n",
       "      <td>NaN</td>\n",
       "      <td>NaN</td>\n",
       "      <td>NaN</td>\n",
       "      <td>2015</td>\n",
       "    </tr>\n",
       "    <tr>\n",
       "      <th>26</th>\n",
       "      <td>Chile</td>\n",
       "      <td>2.675850</td>\n",
       "      <td>1.107150</td>\n",
       "      <td>1.124470</td>\n",
       "      <td>0.441320</td>\n",
       "      <td>0.333630</td>\n",
       "      <td>27</td>\n",
       "      <td>6.670</td>\n",
       "      <td>0.858570</td>\n",
       "      <td>NaN</td>\n",
       "      <td>Latin America and Caribbean</td>\n",
       "      <td>0.05800</td>\n",
       "      <td>0.128690</td>\n",
       "      <td>NaN</td>\n",
       "      <td>NaN</td>\n",
       "      <td>NaN</td>\n",
       "      <td>2015</td>\n",
       "    </tr>\n",
       "    <tr>\n",
       "      <th>27</th>\n",
       "      <td>Qatar</td>\n",
       "      <td>1.556740</td>\n",
       "      <td>1.690420</td>\n",
       "      <td>1.078600</td>\n",
       "      <td>0.640400</td>\n",
       "      <td>0.325730</td>\n",
       "      <td>28</td>\n",
       "      <td>6.611</td>\n",
       "      <td>0.797330</td>\n",
       "      <td>NaN</td>\n",
       "      <td>Middle East and Northern Africa</td>\n",
       "      <td>0.06257</td>\n",
       "      <td>0.522080</td>\n",
       "      <td>NaN</td>\n",
       "      <td>NaN</td>\n",
       "      <td>NaN</td>\n",
       "      <td>2015</td>\n",
       "    </tr>\n",
       "    <tr>\n",
       "      <th>28</th>\n",
       "      <td>France</td>\n",
       "      <td>2.211260</td>\n",
       "      <td>1.277780</td>\n",
       "      <td>1.260380</td>\n",
       "      <td>0.550110</td>\n",
       "      <td>0.123320</td>\n",
       "      <td>29</td>\n",
       "      <td>6.575</td>\n",
       "      <td>0.945790</td>\n",
       "      <td>NaN</td>\n",
       "      <td>Western Europe</td>\n",
       "      <td>0.03512</td>\n",
       "      <td>0.206460</td>\n",
       "      <td>NaN</td>\n",
       "      <td>NaN</td>\n",
       "      <td>NaN</td>\n",
       "      <td>2015</td>\n",
       "    </tr>\n",
       "    <tr>\n",
       "      <th>29</th>\n",
       "      <td>Argentina</td>\n",
       "      <td>2.836000</td>\n",
       "      <td>1.053510</td>\n",
       "      <td>1.248230</td>\n",
       "      <td>0.449740</td>\n",
       "      <td>0.114510</td>\n",
       "      <td>30</td>\n",
       "      <td>6.574</td>\n",
       "      <td>0.787230</td>\n",
       "      <td>NaN</td>\n",
       "      <td>Latin America and Caribbean</td>\n",
       "      <td>0.04612</td>\n",
       "      <td>0.084840</td>\n",
       "      <td>NaN</td>\n",
       "      <td>NaN</td>\n",
       "      <td>NaN</td>\n",
       "      <td>2015</td>\n",
       "    </tr>\n",
       "    <tr>\n",
       "      <th>...</th>\n",
       "      <td>...</td>\n",
       "      <td>...</td>\n",
       "      <td>...</td>\n",
       "      <td>...</td>\n",
       "      <td>...</td>\n",
       "      <td>...</td>\n",
       "      <td>...</td>\n",
       "      <td>...</td>\n",
       "      <td>...</td>\n",
       "      <td>...</td>\n",
       "      <td>...</td>\n",
       "      <td>...</td>\n",
       "      <td>...</td>\n",
       "      <td>...</td>\n",
       "      <td>...</td>\n",
       "      <td>...</td>\n",
       "      <td>...</td>\n",
       "    </tr>\n",
       "    <tr>\n",
       "      <th>125</th>\n",
       "      <td>Congo (Kinshasa)</td>\n",
       "      <td>2.224959</td>\n",
       "      <td>0.092102</td>\n",
       "      <td>1.229023</td>\n",
       "      <td>0.235961</td>\n",
       "      <td>0.246456</td>\n",
       "      <td>126</td>\n",
       "      <td>4.280</td>\n",
       "      <td>0.191407</td>\n",
       "      <td>NaN</td>\n",
       "      <td>Sub-Saharan Africa</td>\n",
       "      <td>NaN</td>\n",
       "      <td>0.060241</td>\n",
       "      <td>NaN</td>\n",
       "      <td>4.357811</td>\n",
       "      <td>4.202190</td>\n",
       "      <td>2017</td>\n",
       "    </tr>\n",
       "    <tr>\n",
       "      <th>126</th>\n",
       "      <td>Mali</td>\n",
       "      <td>1.668191</td>\n",
       "      <td>0.476180</td>\n",
       "      <td>1.281473</td>\n",
       "      <td>0.306614</td>\n",
       "      <td>0.183354</td>\n",
       "      <td>127</td>\n",
       "      <td>4.190</td>\n",
       "      <td>0.169366</td>\n",
       "      <td>NaN</td>\n",
       "      <td>Sub-Saharan Africa</td>\n",
       "      <td>NaN</td>\n",
       "      <td>0.104970</td>\n",
       "      <td>NaN</td>\n",
       "      <td>4.269671</td>\n",
       "      <td>4.110329</td>\n",
       "      <td>2017</td>\n",
       "    </tr>\n",
       "    <tr>\n",
       "      <th>127</th>\n",
       "      <td>Ivory Coast</td>\n",
       "      <td>1.844964</td>\n",
       "      <td>0.603049</td>\n",
       "      <td>0.904780</td>\n",
       "      <td>0.447706</td>\n",
       "      <td>0.201237</td>\n",
       "      <td>128</td>\n",
       "      <td>4.180</td>\n",
       "      <td>0.048642</td>\n",
       "      <td>NaN</td>\n",
       "      <td>Sub-Saharan Africa</td>\n",
       "      <td>NaN</td>\n",
       "      <td>0.130062</td>\n",
       "      <td>NaN</td>\n",
       "      <td>4.275183</td>\n",
       "      <td>4.084817</td>\n",
       "      <td>2017</td>\n",
       "    </tr>\n",
       "    <tr>\n",
       "      <th>128</th>\n",
       "      <td>Cambodia</td>\n",
       "      <td>1.042941</td>\n",
       "      <td>0.601765</td>\n",
       "      <td>1.006238</td>\n",
       "      <td>0.633376</td>\n",
       "      <td>0.385923</td>\n",
       "      <td>129</td>\n",
       "      <td>4.168</td>\n",
       "      <td>0.429783</td>\n",
       "      <td>NaN</td>\n",
       "      <td>Southeastern Asia</td>\n",
       "      <td>NaN</td>\n",
       "      <td>0.068106</td>\n",
       "      <td>NaN</td>\n",
       "      <td>4.278518</td>\n",
       "      <td>4.057483</td>\n",
       "      <td>2017</td>\n",
       "    </tr>\n",
       "    <tr>\n",
       "      <th>129</th>\n",
       "      <td>Sudan</td>\n",
       "      <td>1.687066</td>\n",
       "      <td>0.659517</td>\n",
       "      <td>1.214009</td>\n",
       "      <td>0.014996</td>\n",
       "      <td>0.182317</td>\n",
       "      <td>130</td>\n",
       "      <td>4.139</td>\n",
       "      <td>0.290921</td>\n",
       "      <td>NaN</td>\n",
       "      <td>Sub-Saharan Africa</td>\n",
       "      <td>NaN</td>\n",
       "      <td>0.089848</td>\n",
       "      <td>NaN</td>\n",
       "      <td>4.345747</td>\n",
       "      <td>3.932253</td>\n",
       "      <td>2017</td>\n",
       "    </tr>\n",
       "    <tr>\n",
       "      <th>130</th>\n",
       "      <td>Ghana</td>\n",
       "      <td>1.577868</td>\n",
       "      <td>0.667225</td>\n",
       "      <td>0.873665</td>\n",
       "      <td>0.423026</td>\n",
       "      <td>0.256924</td>\n",
       "      <td>131</td>\n",
       "      <td>4.120</td>\n",
       "      <td>0.295638</td>\n",
       "      <td>NaN</td>\n",
       "      <td>Sub-Saharan Africa</td>\n",
       "      <td>NaN</td>\n",
       "      <td>0.025336</td>\n",
       "      <td>NaN</td>\n",
       "      <td>4.222707</td>\n",
       "      <td>4.017293</td>\n",
       "      <td>2017</td>\n",
       "    </tr>\n",
       "    <tr>\n",
       "      <th>131</th>\n",
       "      <td>Ukraine</td>\n",
       "      <td>0.814382</td>\n",
       "      <td>0.894652</td>\n",
       "      <td>1.394538</td>\n",
       "      <td>0.122975</td>\n",
       "      <td>0.270061</td>\n",
       "      <td>132</td>\n",
       "      <td>4.096</td>\n",
       "      <td>0.575904</td>\n",
       "      <td>NaN</td>\n",
       "      <td>Central and Eastern Europe</td>\n",
       "      <td>NaN</td>\n",
       "      <td>0.023029</td>\n",
       "      <td>NaN</td>\n",
       "      <td>4.185410</td>\n",
       "      <td>4.006590</td>\n",
       "      <td>2017</td>\n",
       "    </tr>\n",
       "    <tr>\n",
       "      <th>132</th>\n",
       "      <td>Uganda</td>\n",
       "      <td>1.526363</td>\n",
       "      <td>0.381431</td>\n",
       "      <td>1.129828</td>\n",
       "      <td>0.443186</td>\n",
       "      <td>0.325766</td>\n",
       "      <td>133</td>\n",
       "      <td>4.081</td>\n",
       "      <td>0.217633</td>\n",
       "      <td>NaN</td>\n",
       "      <td>Sub-Saharan Africa</td>\n",
       "      <td>NaN</td>\n",
       "      <td>0.057070</td>\n",
       "      <td>NaN</td>\n",
       "      <td>4.195800</td>\n",
       "      <td>3.966200</td>\n",
       "      <td>2017</td>\n",
       "    </tr>\n",
       "    <tr>\n",
       "      <th>133</th>\n",
       "      <td>Burkina Faso</td>\n",
       "      <td>1.727213</td>\n",
       "      <td>0.350228</td>\n",
       "      <td>1.043280</td>\n",
       "      <td>0.324368</td>\n",
       "      <td>0.250865</td>\n",
       "      <td>134</td>\n",
       "      <td>4.032</td>\n",
       "      <td>0.215844</td>\n",
       "      <td>NaN</td>\n",
       "      <td>Sub-Saharan Africa</td>\n",
       "      <td>NaN</td>\n",
       "      <td>0.120328</td>\n",
       "      <td>NaN</td>\n",
       "      <td>4.124059</td>\n",
       "      <td>3.939941</td>\n",
       "      <td>2017</td>\n",
       "    </tr>\n",
       "    <tr>\n",
       "      <th>134</th>\n",
       "      <td>Niger</td>\n",
       "      <td>1.873983</td>\n",
       "      <td>0.161925</td>\n",
       "      <td>0.993025</td>\n",
       "      <td>0.363659</td>\n",
       "      <td>0.228674</td>\n",
       "      <td>135</td>\n",
       "      <td>4.028</td>\n",
       "      <td>0.268505</td>\n",
       "      <td>NaN</td>\n",
       "      <td>Sub-Saharan Africa</td>\n",
       "      <td>NaN</td>\n",
       "      <td>0.138573</td>\n",
       "      <td>NaN</td>\n",
       "      <td>4.111947</td>\n",
       "      <td>3.944053</td>\n",
       "      <td>2017</td>\n",
       "    </tr>\n",
       "    <tr>\n",
       "      <th>135</th>\n",
       "      <td>Malawi</td>\n",
       "      <td>2.081786</td>\n",
       "      <td>0.233442</td>\n",
       "      <td>0.512569</td>\n",
       "      <td>0.466915</td>\n",
       "      <td>0.287170</td>\n",
       "      <td>136</td>\n",
       "      <td>3.970</td>\n",
       "      <td>0.315090</td>\n",
       "      <td>NaN</td>\n",
       "      <td>Sub-Saharan Africa</td>\n",
       "      <td>NaN</td>\n",
       "      <td>0.072712</td>\n",
       "      <td>NaN</td>\n",
       "      <td>4.077479</td>\n",
       "      <td>3.862521</td>\n",
       "      <td>2017</td>\n",
       "    </tr>\n",
       "    <tr>\n",
       "      <th>136</th>\n",
       "      <td>Chad</td>\n",
       "      <td>2.071238</td>\n",
       "      <td>0.438013</td>\n",
       "      <td>0.953856</td>\n",
       "      <td>0.162342</td>\n",
       "      <td>0.216114</td>\n",
       "      <td>137</td>\n",
       "      <td>3.936</td>\n",
       "      <td>0.041135</td>\n",
       "      <td>NaN</td>\n",
       "      <td>Sub-Saharan Africa</td>\n",
       "      <td>NaN</td>\n",
       "      <td>0.053582</td>\n",
       "      <td>NaN</td>\n",
       "      <td>4.034712</td>\n",
       "      <td>3.837289</td>\n",
       "      <td>2017</td>\n",
       "    </tr>\n",
       "    <tr>\n",
       "      <th>137</th>\n",
       "      <td>Zimbabwe</td>\n",
       "      <td>1.597970</td>\n",
       "      <td>0.375847</td>\n",
       "      <td>1.083096</td>\n",
       "      <td>0.336384</td>\n",
       "      <td>0.189143</td>\n",
       "      <td>138</td>\n",
       "      <td>3.875</td>\n",
       "      <td>0.196764</td>\n",
       "      <td>NaN</td>\n",
       "      <td>Sub-Saharan Africa</td>\n",
       "      <td>NaN</td>\n",
       "      <td>0.095375</td>\n",
       "      <td>NaN</td>\n",
       "      <td>3.978700</td>\n",
       "      <td>3.771300</td>\n",
       "      <td>2017</td>\n",
       "    </tr>\n",
       "    <tr>\n",
       "      <th>138</th>\n",
       "      <td>Lesotho</td>\n",
       "      <td>1.429835</td>\n",
       "      <td>0.521021</td>\n",
       "      <td>1.190095</td>\n",
       "      <td>0.390661</td>\n",
       "      <td>0.157497</td>\n",
       "      <td>139</td>\n",
       "      <td>3.808</td>\n",
       "      <td>0.000000</td>\n",
       "      <td>NaN</td>\n",
       "      <td>NaN</td>\n",
       "      <td>NaN</td>\n",
       "      <td>0.119095</td>\n",
       "      <td>NaN</td>\n",
       "      <td>4.044344</td>\n",
       "      <td>3.571656</td>\n",
       "      <td>2017</td>\n",
       "    </tr>\n",
       "    <tr>\n",
       "      <th>139</th>\n",
       "      <td>Angola</td>\n",
       "      <td>1.614482</td>\n",
       "      <td>0.858428</td>\n",
       "      <td>1.104412</td>\n",
       "      <td>0.000000</td>\n",
       "      <td>0.097926</td>\n",
       "      <td>140</td>\n",
       "      <td>3.795</td>\n",
       "      <td>0.049869</td>\n",
       "      <td>NaN</td>\n",
       "      <td>Sub-Saharan Africa</td>\n",
       "      <td>NaN</td>\n",
       "      <td>0.069720</td>\n",
       "      <td>NaN</td>\n",
       "      <td>3.951642</td>\n",
       "      <td>3.638358</td>\n",
       "      <td>2017</td>\n",
       "    </tr>\n",
       "    <tr>\n",
       "      <th>140</th>\n",
       "      <td>Afghanistan</td>\n",
       "      <td>2.150801</td>\n",
       "      <td>0.401477</td>\n",
       "      <td>0.581543</td>\n",
       "      <td>0.106180</td>\n",
       "      <td>0.311871</td>\n",
       "      <td>141</td>\n",
       "      <td>3.794</td>\n",
       "      <td>0.180747</td>\n",
       "      <td>NaN</td>\n",
       "      <td>Southern Asia</td>\n",
       "      <td>NaN</td>\n",
       "      <td>0.061158</td>\n",
       "      <td>NaN</td>\n",
       "      <td>3.873661</td>\n",
       "      <td>3.714338</td>\n",
       "      <td>2017</td>\n",
       "    </tr>\n",
       "    <tr>\n",
       "      <th>141</th>\n",
       "      <td>Botswana</td>\n",
       "      <td>0.377914</td>\n",
       "      <td>1.122094</td>\n",
       "      <td>1.221555</td>\n",
       "      <td>0.505196</td>\n",
       "      <td>0.099348</td>\n",
       "      <td>142</td>\n",
       "      <td>3.766</td>\n",
       "      <td>0.341756</td>\n",
       "      <td>NaN</td>\n",
       "      <td>Sub-Saharan Africa</td>\n",
       "      <td>NaN</td>\n",
       "      <td>0.098583</td>\n",
       "      <td>NaN</td>\n",
       "      <td>3.874123</td>\n",
       "      <td>3.657877</td>\n",
       "      <td>2017</td>\n",
       "    </tr>\n",
       "    <tr>\n",
       "      <th>142</th>\n",
       "      <td>Benin</td>\n",
       "      <td>1.885631</td>\n",
       "      <td>0.431085</td>\n",
       "      <td>0.435300</td>\n",
       "      <td>0.425963</td>\n",
       "      <td>0.207948</td>\n",
       "      <td>143</td>\n",
       "      <td>3.657</td>\n",
       "      <td>0.209930</td>\n",
       "      <td>NaN</td>\n",
       "      <td>Sub-Saharan Africa</td>\n",
       "      <td>NaN</td>\n",
       "      <td>0.060929</td>\n",
       "      <td>NaN</td>\n",
       "      <td>3.745784</td>\n",
       "      <td>3.568217</td>\n",
       "      <td>2017</td>\n",
       "    </tr>\n",
       "    <tr>\n",
       "      <th>143</th>\n",
       "      <td>Madagascar</td>\n",
       "      <td>1.584613</td>\n",
       "      <td>0.305809</td>\n",
       "      <td>0.913020</td>\n",
       "      <td>0.189197</td>\n",
       "      <td>0.208733</td>\n",
       "      <td>144</td>\n",
       "      <td>3.644</td>\n",
       "      <td>0.375223</td>\n",
       "      <td>NaN</td>\n",
       "      <td>Sub-Saharan Africa</td>\n",
       "      <td>NaN</td>\n",
       "      <td>0.067232</td>\n",
       "      <td>NaN</td>\n",
       "      <td>3.714319</td>\n",
       "      <td>3.573681</td>\n",
       "      <td>2017</td>\n",
       "    </tr>\n",
       "    <tr>\n",
       "      <th>144</th>\n",
       "      <td>Haiti</td>\n",
       "      <td>1.697168</td>\n",
       "      <td>0.368610</td>\n",
       "      <td>0.640450</td>\n",
       "      <td>0.030370</td>\n",
       "      <td>0.489204</td>\n",
       "      <td>145</td>\n",
       "      <td>3.603</td>\n",
       "      <td>0.277321</td>\n",
       "      <td>NaN</td>\n",
       "      <td>Latin America and Caribbean</td>\n",
       "      <td>NaN</td>\n",
       "      <td>0.099872</td>\n",
       "      <td>NaN</td>\n",
       "      <td>3.734715</td>\n",
       "      <td>3.471285</td>\n",
       "      <td>2017</td>\n",
       "    </tr>\n",
       "    <tr>\n",
       "      <th>145</th>\n",
       "      <td>Yemen</td>\n",
       "      <td>1.345601</td>\n",
       "      <td>0.591683</td>\n",
       "      <td>0.935382</td>\n",
       "      <td>0.249464</td>\n",
       "      <td>0.104125</td>\n",
       "      <td>146</td>\n",
       "      <td>3.593</td>\n",
       "      <td>0.310081</td>\n",
       "      <td>NaN</td>\n",
       "      <td>Middle East and Northern Africa</td>\n",
       "      <td>NaN</td>\n",
       "      <td>0.056767</td>\n",
       "      <td>NaN</td>\n",
       "      <td>3.692750</td>\n",
       "      <td>3.493250</td>\n",
       "      <td>2017</td>\n",
       "    </tr>\n",
       "    <tr>\n",
       "      <th>146</th>\n",
       "      <td>South Sudan</td>\n",
       "      <td>1.879567</td>\n",
       "      <td>0.397249</td>\n",
       "      <td>0.601323</td>\n",
       "      <td>0.147062</td>\n",
       "      <td>0.285671</td>\n",
       "      <td>147</td>\n",
       "      <td>3.591</td>\n",
       "      <td>0.163486</td>\n",
       "      <td>NaN</td>\n",
       "      <td>Sub-Saharan Africa</td>\n",
       "      <td>NaN</td>\n",
       "      <td>0.116794</td>\n",
       "      <td>NaN</td>\n",
       "      <td>3.725539</td>\n",
       "      <td>3.456462</td>\n",
       "      <td>2017</td>\n",
       "    </tr>\n",
       "    <tr>\n",
       "      <th>147</th>\n",
       "      <td>Liberia</td>\n",
       "      <td>1.673286</td>\n",
       "      <td>0.119042</td>\n",
       "      <td>0.872118</td>\n",
       "      <td>0.332881</td>\n",
       "      <td>0.266550</td>\n",
       "      <td>148</td>\n",
       "      <td>3.533</td>\n",
       "      <td>0.229918</td>\n",
       "      <td>NaN</td>\n",
       "      <td>Sub-Saharan Africa</td>\n",
       "      <td>NaN</td>\n",
       "      <td>0.038948</td>\n",
       "      <td>NaN</td>\n",
       "      <td>3.653756</td>\n",
       "      <td>3.412244</td>\n",
       "      <td>2017</td>\n",
       "    </tr>\n",
       "    <tr>\n",
       "      <th>148</th>\n",
       "      <td>Guinea</td>\n",
       "      <td>1.552312</td>\n",
       "      <td>0.244550</td>\n",
       "      <td>0.791245</td>\n",
       "      <td>0.348588</td>\n",
       "      <td>0.264815</td>\n",
       "      <td>149</td>\n",
       "      <td>3.507</td>\n",
       "      <td>0.194129</td>\n",
       "      <td>NaN</td>\n",
       "      <td>Sub-Saharan Africa</td>\n",
       "      <td>NaN</td>\n",
       "      <td>0.110938</td>\n",
       "      <td>NaN</td>\n",
       "      <td>3.584428</td>\n",
       "      <td>3.429572</td>\n",
       "      <td>2017</td>\n",
       "    </tr>\n",
       "    <tr>\n",
       "      <th>149</th>\n",
       "      <td>Togo</td>\n",
       "      <td>1.837229</td>\n",
       "      <td>0.305445</td>\n",
       "      <td>0.431883</td>\n",
       "      <td>0.380426</td>\n",
       "      <td>0.196896</td>\n",
       "      <td>150</td>\n",
       "      <td>3.495</td>\n",
       "      <td>0.247106</td>\n",
       "      <td>NaN</td>\n",
       "      <td>Sub-Saharan Africa</td>\n",
       "      <td>NaN</td>\n",
       "      <td>0.095665</td>\n",
       "      <td>NaN</td>\n",
       "      <td>3.594038</td>\n",
       "      <td>3.395962</td>\n",
       "      <td>2017</td>\n",
       "    </tr>\n",
       "    <tr>\n",
       "      <th>150</th>\n",
       "      <td>Rwanda</td>\n",
       "      <td>0.540061</td>\n",
       "      <td>0.368746</td>\n",
       "      <td>0.945707</td>\n",
       "      <td>0.581844</td>\n",
       "      <td>0.252756</td>\n",
       "      <td>151</td>\n",
       "      <td>3.471</td>\n",
       "      <td>0.326425</td>\n",
       "      <td>NaN</td>\n",
       "      <td>Sub-Saharan Africa</td>\n",
       "      <td>NaN</td>\n",
       "      <td>0.455220</td>\n",
       "      <td>NaN</td>\n",
       "      <td>3.543030</td>\n",
       "      <td>3.398970</td>\n",
       "      <td>2017</td>\n",
       "    </tr>\n",
       "    <tr>\n",
       "      <th>151</th>\n",
       "      <td>Syria</td>\n",
       "      <td>1.061574</td>\n",
       "      <td>0.777153</td>\n",
       "      <td>0.396103</td>\n",
       "      <td>0.081539</td>\n",
       "      <td>0.493664</td>\n",
       "      <td>152</td>\n",
       "      <td>3.462</td>\n",
       "      <td>0.500533</td>\n",
       "      <td>NaN</td>\n",
       "      <td>Middle East and Northern Africa</td>\n",
       "      <td>NaN</td>\n",
       "      <td>0.151347</td>\n",
       "      <td>NaN</td>\n",
       "      <td>3.663669</td>\n",
       "      <td>3.260331</td>\n",
       "      <td>2017</td>\n",
       "    </tr>\n",
       "    <tr>\n",
       "      <th>152</th>\n",
       "      <td>Tanzania</td>\n",
       "      <td>0.621130</td>\n",
       "      <td>0.511136</td>\n",
       "      <td>1.041990</td>\n",
       "      <td>0.390018</td>\n",
       "      <td>0.354256</td>\n",
       "      <td>153</td>\n",
       "      <td>3.349</td>\n",
       "      <td>0.364509</td>\n",
       "      <td>NaN</td>\n",
       "      <td>Sub-Saharan Africa</td>\n",
       "      <td>NaN</td>\n",
       "      <td>0.066035</td>\n",
       "      <td>NaN</td>\n",
       "      <td>3.461430</td>\n",
       "      <td>3.236570</td>\n",
       "      <td>2017</td>\n",
       "    </tr>\n",
       "    <tr>\n",
       "      <th>153</th>\n",
       "      <td>Burundi</td>\n",
       "      <td>1.683024</td>\n",
       "      <td>0.091623</td>\n",
       "      <td>0.629794</td>\n",
       "      <td>0.059901</td>\n",
       "      <td>0.204435</td>\n",
       "      <td>154</td>\n",
       "      <td>2.905</td>\n",
       "      <td>0.151611</td>\n",
       "      <td>NaN</td>\n",
       "      <td>Sub-Saharan Africa</td>\n",
       "      <td>NaN</td>\n",
       "      <td>0.084148</td>\n",
       "      <td>NaN</td>\n",
       "      <td>3.074690</td>\n",
       "      <td>2.735310</td>\n",
       "      <td>2017</td>\n",
       "    </tr>\n",
       "    <tr>\n",
       "      <th>154</th>\n",
       "      <td>Central African Republic</td>\n",
       "      <td>2.066005</td>\n",
       "      <td>0.000000</td>\n",
       "      <td>0.000000</td>\n",
       "      <td>0.270842</td>\n",
       "      <td>0.280876</td>\n",
       "      <td>155</td>\n",
       "      <td>2.693</td>\n",
       "      <td>0.018773</td>\n",
       "      <td>NaN</td>\n",
       "      <td>NaN</td>\n",
       "      <td>NaN</td>\n",
       "      <td>0.056565</td>\n",
       "      <td>NaN</td>\n",
       "      <td>2.864884</td>\n",
       "      <td>2.521116</td>\n",
       "      <td>2017</td>\n",
       "    </tr>\n",
       "  </tbody>\n",
       "</table>\n",
       "<p>470 rows × 17 columns</p>\n",
       "</div>"
      ],
      "text/plain": [
       "                      Country  Dystopia Residual  Economy (GDP per Capita)  \\\n",
       "0                 Switzerland           2.517380                  1.396510   \n",
       "1                     Iceland           2.702010                  1.302320   \n",
       "2                     Denmark           2.492040                  1.325480   \n",
       "3                      Norway           2.465310                  1.459000   \n",
       "4                      Canada           2.451760                  1.326290   \n",
       "5                     Finland           2.619550                  1.290250   \n",
       "6                 Netherlands           2.465700                  1.329440   \n",
       "7                      Sweden           2.371190                  1.331710   \n",
       "8                 New Zealand           2.264250                  1.250180   \n",
       "9                   Australia           2.266460                  1.333580   \n",
       "10                     Israel           3.088540                  1.228570   \n",
       "11                 Costa Rica           3.177280                  0.955780   \n",
       "12                    Austria           2.533200                  1.337230   \n",
       "13                     Mexico           3.602140                  1.020540   \n",
       "14              United States           2.510110                  1.394510   \n",
       "15                     Brazil           3.260010                  0.981240   \n",
       "16                 Luxembourg           1.969610                  1.563910   \n",
       "17                    Ireland           1.975700                  1.335960   \n",
       "18                    Belgium           2.414840                  1.307820   \n",
       "19       United Arab Emirates           2.247430                  1.427270   \n",
       "20             United Kingdom           1.969940                  1.266370   \n",
       "21                       Oman           2.474890                  1.360110   \n",
       "22                  Venezuela           3.191310                  1.044240   \n",
       "23                  Singapore           1.885010                  1.521860   \n",
       "24                     Panama           2.848480                  1.063530   \n",
       "25                    Germany           2.115690                  1.327920   \n",
       "26                      Chile           2.675850                  1.107150   \n",
       "27                      Qatar           1.556740                  1.690420   \n",
       "28                     France           2.211260                  1.277780   \n",
       "29                  Argentina           2.836000                  1.053510   \n",
       "..                        ...                ...                       ...   \n",
       "125          Congo (Kinshasa)           2.224959                  0.092102   \n",
       "126                      Mali           1.668191                  0.476180   \n",
       "127               Ivory Coast           1.844964                  0.603049   \n",
       "128                  Cambodia           1.042941                  0.601765   \n",
       "129                     Sudan           1.687066                  0.659517   \n",
       "130                     Ghana           1.577868                  0.667225   \n",
       "131                   Ukraine           0.814382                  0.894652   \n",
       "132                    Uganda           1.526363                  0.381431   \n",
       "133              Burkina Faso           1.727213                  0.350228   \n",
       "134                     Niger           1.873983                  0.161925   \n",
       "135                    Malawi           2.081786                  0.233442   \n",
       "136                      Chad           2.071238                  0.438013   \n",
       "137                  Zimbabwe           1.597970                  0.375847   \n",
       "138                   Lesotho           1.429835                  0.521021   \n",
       "139                    Angola           1.614482                  0.858428   \n",
       "140               Afghanistan           2.150801                  0.401477   \n",
       "141                  Botswana           0.377914                  1.122094   \n",
       "142                     Benin           1.885631                  0.431085   \n",
       "143                Madagascar           1.584613                  0.305809   \n",
       "144                     Haiti           1.697168                  0.368610   \n",
       "145                     Yemen           1.345601                  0.591683   \n",
       "146               South Sudan           1.879567                  0.397249   \n",
       "147                   Liberia           1.673286                  0.119042   \n",
       "148                    Guinea           1.552312                  0.244550   \n",
       "149                      Togo           1.837229                  0.305445   \n",
       "150                    Rwanda           0.540061                  0.368746   \n",
       "151                     Syria           1.061574                  0.777153   \n",
       "152                  Tanzania           0.621130                  0.511136   \n",
       "153                   Burundi           1.683024                  0.091623   \n",
       "154  Central African Republic           2.066005                  0.000000   \n",
       "\n",
       "       Family   Freedom  Generosity  Happiness Rank  Happiness Score  \\\n",
       "0    1.349510  0.665570    0.296780               1            7.587   \n",
       "1    1.402230  0.628770    0.436300               2            7.561   \n",
       "2    1.360580  0.649380    0.341390               3            7.527   \n",
       "3    1.330950  0.669730    0.346990               4            7.522   \n",
       "4    1.322610  0.632970    0.458110               5            7.427   \n",
       "5    1.318260  0.641690    0.233510               6            7.406   \n",
       "6    1.280170  0.615760    0.476100               7            7.378   \n",
       "7    1.289070  0.659800    0.362620               8            7.364   \n",
       "8    1.319670  0.639380    0.475010               9            7.286   \n",
       "9    1.309230  0.651240    0.435620              10            7.284   \n",
       "10   1.223930  0.413190    0.331720              11            7.278   \n",
       "11   1.237880  0.633760    0.254970              12            7.226   \n",
       "12   1.297040  0.624330    0.330880              13            7.200   \n",
       "13   0.914510  0.481810    0.140740              14            7.187   \n",
       "14   1.247110  0.546040    0.401050              15            7.119   \n",
       "15   1.232870  0.490490    0.145740              16            6.983   \n",
       "16   1.219630  0.615830    0.280340              17            6.946   \n",
       "17   1.369480  0.617770    0.459010              18            6.940   \n",
       "18   1.285660  0.584500    0.222500              19            6.937   \n",
       "19   1.125750  0.641570    0.264280              20            6.901   \n",
       "20   1.285480  0.596250    0.519120              21            6.867   \n",
       "21   1.081820  0.632740    0.215420              22            6.853   \n",
       "22   1.255960  0.429080    0.058410              23            6.810   \n",
       "23   1.020000  0.542520    0.311050              24            6.798   \n",
       "24   1.198500  0.542100    0.244340              25            6.786   \n",
       "25   1.299370  0.614770    0.282140              26            6.750   \n",
       "26   1.124470  0.441320    0.333630              27            6.670   \n",
       "27   1.078600  0.640400    0.325730              28            6.611   \n",
       "28   1.260380  0.550110    0.123320              29            6.575   \n",
       "29   1.248230  0.449740    0.114510              30            6.574   \n",
       "..        ...       ...         ...             ...              ...   \n",
       "125  1.229023  0.235961    0.246456             126            4.280   \n",
       "126  1.281473  0.306614    0.183354             127            4.190   \n",
       "127  0.904780  0.447706    0.201237             128            4.180   \n",
       "128  1.006238  0.633376    0.385923             129            4.168   \n",
       "129  1.214009  0.014996    0.182317             130            4.139   \n",
       "130  0.873665  0.423026    0.256924             131            4.120   \n",
       "131  1.394538  0.122975    0.270061             132            4.096   \n",
       "132  1.129828  0.443186    0.325766             133            4.081   \n",
       "133  1.043280  0.324368    0.250865             134            4.032   \n",
       "134  0.993025  0.363659    0.228674             135            4.028   \n",
       "135  0.512569  0.466915    0.287170             136            3.970   \n",
       "136  0.953856  0.162342    0.216114             137            3.936   \n",
       "137  1.083096  0.336384    0.189143             138            3.875   \n",
       "138  1.190095  0.390661    0.157497             139            3.808   \n",
       "139  1.104412  0.000000    0.097926             140            3.795   \n",
       "140  0.581543  0.106180    0.311871             141            3.794   \n",
       "141  1.221555  0.505196    0.099348             142            3.766   \n",
       "142  0.435300  0.425963    0.207948             143            3.657   \n",
       "143  0.913020  0.189197    0.208733             144            3.644   \n",
       "144  0.640450  0.030370    0.489204             145            3.603   \n",
       "145  0.935382  0.249464    0.104125             146            3.593   \n",
       "146  0.601323  0.147062    0.285671             147            3.591   \n",
       "147  0.872118  0.332881    0.266550             148            3.533   \n",
       "148  0.791245  0.348588    0.264815             149            3.507   \n",
       "149  0.431883  0.380426    0.196896             150            3.495   \n",
       "150  0.945707  0.581844    0.252756             151            3.471   \n",
       "151  0.396103  0.081539    0.493664             152            3.462   \n",
       "152  1.041990  0.390018    0.354256             153            3.349   \n",
       "153  0.629794  0.059901    0.204435             154            2.905   \n",
       "154  0.000000  0.270842    0.280876             155            2.693   \n",
       "\n",
       "     Health (Life Expectancy)  Lower Confidence Interval  \\\n",
       "0                    0.941430                        NaN   \n",
       "1                    0.947840                        NaN   \n",
       "2                    0.874640                        NaN   \n",
       "3                    0.885210                        NaN   \n",
       "4                    0.905630                        NaN   \n",
       "5                    0.889110                        NaN   \n",
       "6                    0.892840                        NaN   \n",
       "7                    0.910870                        NaN   \n",
       "8                    0.908370                        NaN   \n",
       "9                    0.931560                        NaN   \n",
       "10                   0.913870                        NaN   \n",
       "11                   0.860270                        NaN   \n",
       "12                   0.890420                        NaN   \n",
       "13                   0.814440                        NaN   \n",
       "14                   0.861790                        NaN   \n",
       "15                   0.697020                        NaN   \n",
       "16                   0.918940                        NaN   \n",
       "17                   0.895330                        NaN   \n",
       "18                   0.896670                        NaN   \n",
       "19                   0.809250                        NaN   \n",
       "20                   0.909430                        NaN   \n",
       "21                   0.762760                        NaN   \n",
       "22                   0.720520                        NaN   \n",
       "23                   1.025250                        NaN   \n",
       "24                   0.796610                        NaN   \n",
       "25                   0.891860                        NaN   \n",
       "26                   0.858570                        NaN   \n",
       "27                   0.797330                        NaN   \n",
       "28                   0.945790                        NaN   \n",
       "29                   0.787230                        NaN   \n",
       "..                        ...                        ...   \n",
       "125                  0.191407                        NaN   \n",
       "126                  0.169366                        NaN   \n",
       "127                  0.048642                        NaN   \n",
       "128                  0.429783                        NaN   \n",
       "129                  0.290921                        NaN   \n",
       "130                  0.295638                        NaN   \n",
       "131                  0.575904                        NaN   \n",
       "132                  0.217633                        NaN   \n",
       "133                  0.215844                        NaN   \n",
       "134                  0.268505                        NaN   \n",
       "135                  0.315090                        NaN   \n",
       "136                  0.041135                        NaN   \n",
       "137                  0.196764                        NaN   \n",
       "138                  0.000000                        NaN   \n",
       "139                  0.049869                        NaN   \n",
       "140                  0.180747                        NaN   \n",
       "141                  0.341756                        NaN   \n",
       "142                  0.209930                        NaN   \n",
       "143                  0.375223                        NaN   \n",
       "144                  0.277321                        NaN   \n",
       "145                  0.310081                        NaN   \n",
       "146                  0.163486                        NaN   \n",
       "147                  0.229918                        NaN   \n",
       "148                  0.194129                        NaN   \n",
       "149                  0.247106                        NaN   \n",
       "150                  0.326425                        NaN   \n",
       "151                  0.500533                        NaN   \n",
       "152                  0.364509                        NaN   \n",
       "153                  0.151611                        NaN   \n",
       "154                  0.018773                        NaN   \n",
       "\n",
       "                              Region  Standard Error  \\\n",
       "0                     Western Europe         0.03411   \n",
       "1                     Western Europe         0.04884   \n",
       "2                     Western Europe         0.03328   \n",
       "3                     Western Europe         0.03880   \n",
       "4                      North America         0.03553   \n",
       "5                     Western Europe         0.03140   \n",
       "6                     Western Europe         0.02799   \n",
       "7                     Western Europe         0.03157   \n",
       "8          Australia and New Zealand         0.03371   \n",
       "9          Australia and New Zealand         0.04083   \n",
       "10   Middle East and Northern Africa         0.03470   \n",
       "11       Latin America and Caribbean         0.04454   \n",
       "12                    Western Europe         0.03751   \n",
       "13       Latin America and Caribbean         0.04176   \n",
       "14                     North America         0.03839   \n",
       "15       Latin America and Caribbean         0.04076   \n",
       "16                    Western Europe         0.03499   \n",
       "17                    Western Europe         0.03676   \n",
       "18                    Western Europe         0.03595   \n",
       "19   Middle East and Northern Africa         0.03729   \n",
       "20                    Western Europe         0.01866   \n",
       "21   Middle East and Northern Africa         0.05335   \n",
       "22       Latin America and Caribbean         0.06476   \n",
       "23                 Southeastern Asia         0.03780   \n",
       "24       Latin America and Caribbean         0.04910   \n",
       "25                    Western Europe         0.01848   \n",
       "26       Latin America and Caribbean         0.05800   \n",
       "27   Middle East and Northern Africa         0.06257   \n",
       "28                    Western Europe         0.03512   \n",
       "29       Latin America and Caribbean         0.04612   \n",
       "..                               ...             ...   \n",
       "125               Sub-Saharan Africa             NaN   \n",
       "126               Sub-Saharan Africa             NaN   \n",
       "127               Sub-Saharan Africa             NaN   \n",
       "128                Southeastern Asia             NaN   \n",
       "129               Sub-Saharan Africa             NaN   \n",
       "130               Sub-Saharan Africa             NaN   \n",
       "131       Central and Eastern Europe             NaN   \n",
       "132               Sub-Saharan Africa             NaN   \n",
       "133               Sub-Saharan Africa             NaN   \n",
       "134               Sub-Saharan Africa             NaN   \n",
       "135               Sub-Saharan Africa             NaN   \n",
       "136               Sub-Saharan Africa             NaN   \n",
       "137               Sub-Saharan Africa             NaN   \n",
       "138                              NaN             NaN   \n",
       "139               Sub-Saharan Africa             NaN   \n",
       "140                    Southern Asia             NaN   \n",
       "141               Sub-Saharan Africa             NaN   \n",
       "142               Sub-Saharan Africa             NaN   \n",
       "143               Sub-Saharan Africa             NaN   \n",
       "144      Latin America and Caribbean             NaN   \n",
       "145  Middle East and Northern Africa             NaN   \n",
       "146               Sub-Saharan Africa             NaN   \n",
       "147               Sub-Saharan Africa             NaN   \n",
       "148               Sub-Saharan Africa             NaN   \n",
       "149               Sub-Saharan Africa             NaN   \n",
       "150               Sub-Saharan Africa             NaN   \n",
       "151  Middle East and Northern Africa             NaN   \n",
       "152               Sub-Saharan Africa             NaN   \n",
       "153               Sub-Saharan Africa             NaN   \n",
       "154                              NaN             NaN   \n",
       "\n",
       "     Trust (Government Corruption)  Upper Confidence Interval  Whisker.high  \\\n",
       "0                         0.419780                        NaN           NaN   \n",
       "1                         0.141450                        NaN           NaN   \n",
       "2                         0.483570                        NaN           NaN   \n",
       "3                         0.365030                        NaN           NaN   \n",
       "4                         0.329570                        NaN           NaN   \n",
       "5                         0.413720                        NaN           NaN   \n",
       "6                         0.318140                        NaN           NaN   \n",
       "7                         0.438440                        NaN           NaN   \n",
       "8                         0.429220                        NaN           NaN   \n",
       "9                         0.356370                        NaN           NaN   \n",
       "10                        0.077850                        NaN           NaN   \n",
       "11                        0.105830                        NaN           NaN   \n",
       "12                        0.186760                        NaN           NaN   \n",
       "13                        0.213120                        NaN           NaN   \n",
       "14                        0.158900                        NaN           NaN   \n",
       "15                        0.175210                        NaN           NaN   \n",
       "16                        0.377980                        NaN           NaN   \n",
       "17                        0.287030                        NaN           NaN   \n",
       "18                        0.225400                        NaN           NaN   \n",
       "19                        0.385830                        NaN           NaN   \n",
       "20                        0.320670                        NaN           NaN   \n",
       "21                        0.325240                        NaN           NaN   \n",
       "22                        0.110690                        NaN           NaN   \n",
       "23                        0.492100                        NaN           NaN   \n",
       "24                        0.092700                        NaN           NaN   \n",
       "25                        0.218430                        NaN           NaN   \n",
       "26                        0.128690                        NaN           NaN   \n",
       "27                        0.522080                        NaN           NaN   \n",
       "28                        0.206460                        NaN           NaN   \n",
       "29                        0.084840                        NaN           NaN   \n",
       "..                             ...                        ...           ...   \n",
       "125                       0.060241                        NaN      4.357811   \n",
       "126                       0.104970                        NaN      4.269671   \n",
       "127                       0.130062                        NaN      4.275183   \n",
       "128                       0.068106                        NaN      4.278518   \n",
       "129                       0.089848                        NaN      4.345747   \n",
       "130                       0.025336                        NaN      4.222707   \n",
       "131                       0.023029                        NaN      4.185410   \n",
       "132                       0.057070                        NaN      4.195800   \n",
       "133                       0.120328                        NaN      4.124059   \n",
       "134                       0.138573                        NaN      4.111947   \n",
       "135                       0.072712                        NaN      4.077479   \n",
       "136                       0.053582                        NaN      4.034712   \n",
       "137                       0.095375                        NaN      3.978700   \n",
       "138                       0.119095                        NaN      4.044344   \n",
       "139                       0.069720                        NaN      3.951642   \n",
       "140                       0.061158                        NaN      3.873661   \n",
       "141                       0.098583                        NaN      3.874123   \n",
       "142                       0.060929                        NaN      3.745784   \n",
       "143                       0.067232                        NaN      3.714319   \n",
       "144                       0.099872                        NaN      3.734715   \n",
       "145                       0.056767                        NaN      3.692750   \n",
       "146                       0.116794                        NaN      3.725539   \n",
       "147                       0.038948                        NaN      3.653756   \n",
       "148                       0.110938                        NaN      3.584428   \n",
       "149                       0.095665                        NaN      3.594038   \n",
       "150                       0.455220                        NaN      3.543030   \n",
       "151                       0.151347                        NaN      3.663669   \n",
       "152                       0.066035                        NaN      3.461430   \n",
       "153                       0.084148                        NaN      3.074690   \n",
       "154                       0.056565                        NaN      2.864884   \n",
       "\n",
       "     Whisker.low  year  \n",
       "0            NaN  2015  \n",
       "1            NaN  2015  \n",
       "2            NaN  2015  \n",
       "3            NaN  2015  \n",
       "4            NaN  2015  \n",
       "5            NaN  2015  \n",
       "6            NaN  2015  \n",
       "7            NaN  2015  \n",
       "8            NaN  2015  \n",
       "9            NaN  2015  \n",
       "10           NaN  2015  \n",
       "11           NaN  2015  \n",
       "12           NaN  2015  \n",
       "13           NaN  2015  \n",
       "14           NaN  2015  \n",
       "15           NaN  2015  \n",
       "16           NaN  2015  \n",
       "17           NaN  2015  \n",
       "18           NaN  2015  \n",
       "19           NaN  2015  \n",
       "20           NaN  2015  \n",
       "21           NaN  2015  \n",
       "22           NaN  2015  \n",
       "23           NaN  2015  \n",
       "24           NaN  2015  \n",
       "25           NaN  2015  \n",
       "26           NaN  2015  \n",
       "27           NaN  2015  \n",
       "28           NaN  2015  \n",
       "29           NaN  2015  \n",
       "..           ...   ...  \n",
       "125     4.202190  2017  \n",
       "126     4.110329  2017  \n",
       "127     4.084817  2017  \n",
       "128     4.057483  2017  \n",
       "129     3.932253  2017  \n",
       "130     4.017293  2017  \n",
       "131     4.006590  2017  \n",
       "132     3.966200  2017  \n",
       "133     3.939941  2017  \n",
       "134     3.944053  2017  \n",
       "135     3.862521  2017  \n",
       "136     3.837289  2017  \n",
       "137     3.771300  2017  \n",
       "138     3.571656  2017  \n",
       "139     3.638358  2017  \n",
       "140     3.714338  2017  \n",
       "141     3.657877  2017  \n",
       "142     3.568217  2017  \n",
       "143     3.573681  2017  \n",
       "144     3.471285  2017  \n",
       "145     3.493250  2017  \n",
       "146     3.456462  2017  \n",
       "147     3.412244  2017  \n",
       "148     3.429572  2017  \n",
       "149     3.395962  2017  \n",
       "150     3.398970  2017  \n",
       "151     3.260331  2017  \n",
       "152     3.236570  2017  \n",
       "153     2.735310  2017  \n",
       "154     2.521116  2017  \n",
       "\n",
       "[470 rows x 17 columns]"
      ]
     },
     "execution_count": 55,
     "metadata": {},
     "output_type": "execute_result"
    }
   ],
   "source": [
    "s"
   ]
  },
  {
   "cell_type": "code",
   "execution_count": 84,
   "metadata": {},
   "outputs": [],
   "source": [
    "# top_country = stacked_data.groupby('year').apply(lambda x: x.sort_values([\"Happiness Score\"], ascending = False))\n",
    "# top_country\n",
    "\n",
    "#df.loc[df.reset_index().groupby(['F_Type'])['to_date'].idxmax()]\n",
    "gapminder\n",
    "df = stacked_data.merge(gapminder[['country', 'iso_alpha']], how = 'left', left_on = \"Country\", right_on = \"country\" )"
   ]
  },
  {
   "cell_type": "code",
   "execution_count": 94,
   "metadata": {},
   "outputs": [
    {
     "data": {
      "application/vnd.plotly.v1+json": {
       "config": {
        "plotlyServerURL": "https://plot.ly"
       },
       "data": [
        {
         "coloraxis": "coloraxis",
         "geo": "geo",
         "hoverlabel": {
          "namelength": 0
         },
         "hovertemplate": "<b>%{hovertext}</b><br><br>iso_alpha=%{location}<br>Health (Life Expectancy)=%{z}",
         "hovertext": [
          "Norway",
          "Denmark",
          "Iceland",
          "Switzerland",
          "Finland",
          "Netherlands",
          "Canada",
          "New Zealand",
          "Sweden",
          "Australia",
          "Israel",
          "Costa Rica",
          "Austria",
          "United States",
          "Ireland",
          "Germany",
          "Belgium",
          "Luxembourg",
          "United Kingdom",
          "Chile",
          "United Arab Emirates",
          "Brazil",
          "Czech Republic",
          "Argentina",
          "Mexico",
          "Singapore",
          "Malta",
          "Uruguay",
          "Guatemala",
          "Panama",
          "France",
          "Thailand",
          "Taiwan",
          "Spain",
          "Qatar",
          "Colombia",
          "Saudi Arabia",
          "Trinidad and Tobago",
          "Kuwait",
          "Slovakia",
          "Bahrain",
          "Malaysia",
          "Nicaragua",
          "Ecuador",
          "El Salvador",
          "Poland",
          "Uzbekistan",
          "Italy",
          "Russia",
          "Belize",
          "Japan",
          "Lithuania",
          "Algeria",
          "Latvia",
          "South Korea",
          "Moldova",
          "Romania",
          "Bolivia",
          "Turkmenistan",
          "Kazakhstan",
          "North Cyprus",
          "Slovenia",
          "Peru",
          "Mauritius",
          "Cyprus",
          "Estonia",
          "Belarus",
          "Libya",
          "Turkey",
          "Paraguay",
          "Hong Kong",
          "Philippines",
          "Serbia",
          "Jordan",
          "Hungary",
          "Jamaica",
          "Croatia",
          "Kosovo",
          "China",
          "Pakistan",
          "Indonesia",
          "Venezuela",
          "Montenegro",
          "Morocco",
          "Azerbaijan",
          "Dominican Republic",
          "Greece",
          "Lebanon",
          "Portugal",
          "Bosnia and Herzegovina",
          "Honduras",
          "Macedonia",
          "Somalia",
          "Vietnam",
          "Nigeria",
          "Tajikistan",
          "Bhutan",
          "Kyrgyzstan",
          "Nepal",
          "Mongolia",
          "South Africa",
          "Tunisia",
          "Palestinian Territories",
          "Egypt",
          "Bulgaria",
          "Sierra Leone",
          "Cameroon",
          "Iran",
          "Albania",
          "Bangladesh",
          "Namibia",
          "Kenya",
          "Mozambique",
          "Myanmar",
          "Senegal",
          "Zambia",
          "Iraq",
          "Gabon",
          "Ethiopia",
          "Sri Lanka",
          "Armenia",
          "India",
          "Mauritania",
          "Congo (Brazzaville)",
          "Georgia",
          "Congo (Kinshasa)",
          "Mali",
          "Ivory Coast",
          "Cambodia",
          "Sudan",
          "Ghana",
          "Ukraine",
          "Uganda",
          "Burkina Faso",
          "Niger",
          "Malawi",
          "Chad",
          "Zimbabwe",
          "Lesotho",
          "Angola",
          "Afghanistan",
          "Botswana",
          "Benin",
          "Madagascar",
          "Haiti",
          "Yemen",
          "South Sudan",
          "Liberia",
          "Guinea",
          "Togo",
          "Rwanda",
          "Syria",
          "Tanzania",
          "Burundi",
          "Central African Republic"
         ],
         "locations": [
          "NOR",
          "DNK",
          "ISL",
          "CHE",
          "FIN",
          "NLD",
          "CAN",
          "NZL",
          "SWE",
          "AUS",
          "ISR",
          "CRI",
          "AUT",
          "USA",
          "IRL",
          "DEU",
          "BEL",
          null,
          "GBR",
          "CHL",
          null,
          "BRA",
          "CZE",
          "ARG",
          "MEX",
          "SGP",
          null,
          "URY",
          "GTM",
          "PAN",
          "FRA",
          "THA",
          "TWN",
          "ESP",
          null,
          "COL",
          "SAU",
          "TTO",
          "KWT",
          null,
          "BHR",
          "MYS",
          "NIC",
          "ECU",
          "SLV",
          "POL",
          null,
          "ITA",
          null,
          null,
          "JPN",
          null,
          "DZA",
          null,
          null,
          null,
          "ROU",
          "BOL",
          null,
          null,
          null,
          "SVN",
          "PER",
          "MUS",
          null,
          null,
          null,
          "LBY",
          "TUR",
          "PRY",
          null,
          "PHL",
          "SRB",
          "JOR",
          "HUN",
          "JAM",
          "HRV",
          null,
          "CHN",
          "PAK",
          "IDN",
          "VEN",
          "MNE",
          "MAR",
          null,
          "DOM",
          "GRC",
          "LBN",
          "PRT",
          "BIH",
          "HND",
          null,
          "SOM",
          "VNM",
          "NGA",
          null,
          null,
          null,
          "NPL",
          "MNG",
          "ZAF",
          "TUN",
          null,
          "EGY",
          "BGR",
          "SLE",
          "CMR",
          "IRN",
          "ALB",
          "BGD",
          "NAM",
          "KEN",
          "MOZ",
          "MMR",
          "SEN",
          "ZMB",
          "IRQ",
          "GAB",
          "ETH",
          "LKA",
          null,
          "IND",
          "MRT",
          null,
          null,
          null,
          "MLI",
          null,
          "KHM",
          "SDN",
          "GHA",
          null,
          "UGA",
          "BFA",
          "NER",
          "MWI",
          "TCD",
          "ZWE",
          "LSO",
          "AGO",
          "AFG",
          "BWA",
          "BEN",
          "MDG",
          "HTI",
          null,
          null,
          "LBR",
          "GIN",
          "TGO",
          "RWA",
          "SYR",
          "TZA",
          "BDI",
          "CAF"
         ],
         "name": "",
         "type": "choropleth",
         "z": [
          0.796666502952576,
          0.7925655245780941,
          0.8335521221160892,
          0.858131289482117,
          0.80915766954422,
          0.8106961250305179,
          0.83455765247345,
          0.816759705543518,
          0.830875158309937,
          0.84388679265976,
          0.83840399980545,
          0.7595092654228209,
          0.8153284192085269,
          0.7742866277694699,
          0.8097826242446899,
          0.798950731754303,
          0.8180918693542479,
          0.845089495182037,
          0.805335938930511,
          0.8194797039031979,
          0.726798236370087,
          0.6165523529052729,
          0.754444003105164,
          0.695137083530426,
          0.709978997707367,
          0.9494923949241642,
          0.821944236755371,
          0.719216823577881,
          0.540239989757538,
          0.706156134605408,
          0.8444658517837521,
          0.647239029407501,
          0.793984234333038,
          0.888960599899292,
          0.7100980877876278,
          0.595027923583984,
          0.590148329734802,
          0.5199832916259771,
          0.6321057081222529,
          0.712732911109924,
          0.653133034706116,
          0.618784427642822,
          0.6530959606170649,
          0.685636222362518,
          0.596018552780151,
          0.699475347995758,
          0.498272627592087,
          0.8531443476676941,
          0.547349333763123,
          0.45019176602363603,
          0.9134758710861209,
          0.62894994020462,
          0.6175846457481379,
          0.638566970825195,
          0.900214076042175,
          0.5894652009010309,
          0.6851583123207089,
          0.47363024950027505,
          0.437726080417633,
          0.6060415506362921,
          0.834647238254547,
          0.7908282279968258,
          0.6301661133766171,
          0.6380074620246889,
          0.84471470117569,
          0.695168316364288,
          0.6377142667770389,
          0.520169019699097,
          0.6376056075096129,
          0.579250693321228,
          0.943062424659729,
          0.46800905466079706,
          0.65078467130661,
          0.6045900583267211,
          0.6877634525299069,
          0.6410223841667181,
          0.701288521289825,
          0.541452050209045,
          0.741415500640869,
          0.40204778313636796,
          0.49234572052955605,
          0.617144227027893,
          0.6674646735191351,
          0.59771066904068,
          0.5407757759094239,
          0.574873745441437,
          0.8101989030838009,
          0.7350810766220089,
          0.795843541622162,
          0.705186307430267,
          0.582569479942322,
          0.644948184490204,
          0.11398913711309401,
          0.6521689891815191,
          0.0569157302379608,
          0.5292351245880129,
          0.495879292488098,
          0.553457796573639,
          0.504130780696869,
          0.557783484458923,
          0.18708007037639604,
          0.613212049007416,
          0.565666973590851,
          0.520187258720398,
          0.708217680454254,
          0.005564753897488121,
          0.132892116904259,
          0.639333188533783,
          0.731159746646881,
          0.533241033554077,
          0.33861181139946,
          0.30998834967613204,
          0.10665443539619399,
          0.397522568702698,
          0.409362852573395,
          0.25783589482307395,
          0.501180469989777,
          0.35657858848571794,
          0.35340970754623396,
          0.625130832195282,
          0.637524425983429,
          0.455427616834641,
          0.285349279642105,
          0.28995743393898,
          0.649546980857849,
          0.191407024860382,
          0.16936567425727803,
          0.0486421696841717,
          0.429783403873444,
          0.290920823812485,
          0.29563772678375205,
          0.575903952121735,
          0.21763260662555703,
          0.21584425866603896,
          0.26850500702858,
          0.315089583396912,
          0.0411347150802612,
          0.19676375389099102,
          0,
          0.0498686656355858,
          0.18074677884578697,
          0.34175550937652605,
          0.20993021130561804,
          0.375223308801651,
          0.277321130037308,
          0.310080915689468,
          0.163486003875732,
          0.229918196797371,
          0.194129139184952,
          0.247105568647385,
          0.326424807310104,
          0.5005333423614501,
          0.364509284496307,
          0.151610791683197,
          0.0187726859003305
         ]
        }
       ],
       "layout": {
        "coloraxis": {
         "colorbar": {
          "title": {
           "text": "Health (Life Expectancy)"
          }
         },
         "colorscale": [
          [
           0,
           "rgb(0,0,0)"
          ],
          [
           0.3333333333333333,
           "rgb(230,0,0)"
          ],
          [
           0.6666666666666666,
           "rgb(255,210,0)"
          ],
          [
           1,
           "rgb(255,255,255)"
          ]
         ]
        },
        "geo": {
         "center": {},
         "domain": {
          "x": [
           0,
           1
          ],
          "y": [
           0,
           1
          ]
         }
        },
        "height": 600,
        "legend": {
         "tracegroupgap": 0
        },
        "margin": {
         "t": 60
        },
        "template": {
         "data": {
          "bar": [
           {
            "error_x": {
             "color": "#2a3f5f"
            },
            "error_y": {
             "color": "#2a3f5f"
            },
            "marker": {
             "line": {
              "color": "#E5ECF6",
              "width": 0.5
             }
            },
            "type": "bar"
           }
          ],
          "barpolar": [
           {
            "marker": {
             "line": {
              "color": "#E5ECF6",
              "width": 0.5
             }
            },
            "type": "barpolar"
           }
          ],
          "carpet": [
           {
            "aaxis": {
             "endlinecolor": "#2a3f5f",
             "gridcolor": "white",
             "linecolor": "white",
             "minorgridcolor": "white",
             "startlinecolor": "#2a3f5f"
            },
            "baxis": {
             "endlinecolor": "#2a3f5f",
             "gridcolor": "white",
             "linecolor": "white",
             "minorgridcolor": "white",
             "startlinecolor": "#2a3f5f"
            },
            "type": "carpet"
           }
          ],
          "choropleth": [
           {
            "colorbar": {
             "outlinewidth": 0,
             "ticks": ""
            },
            "type": "choropleth"
           }
          ],
          "contour": [
           {
            "colorbar": {
             "outlinewidth": 0,
             "ticks": ""
            },
            "colorscale": [
             [
              0,
              "#0d0887"
             ],
             [
              0.1111111111111111,
              "#46039f"
             ],
             [
              0.2222222222222222,
              "#7201a8"
             ],
             [
              0.3333333333333333,
              "#9c179e"
             ],
             [
              0.4444444444444444,
              "#bd3786"
             ],
             [
              0.5555555555555556,
              "#d8576b"
             ],
             [
              0.6666666666666666,
              "#ed7953"
             ],
             [
              0.7777777777777778,
              "#fb9f3a"
             ],
             [
              0.8888888888888888,
              "#fdca26"
             ],
             [
              1,
              "#f0f921"
             ]
            ],
            "type": "contour"
           }
          ],
          "contourcarpet": [
           {
            "colorbar": {
             "outlinewidth": 0,
             "ticks": ""
            },
            "type": "contourcarpet"
           }
          ],
          "heatmap": [
           {
            "colorbar": {
             "outlinewidth": 0,
             "ticks": ""
            },
            "colorscale": [
             [
              0,
              "#0d0887"
             ],
             [
              0.1111111111111111,
              "#46039f"
             ],
             [
              0.2222222222222222,
              "#7201a8"
             ],
             [
              0.3333333333333333,
              "#9c179e"
             ],
             [
              0.4444444444444444,
              "#bd3786"
             ],
             [
              0.5555555555555556,
              "#d8576b"
             ],
             [
              0.6666666666666666,
              "#ed7953"
             ],
             [
              0.7777777777777778,
              "#fb9f3a"
             ],
             [
              0.8888888888888888,
              "#fdca26"
             ],
             [
              1,
              "#f0f921"
             ]
            ],
            "type": "heatmap"
           }
          ],
          "heatmapgl": [
           {
            "colorbar": {
             "outlinewidth": 0,
             "ticks": ""
            },
            "colorscale": [
             [
              0,
              "#0d0887"
             ],
             [
              0.1111111111111111,
              "#46039f"
             ],
             [
              0.2222222222222222,
              "#7201a8"
             ],
             [
              0.3333333333333333,
              "#9c179e"
             ],
             [
              0.4444444444444444,
              "#bd3786"
             ],
             [
              0.5555555555555556,
              "#d8576b"
             ],
             [
              0.6666666666666666,
              "#ed7953"
             ],
             [
              0.7777777777777778,
              "#fb9f3a"
             ],
             [
              0.8888888888888888,
              "#fdca26"
             ],
             [
              1,
              "#f0f921"
             ]
            ],
            "type": "heatmapgl"
           }
          ],
          "histogram": [
           {
            "marker": {
             "colorbar": {
              "outlinewidth": 0,
              "ticks": ""
             }
            },
            "type": "histogram"
           }
          ],
          "histogram2d": [
           {
            "colorbar": {
             "outlinewidth": 0,
             "ticks": ""
            },
            "colorscale": [
             [
              0,
              "#0d0887"
             ],
             [
              0.1111111111111111,
              "#46039f"
             ],
             [
              0.2222222222222222,
              "#7201a8"
             ],
             [
              0.3333333333333333,
              "#9c179e"
             ],
             [
              0.4444444444444444,
              "#bd3786"
             ],
             [
              0.5555555555555556,
              "#d8576b"
             ],
             [
              0.6666666666666666,
              "#ed7953"
             ],
             [
              0.7777777777777778,
              "#fb9f3a"
             ],
             [
              0.8888888888888888,
              "#fdca26"
             ],
             [
              1,
              "#f0f921"
             ]
            ],
            "type": "histogram2d"
           }
          ],
          "histogram2dcontour": [
           {
            "colorbar": {
             "outlinewidth": 0,
             "ticks": ""
            },
            "colorscale": [
             [
              0,
              "#0d0887"
             ],
             [
              0.1111111111111111,
              "#46039f"
             ],
             [
              0.2222222222222222,
              "#7201a8"
             ],
             [
              0.3333333333333333,
              "#9c179e"
             ],
             [
              0.4444444444444444,
              "#bd3786"
             ],
             [
              0.5555555555555556,
              "#d8576b"
             ],
             [
              0.6666666666666666,
              "#ed7953"
             ],
             [
              0.7777777777777778,
              "#fb9f3a"
             ],
             [
              0.8888888888888888,
              "#fdca26"
             ],
             [
              1,
              "#f0f921"
             ]
            ],
            "type": "histogram2dcontour"
           }
          ],
          "mesh3d": [
           {
            "colorbar": {
             "outlinewidth": 0,
             "ticks": ""
            },
            "type": "mesh3d"
           }
          ],
          "parcoords": [
           {
            "line": {
             "colorbar": {
              "outlinewidth": 0,
              "ticks": ""
             }
            },
            "type": "parcoords"
           }
          ],
          "pie": [
           {
            "automargin": true,
            "type": "pie"
           }
          ],
          "scatter": [
           {
            "marker": {
             "colorbar": {
              "outlinewidth": 0,
              "ticks": ""
             }
            },
            "type": "scatter"
           }
          ],
          "scatter3d": [
           {
            "line": {
             "colorbar": {
              "outlinewidth": 0,
              "ticks": ""
             }
            },
            "marker": {
             "colorbar": {
              "outlinewidth": 0,
              "ticks": ""
             }
            },
            "type": "scatter3d"
           }
          ],
          "scattercarpet": [
           {
            "marker": {
             "colorbar": {
              "outlinewidth": 0,
              "ticks": ""
             }
            },
            "type": "scattercarpet"
           }
          ],
          "scattergeo": [
           {
            "marker": {
             "colorbar": {
              "outlinewidth": 0,
              "ticks": ""
             }
            },
            "type": "scattergeo"
           }
          ],
          "scattergl": [
           {
            "marker": {
             "colorbar": {
              "outlinewidth": 0,
              "ticks": ""
             }
            },
            "type": "scattergl"
           }
          ],
          "scattermapbox": [
           {
            "marker": {
             "colorbar": {
              "outlinewidth": 0,
              "ticks": ""
             }
            },
            "type": "scattermapbox"
           }
          ],
          "scatterpolar": [
           {
            "marker": {
             "colorbar": {
              "outlinewidth": 0,
              "ticks": ""
             }
            },
            "type": "scatterpolar"
           }
          ],
          "scatterpolargl": [
           {
            "marker": {
             "colorbar": {
              "outlinewidth": 0,
              "ticks": ""
             }
            },
            "type": "scatterpolargl"
           }
          ],
          "scatterternary": [
           {
            "marker": {
             "colorbar": {
              "outlinewidth": 0,
              "ticks": ""
             }
            },
            "type": "scatterternary"
           }
          ],
          "surface": [
           {
            "colorbar": {
             "outlinewidth": 0,
             "ticks": ""
            },
            "colorscale": [
             [
              0,
              "#0d0887"
             ],
             [
              0.1111111111111111,
              "#46039f"
             ],
             [
              0.2222222222222222,
              "#7201a8"
             ],
             [
              0.3333333333333333,
              "#9c179e"
             ],
             [
              0.4444444444444444,
              "#bd3786"
             ],
             [
              0.5555555555555556,
              "#d8576b"
             ],
             [
              0.6666666666666666,
              "#ed7953"
             ],
             [
              0.7777777777777778,
              "#fb9f3a"
             ],
             [
              0.8888888888888888,
              "#fdca26"
             ],
             [
              1,
              "#f0f921"
             ]
            ],
            "type": "surface"
           }
          ],
          "table": [
           {
            "cells": {
             "fill": {
              "color": "#EBF0F8"
             },
             "line": {
              "color": "white"
             }
            },
            "header": {
             "fill": {
              "color": "#C8D4E3"
             },
             "line": {
              "color": "white"
             }
            },
            "type": "table"
           }
          ]
         },
         "layout": {
          "annotationdefaults": {
           "arrowcolor": "#2a3f5f",
           "arrowhead": 0,
           "arrowwidth": 1
          },
          "coloraxis": {
           "colorbar": {
            "outlinewidth": 0,
            "ticks": ""
           }
          },
          "colorscale": {
           "diverging": [
            [
             0,
             "#8e0152"
            ],
            [
             0.1,
             "#c51b7d"
            ],
            [
             0.2,
             "#de77ae"
            ],
            [
             0.3,
             "#f1b6da"
            ],
            [
             0.4,
             "#fde0ef"
            ],
            [
             0.5,
             "#f7f7f7"
            ],
            [
             0.6,
             "#e6f5d0"
            ],
            [
             0.7,
             "#b8e186"
            ],
            [
             0.8,
             "#7fbc41"
            ],
            [
             0.9,
             "#4d9221"
            ],
            [
             1,
             "#276419"
            ]
           ],
           "sequential": [
            [
             0,
             "#0d0887"
            ],
            [
             0.1111111111111111,
             "#46039f"
            ],
            [
             0.2222222222222222,
             "#7201a8"
            ],
            [
             0.3333333333333333,
             "#9c179e"
            ],
            [
             0.4444444444444444,
             "#bd3786"
            ],
            [
             0.5555555555555556,
             "#d8576b"
            ],
            [
             0.6666666666666666,
             "#ed7953"
            ],
            [
             0.7777777777777778,
             "#fb9f3a"
            ],
            [
             0.8888888888888888,
             "#fdca26"
            ],
            [
             1,
             "#f0f921"
            ]
           ],
           "sequentialminus": [
            [
             0,
             "#0d0887"
            ],
            [
             0.1111111111111111,
             "#46039f"
            ],
            [
             0.2222222222222222,
             "#7201a8"
            ],
            [
             0.3333333333333333,
             "#9c179e"
            ],
            [
             0.4444444444444444,
             "#bd3786"
            ],
            [
             0.5555555555555556,
             "#d8576b"
            ],
            [
             0.6666666666666666,
             "#ed7953"
            ],
            [
             0.7777777777777778,
             "#fb9f3a"
            ],
            [
             0.8888888888888888,
             "#fdca26"
            ],
            [
             1,
             "#f0f921"
            ]
           ]
          },
          "colorway": [
           "#636efa",
           "#EF553B",
           "#00cc96",
           "#ab63fa",
           "#FFA15A",
           "#19d3f3",
           "#FF6692",
           "#B6E880",
           "#FF97FF",
           "#FECB52"
          ],
          "font": {
           "color": "#2a3f5f"
          },
          "geo": {
           "bgcolor": "white",
           "lakecolor": "white",
           "landcolor": "#E5ECF6",
           "showlakes": true,
           "showland": true,
           "subunitcolor": "white"
          },
          "hoverlabel": {
           "align": "left"
          },
          "hovermode": "closest",
          "mapbox": {
           "style": "light"
          },
          "paper_bgcolor": "white",
          "plot_bgcolor": "#E5ECF6",
          "polar": {
           "angularaxis": {
            "gridcolor": "white",
            "linecolor": "white",
            "ticks": ""
           },
           "bgcolor": "#E5ECF6",
           "radialaxis": {
            "gridcolor": "white",
            "linecolor": "white",
            "ticks": ""
           }
          },
          "scene": {
           "xaxis": {
            "backgroundcolor": "#E5ECF6",
            "gridcolor": "white",
            "gridwidth": 2,
            "linecolor": "white",
            "showbackground": true,
            "ticks": "",
            "zerolinecolor": "white"
           },
           "yaxis": {
            "backgroundcolor": "#E5ECF6",
            "gridcolor": "white",
            "gridwidth": 2,
            "linecolor": "white",
            "showbackground": true,
            "ticks": "",
            "zerolinecolor": "white"
           },
           "zaxis": {
            "backgroundcolor": "#E5ECF6",
            "gridcolor": "white",
            "gridwidth": 2,
            "linecolor": "white",
            "showbackground": true,
            "ticks": "",
            "zerolinecolor": "white"
           }
          },
          "shapedefaults": {
           "line": {
            "color": "#2a3f5f"
           }
          },
          "ternary": {
           "aaxis": {
            "gridcolor": "white",
            "linecolor": "white",
            "ticks": ""
           },
           "baxis": {
            "gridcolor": "white",
            "linecolor": "white",
            "ticks": ""
           },
           "bgcolor": "#E5ECF6",
           "caxis": {
            "gridcolor": "white",
            "linecolor": "white",
            "ticks": ""
           }
          },
          "title": {
           "x": 0.05
          },
          "xaxis": {
           "automargin": true,
           "gridcolor": "white",
           "linecolor": "white",
           "ticks": "",
           "title": {
            "standoff": 15
           },
           "zerolinecolor": "white",
           "zerolinewidth": 2
          },
          "yaxis": {
           "automargin": true,
           "gridcolor": "white",
           "linecolor": "white",
           "ticks": "",
           "title": {
            "standoff": 15
           },
           "zerolinecolor": "white",
           "zerolinewidth": 2
          }
         }
        }
       }
      },
      "text/html": [
       "<div>\n",
       "        \n",
       "        \n",
       "            <div id=\"2c65e2b6-dbd5-423d-8e28-4e08e87f7e11\" class=\"plotly-graph-div\" style=\"height:600px; width:100%;\"></div>\n",
       "            <script type=\"text/javascript\">\n",
       "                require([\"plotly\"], function(Plotly) {\n",
       "                    window.PLOTLYENV=window.PLOTLYENV || {};\n",
       "                    \n",
       "                if (document.getElementById(\"2c65e2b6-dbd5-423d-8e28-4e08e87f7e11\")) {\n",
       "                    Plotly.newPlot(\n",
       "                        '2c65e2b6-dbd5-423d-8e28-4e08e87f7e11',\n",
       "                        [{\"coloraxis\": \"coloraxis\", \"geo\": \"geo\", \"hoverlabel\": {\"namelength\": 0}, \"hovertemplate\": \"<b>%{hovertext}</b><br><br>iso_alpha=%{location}<br>Health (Life Expectancy)=%{z}\", \"hovertext\": [\"Norway\", \"Denmark\", \"Iceland\", \"Switzerland\", \"Finland\", \"Netherlands\", \"Canada\", \"New Zealand\", \"Sweden\", \"Australia\", \"Israel\", \"Costa Rica\", \"Austria\", \"United States\", \"Ireland\", \"Germany\", \"Belgium\", \"Luxembourg\", \"United Kingdom\", \"Chile\", \"United Arab Emirates\", \"Brazil\", \"Czech Republic\", \"Argentina\", \"Mexico\", \"Singapore\", \"Malta\", \"Uruguay\", \"Guatemala\", \"Panama\", \"France\", \"Thailand\", \"Taiwan\", \"Spain\", \"Qatar\", \"Colombia\", \"Saudi Arabia\", \"Trinidad and Tobago\", \"Kuwait\", \"Slovakia\", \"Bahrain\", \"Malaysia\", \"Nicaragua\", \"Ecuador\", \"El Salvador\", \"Poland\", \"Uzbekistan\", \"Italy\", \"Russia\", \"Belize\", \"Japan\", \"Lithuania\", \"Algeria\", \"Latvia\", \"South Korea\", \"Moldova\", \"Romania\", \"Bolivia\", \"Turkmenistan\", \"Kazakhstan\", \"North Cyprus\", \"Slovenia\", \"Peru\", \"Mauritius\", \"Cyprus\", \"Estonia\", \"Belarus\", \"Libya\", \"Turkey\", \"Paraguay\", \"Hong Kong\", \"Philippines\", \"Serbia\", \"Jordan\", \"Hungary\", \"Jamaica\", \"Croatia\", \"Kosovo\", \"China\", \"Pakistan\", \"Indonesia\", \"Venezuela\", \"Montenegro\", \"Morocco\", \"Azerbaijan\", \"Dominican Republic\", \"Greece\", \"Lebanon\", \"Portugal\", \"Bosnia and Herzegovina\", \"Honduras\", \"Macedonia\", \"Somalia\", \"Vietnam\", \"Nigeria\", \"Tajikistan\", \"Bhutan\", \"Kyrgyzstan\", \"Nepal\", \"Mongolia\", \"South Africa\", \"Tunisia\", \"Palestinian Territories\", \"Egypt\", \"Bulgaria\", \"Sierra Leone\", \"Cameroon\", \"Iran\", \"Albania\", \"Bangladesh\", \"Namibia\", \"Kenya\", \"Mozambique\", \"Myanmar\", \"Senegal\", \"Zambia\", \"Iraq\", \"Gabon\", \"Ethiopia\", \"Sri Lanka\", \"Armenia\", \"India\", \"Mauritania\", \"Congo (Brazzaville)\", \"Georgia\", \"Congo (Kinshasa)\", \"Mali\", \"Ivory Coast\", \"Cambodia\", \"Sudan\", \"Ghana\", \"Ukraine\", \"Uganda\", \"Burkina Faso\", \"Niger\", \"Malawi\", \"Chad\", \"Zimbabwe\", \"Lesotho\", \"Angola\", \"Afghanistan\", \"Botswana\", \"Benin\", \"Madagascar\", \"Haiti\", \"Yemen\", \"South Sudan\", \"Liberia\", \"Guinea\", \"Togo\", \"Rwanda\", \"Syria\", \"Tanzania\", \"Burundi\", \"Central African Republic\"], \"locations\": [\"NOR\", \"DNK\", \"ISL\", \"CHE\", \"FIN\", \"NLD\", \"CAN\", \"NZL\", \"SWE\", \"AUS\", \"ISR\", \"CRI\", \"AUT\", \"USA\", \"IRL\", \"DEU\", \"BEL\", null, \"GBR\", \"CHL\", null, \"BRA\", \"CZE\", \"ARG\", \"MEX\", \"SGP\", null, \"URY\", \"GTM\", \"PAN\", \"FRA\", \"THA\", \"TWN\", \"ESP\", null, \"COL\", \"SAU\", \"TTO\", \"KWT\", null, \"BHR\", \"MYS\", \"NIC\", \"ECU\", \"SLV\", \"POL\", null, \"ITA\", null, null, \"JPN\", null, \"DZA\", null, null, null, \"ROU\", \"BOL\", null, null, null, \"SVN\", \"PER\", \"MUS\", null, null, null, \"LBY\", \"TUR\", \"PRY\", null, \"PHL\", \"SRB\", \"JOR\", \"HUN\", \"JAM\", \"HRV\", null, \"CHN\", \"PAK\", \"IDN\", \"VEN\", \"MNE\", \"MAR\", null, \"DOM\", \"GRC\", \"LBN\", \"PRT\", \"BIH\", \"HND\", null, \"SOM\", \"VNM\", \"NGA\", null, null, null, \"NPL\", \"MNG\", \"ZAF\", \"TUN\", null, \"EGY\", \"BGR\", \"SLE\", \"CMR\", \"IRN\", \"ALB\", \"BGD\", \"NAM\", \"KEN\", \"MOZ\", \"MMR\", \"SEN\", \"ZMB\", \"IRQ\", \"GAB\", \"ETH\", \"LKA\", null, \"IND\", \"MRT\", null, null, null, \"MLI\", null, \"KHM\", \"SDN\", \"GHA\", null, \"UGA\", \"BFA\", \"NER\", \"MWI\", \"TCD\", \"ZWE\", \"LSO\", \"AGO\", \"AFG\", \"BWA\", \"BEN\", \"MDG\", \"HTI\", null, null, \"LBR\", \"GIN\", \"TGO\", \"RWA\", \"SYR\", \"TZA\", \"BDI\", \"CAF\"], \"name\": \"\", \"type\": \"choropleth\", \"z\": [0.796666502952576, 0.7925655245780941, 0.8335521221160892, 0.858131289482117, 0.80915766954422, 0.8106961250305179, 0.83455765247345, 0.816759705543518, 0.830875158309937, 0.84388679265976, 0.83840399980545, 0.7595092654228209, 0.8153284192085269, 0.7742866277694699, 0.8097826242446899, 0.798950731754303, 0.8180918693542479, 0.845089495182037, 0.805335938930511, 0.8194797039031979, 0.726798236370087, 0.6165523529052729, 0.754444003105164, 0.695137083530426, 0.709978997707367, 0.9494923949241642, 0.821944236755371, 0.719216823577881, 0.540239989757538, 0.706156134605408, 0.8444658517837521, 0.647239029407501, 0.793984234333038, 0.888960599899292, 0.7100980877876278, 0.595027923583984, 0.590148329734802, 0.5199832916259771, 0.6321057081222529, 0.712732911109924, 0.653133034706116, 0.618784427642822, 0.6530959606170649, 0.685636222362518, 0.596018552780151, 0.699475347995758, 0.498272627592087, 0.8531443476676941, 0.547349333763123, 0.45019176602363603, 0.9134758710861209, 0.62894994020462, 0.6175846457481379, 0.638566970825195, 0.900214076042175, 0.5894652009010309, 0.6851583123207089, 0.47363024950027505, 0.437726080417633, 0.6060415506362921, 0.834647238254547, 0.7908282279968258, 0.6301661133766171, 0.6380074620246889, 0.84471470117569, 0.695168316364288, 0.6377142667770389, 0.520169019699097, 0.6376056075096129, 0.579250693321228, 0.943062424659729, 0.46800905466079706, 0.65078467130661, 0.6045900583267211, 0.6877634525299069, 0.6410223841667181, 0.701288521289825, 0.541452050209045, 0.741415500640869, 0.40204778313636796, 0.49234572052955605, 0.617144227027893, 0.6674646735191351, 0.59771066904068, 0.5407757759094239, 0.574873745441437, 0.8101989030838009, 0.7350810766220089, 0.795843541622162, 0.705186307430267, 0.582569479942322, 0.644948184490204, 0.11398913711309401, 0.6521689891815191, 0.0569157302379608, 0.5292351245880129, 0.495879292488098, 0.553457796573639, 0.504130780696869, 0.557783484458923, 0.18708007037639604, 0.613212049007416, 0.565666973590851, 0.520187258720398, 0.708217680454254, 0.005564753897488121, 0.132892116904259, 0.639333188533783, 0.731159746646881, 0.533241033554077, 0.33861181139946, 0.30998834967613204, 0.10665443539619399, 0.397522568702698, 0.409362852573395, 0.25783589482307395, 0.501180469989777, 0.35657858848571794, 0.35340970754623396, 0.625130832195282, 0.637524425983429, 0.455427616834641, 0.285349279642105, 0.28995743393898, 0.649546980857849, 0.191407024860382, 0.16936567425727803, 0.0486421696841717, 0.429783403873444, 0.290920823812485, 0.29563772678375205, 0.575903952121735, 0.21763260662555703, 0.21584425866603896, 0.26850500702858, 0.315089583396912, 0.0411347150802612, 0.19676375389099102, 0.0, 0.0498686656355858, 0.18074677884578697, 0.34175550937652605, 0.20993021130561804, 0.375223308801651, 0.277321130037308, 0.310080915689468, 0.163486003875732, 0.229918196797371, 0.194129139184952, 0.247105568647385, 0.326424807310104, 0.5005333423614501, 0.364509284496307, 0.151610791683197, 0.0187726859003305]}],\n",
       "                        {\"coloraxis\": {\"colorbar\": {\"title\": {\"text\": \"Health (Life Expectancy)\"}}, \"colorscale\": [[0.0, \"rgb(0,0,0)\"], [0.3333333333333333, \"rgb(230,0,0)\"], [0.6666666666666666, \"rgb(255,210,0)\"], [1.0, \"rgb(255,255,255)\"]]}, \"geo\": {\"center\": {}, \"domain\": {\"x\": [0.0, 1.0], \"y\": [0.0, 1.0]}}, \"height\": 600, \"legend\": {\"tracegroupgap\": 0}, \"margin\": {\"t\": 60}, \"template\": {\"data\": {\"bar\": [{\"error_x\": {\"color\": \"#2a3f5f\"}, \"error_y\": {\"color\": \"#2a3f5f\"}, \"marker\": {\"line\": {\"color\": \"#E5ECF6\", \"width\": 0.5}}, \"type\": \"bar\"}], \"barpolar\": [{\"marker\": {\"line\": {\"color\": \"#E5ECF6\", \"width\": 0.5}}, \"type\": \"barpolar\"}], \"carpet\": [{\"aaxis\": {\"endlinecolor\": \"#2a3f5f\", \"gridcolor\": \"white\", \"linecolor\": \"white\", \"minorgridcolor\": \"white\", \"startlinecolor\": \"#2a3f5f\"}, \"baxis\": {\"endlinecolor\": \"#2a3f5f\", \"gridcolor\": \"white\", \"linecolor\": \"white\", \"minorgridcolor\": \"white\", \"startlinecolor\": \"#2a3f5f\"}, \"type\": \"carpet\"}], \"choropleth\": [{\"colorbar\": {\"outlinewidth\": 0, \"ticks\": \"\"}, \"type\": \"choropleth\"}], \"contour\": [{\"colorbar\": {\"outlinewidth\": 0, \"ticks\": \"\"}, \"colorscale\": [[0.0, \"#0d0887\"], [0.1111111111111111, \"#46039f\"], [0.2222222222222222, \"#7201a8\"], [0.3333333333333333, \"#9c179e\"], [0.4444444444444444, \"#bd3786\"], [0.5555555555555556, \"#d8576b\"], [0.6666666666666666, \"#ed7953\"], [0.7777777777777778, \"#fb9f3a\"], [0.8888888888888888, \"#fdca26\"], [1.0, \"#f0f921\"]], \"type\": \"contour\"}], \"contourcarpet\": [{\"colorbar\": {\"outlinewidth\": 0, \"ticks\": \"\"}, \"type\": \"contourcarpet\"}], \"heatmap\": [{\"colorbar\": {\"outlinewidth\": 0, \"ticks\": \"\"}, \"colorscale\": [[0.0, \"#0d0887\"], [0.1111111111111111, \"#46039f\"], [0.2222222222222222, \"#7201a8\"], [0.3333333333333333, \"#9c179e\"], [0.4444444444444444, \"#bd3786\"], [0.5555555555555556, \"#d8576b\"], [0.6666666666666666, \"#ed7953\"], [0.7777777777777778, \"#fb9f3a\"], [0.8888888888888888, \"#fdca26\"], [1.0, \"#f0f921\"]], \"type\": \"heatmap\"}], \"heatmapgl\": [{\"colorbar\": {\"outlinewidth\": 0, \"ticks\": \"\"}, \"colorscale\": [[0.0, \"#0d0887\"], [0.1111111111111111, \"#46039f\"], [0.2222222222222222, \"#7201a8\"], [0.3333333333333333, \"#9c179e\"], [0.4444444444444444, \"#bd3786\"], [0.5555555555555556, \"#d8576b\"], [0.6666666666666666, \"#ed7953\"], [0.7777777777777778, \"#fb9f3a\"], [0.8888888888888888, \"#fdca26\"], [1.0, \"#f0f921\"]], \"type\": \"heatmapgl\"}], \"histogram\": [{\"marker\": {\"colorbar\": {\"outlinewidth\": 0, \"ticks\": \"\"}}, \"type\": \"histogram\"}], \"histogram2d\": [{\"colorbar\": {\"outlinewidth\": 0, \"ticks\": \"\"}, \"colorscale\": [[0.0, \"#0d0887\"], [0.1111111111111111, \"#46039f\"], [0.2222222222222222, \"#7201a8\"], [0.3333333333333333, \"#9c179e\"], [0.4444444444444444, \"#bd3786\"], [0.5555555555555556, \"#d8576b\"], [0.6666666666666666, \"#ed7953\"], [0.7777777777777778, \"#fb9f3a\"], [0.8888888888888888, \"#fdca26\"], [1.0, \"#f0f921\"]], \"type\": \"histogram2d\"}], \"histogram2dcontour\": [{\"colorbar\": {\"outlinewidth\": 0, \"ticks\": \"\"}, \"colorscale\": [[0.0, \"#0d0887\"], [0.1111111111111111, \"#46039f\"], [0.2222222222222222, \"#7201a8\"], [0.3333333333333333, \"#9c179e\"], [0.4444444444444444, \"#bd3786\"], [0.5555555555555556, \"#d8576b\"], [0.6666666666666666, \"#ed7953\"], [0.7777777777777778, \"#fb9f3a\"], [0.8888888888888888, \"#fdca26\"], [1.0, \"#f0f921\"]], \"type\": \"histogram2dcontour\"}], \"mesh3d\": [{\"colorbar\": {\"outlinewidth\": 0, \"ticks\": \"\"}, \"type\": \"mesh3d\"}], \"parcoords\": [{\"line\": {\"colorbar\": {\"outlinewidth\": 0, \"ticks\": \"\"}}, \"type\": \"parcoords\"}], \"pie\": [{\"automargin\": true, \"type\": \"pie\"}], \"scatter\": [{\"marker\": {\"colorbar\": {\"outlinewidth\": 0, \"ticks\": \"\"}}, \"type\": \"scatter\"}], \"scatter3d\": [{\"line\": {\"colorbar\": {\"outlinewidth\": 0, \"ticks\": \"\"}}, \"marker\": {\"colorbar\": {\"outlinewidth\": 0, \"ticks\": \"\"}}, \"type\": \"scatter3d\"}], \"scattercarpet\": [{\"marker\": {\"colorbar\": {\"outlinewidth\": 0, \"ticks\": \"\"}}, \"type\": \"scattercarpet\"}], \"scattergeo\": [{\"marker\": {\"colorbar\": {\"outlinewidth\": 0, \"ticks\": \"\"}}, \"type\": \"scattergeo\"}], \"scattergl\": [{\"marker\": {\"colorbar\": {\"outlinewidth\": 0, \"ticks\": \"\"}}, \"type\": \"scattergl\"}], \"scattermapbox\": [{\"marker\": {\"colorbar\": {\"outlinewidth\": 0, \"ticks\": \"\"}}, \"type\": \"scattermapbox\"}], \"scatterpolar\": [{\"marker\": {\"colorbar\": {\"outlinewidth\": 0, \"ticks\": \"\"}}, \"type\": \"scatterpolar\"}], \"scatterpolargl\": [{\"marker\": {\"colorbar\": {\"outlinewidth\": 0, \"ticks\": \"\"}}, \"type\": \"scatterpolargl\"}], \"scatterternary\": [{\"marker\": {\"colorbar\": {\"outlinewidth\": 0, \"ticks\": \"\"}}, \"type\": \"scatterternary\"}], \"surface\": [{\"colorbar\": {\"outlinewidth\": 0, \"ticks\": \"\"}, \"colorscale\": [[0.0, \"#0d0887\"], [0.1111111111111111, \"#46039f\"], [0.2222222222222222, \"#7201a8\"], [0.3333333333333333, \"#9c179e\"], [0.4444444444444444, \"#bd3786\"], [0.5555555555555556, \"#d8576b\"], [0.6666666666666666, \"#ed7953\"], [0.7777777777777778, \"#fb9f3a\"], [0.8888888888888888, \"#fdca26\"], [1.0, \"#f0f921\"]], \"type\": \"surface\"}], \"table\": [{\"cells\": {\"fill\": {\"color\": \"#EBF0F8\"}, \"line\": {\"color\": \"white\"}}, \"header\": {\"fill\": {\"color\": \"#C8D4E3\"}, \"line\": {\"color\": \"white\"}}, \"type\": \"table\"}]}, \"layout\": {\"annotationdefaults\": {\"arrowcolor\": \"#2a3f5f\", \"arrowhead\": 0, \"arrowwidth\": 1}, \"coloraxis\": {\"colorbar\": {\"outlinewidth\": 0, \"ticks\": \"\"}}, \"colorscale\": {\"diverging\": [[0, \"#8e0152\"], [0.1, \"#c51b7d\"], [0.2, \"#de77ae\"], [0.3, \"#f1b6da\"], [0.4, \"#fde0ef\"], [0.5, \"#f7f7f7\"], [0.6, \"#e6f5d0\"], [0.7, \"#b8e186\"], [0.8, \"#7fbc41\"], [0.9, \"#4d9221\"], [1, \"#276419\"]], \"sequential\": [[0.0, \"#0d0887\"], [0.1111111111111111, \"#46039f\"], [0.2222222222222222, \"#7201a8\"], [0.3333333333333333, \"#9c179e\"], [0.4444444444444444, \"#bd3786\"], [0.5555555555555556, \"#d8576b\"], [0.6666666666666666, \"#ed7953\"], [0.7777777777777778, \"#fb9f3a\"], [0.8888888888888888, \"#fdca26\"], [1.0, \"#f0f921\"]], \"sequentialminus\": [[0.0, \"#0d0887\"], [0.1111111111111111, \"#46039f\"], [0.2222222222222222, \"#7201a8\"], [0.3333333333333333, \"#9c179e\"], [0.4444444444444444, \"#bd3786\"], [0.5555555555555556, \"#d8576b\"], [0.6666666666666666, \"#ed7953\"], [0.7777777777777778, \"#fb9f3a\"], [0.8888888888888888, \"#fdca26\"], [1.0, \"#f0f921\"]]}, \"colorway\": [\"#636efa\", \"#EF553B\", \"#00cc96\", \"#ab63fa\", \"#FFA15A\", \"#19d3f3\", \"#FF6692\", \"#B6E880\", \"#FF97FF\", \"#FECB52\"], \"font\": {\"color\": \"#2a3f5f\"}, \"geo\": {\"bgcolor\": \"white\", \"lakecolor\": \"white\", \"landcolor\": \"#E5ECF6\", \"showlakes\": true, \"showland\": true, \"subunitcolor\": \"white\"}, \"hoverlabel\": {\"align\": \"left\"}, \"hovermode\": \"closest\", \"mapbox\": {\"style\": \"light\"}, \"paper_bgcolor\": \"white\", \"plot_bgcolor\": \"#E5ECF6\", \"polar\": {\"angularaxis\": {\"gridcolor\": \"white\", \"linecolor\": \"white\", \"ticks\": \"\"}, \"bgcolor\": \"#E5ECF6\", \"radialaxis\": {\"gridcolor\": \"white\", \"linecolor\": \"white\", \"ticks\": \"\"}}, \"scene\": {\"xaxis\": {\"backgroundcolor\": \"#E5ECF6\", \"gridcolor\": \"white\", \"gridwidth\": 2, \"linecolor\": \"white\", \"showbackground\": true, \"ticks\": \"\", \"zerolinecolor\": \"white\"}, \"yaxis\": {\"backgroundcolor\": \"#E5ECF6\", \"gridcolor\": \"white\", \"gridwidth\": 2, \"linecolor\": \"white\", \"showbackground\": true, \"ticks\": \"\", \"zerolinecolor\": \"white\"}, \"zaxis\": {\"backgroundcolor\": \"#E5ECF6\", \"gridcolor\": \"white\", \"gridwidth\": 2, \"linecolor\": \"white\", \"showbackground\": true, \"ticks\": \"\", \"zerolinecolor\": \"white\"}}, \"shapedefaults\": {\"line\": {\"color\": \"#2a3f5f\"}}, \"ternary\": {\"aaxis\": {\"gridcolor\": \"white\", \"linecolor\": \"white\", \"ticks\": \"\"}, \"baxis\": {\"gridcolor\": \"white\", \"linecolor\": \"white\", \"ticks\": \"\"}, \"bgcolor\": \"#E5ECF6\", \"caxis\": {\"gridcolor\": \"white\", \"linecolor\": \"white\", \"ticks\": \"\"}}, \"title\": {\"x\": 0.05}, \"xaxis\": {\"automargin\": true, \"gridcolor\": \"white\", \"linecolor\": \"white\", \"ticks\": \"\", \"title\": {\"standoff\": 15}, \"zerolinecolor\": \"white\", \"zerolinewidth\": 2}, \"yaxis\": {\"automargin\": true, \"gridcolor\": \"white\", \"linecolor\": \"white\", \"ticks\": \"\", \"title\": {\"standoff\": 15}, \"zerolinecolor\": \"white\", \"zerolinewidth\": 2}}}},\n",
       "                        {\"responsive\": true}\n",
       "                    ).then(function(){\n",
       "                            \n",
       "var gd = document.getElementById('2c65e2b6-dbd5-423d-8e28-4e08e87f7e11');\n",
       "var x = new MutationObserver(function (mutations, observer) {{\n",
       "        var display = window.getComputedStyle(gd).display;\n",
       "        if (!display || display === 'none') {{\n",
       "            console.log([gd, 'removed!']);\n",
       "            Plotly.purge(gd);\n",
       "            observer.disconnect();\n",
       "        }}\n",
       "}});\n",
       "\n",
       "// Listen for the removal of the full notebook cells\n",
       "var notebookContainer = gd.closest('#notebook-container');\n",
       "if (notebookContainer) {{\n",
       "    x.observe(notebookContainer, {childList: true});\n",
       "}}\n",
       "\n",
       "// Listen for the clearing of the current output cell\n",
       "var outputEl = gd.closest('.output');\n",
       "if (outputEl) {{\n",
       "    x.observe(outputEl, {childList: true});\n",
       "}}\n",
       "\n",
       "                        })\n",
       "                };\n",
       "                });\n",
       "            </script>\n",
       "        </div>"
      ]
     },
     "metadata": {},
     "output_type": "display_data"
    }
   ],
   "source": [
    "import plotly.express as px\n",
    "fig = px.choropleth(df[df['year'] ==2017], locations=\"iso_alpha\",\n",
    "                    color=\"Health (Life Expectancy)\", # lifeExp is a column of gapminder\n",
    "                    hover_name=\"Country\", # column to add to hover information\n",
    "                    color_continuous_scale=px.colors.sequential.Hot)\n",
    "fig.show()"
   ]
  },
  {
   "cell_type": "code",
   "execution_count": 83,
   "metadata": {},
   "outputs": [
    {
     "data": {
      "application/vnd.plotly.v1+json": {
       "config": {
        "plotlyServerURL": "https://plot.ly"
       },
       "data": [
        {
         "coloraxis": "coloraxis",
         "geo": "geo",
         "hoverlabel": {
          "namelength": 0
         },
         "hovertemplate": "<b>%{hovertext}</b><br><br>iso_alpha=%{location}<br>lifeExp=%{z}",
         "hovertext": [
          "Afghanistan",
          "Albania",
          "Algeria",
          "Angola",
          "Argentina",
          "Australia",
          "Austria",
          "Bahrain",
          "Bangladesh",
          "Belgium",
          "Benin",
          "Bolivia",
          "Bosnia and Herzegovina",
          "Botswana",
          "Brazil",
          "Bulgaria",
          "Burkina Faso",
          "Burundi",
          "Cambodia",
          "Cameroon",
          "Canada",
          "Central African Republic",
          "Chad",
          "Chile",
          "China",
          "Colombia",
          "Comoros",
          "Congo, Dem. Rep.",
          "Congo, Rep.",
          "Costa Rica",
          "Cote d'Ivoire",
          "Croatia",
          "Cuba",
          "Czech Republic",
          "Denmark",
          "Djibouti",
          "Dominican Republic",
          "Ecuador",
          "Egypt",
          "El Salvador",
          "Equatorial Guinea",
          "Eritrea",
          "Ethiopia",
          "Finland",
          "France",
          "Gabon",
          "Gambia",
          "Germany",
          "Ghana",
          "Greece",
          "Guatemala",
          "Guinea",
          "Guinea-Bissau",
          "Haiti",
          "Honduras",
          "Hong Kong, China",
          "Hungary",
          "Iceland",
          "India",
          "Indonesia",
          "Iran",
          "Iraq",
          "Ireland",
          "Israel",
          "Italy",
          "Jamaica",
          "Japan",
          "Jordan",
          "Kenya",
          "Korea, Dem. Rep.",
          "Korea, Rep.",
          "Kuwait",
          "Lebanon",
          "Lesotho",
          "Liberia",
          "Libya",
          "Madagascar",
          "Malawi",
          "Malaysia",
          "Mali",
          "Mauritania",
          "Mauritius",
          "Mexico",
          "Mongolia",
          "Montenegro",
          "Morocco",
          "Mozambique",
          "Myanmar",
          "Namibia",
          "Nepal",
          "Netherlands",
          "New Zealand",
          "Nicaragua",
          "Niger",
          "Nigeria",
          "Norway",
          "Oman",
          "Pakistan",
          "Panama",
          "Paraguay",
          "Peru",
          "Philippines",
          "Poland",
          "Portugal",
          "Puerto Rico",
          "Reunion",
          "Romania",
          "Rwanda",
          "Sao Tome and Principe",
          "Saudi Arabia",
          "Senegal",
          "Serbia",
          "Sierra Leone",
          "Singapore",
          "Slovak Republic",
          "Slovenia",
          "Somalia",
          "South Africa",
          "Spain",
          "Sri Lanka",
          "Sudan",
          "Swaziland",
          "Sweden",
          "Switzerland",
          "Syria",
          "Taiwan",
          "Tanzania",
          "Thailand",
          "Togo",
          "Trinidad and Tobago",
          "Tunisia",
          "Turkey",
          "Uganda",
          "United Kingdom",
          "United States",
          "Uruguay",
          "Venezuela",
          "Vietnam",
          "West Bank and Gaza",
          "Yemen, Rep.",
          "Zambia",
          "Zimbabwe"
         ],
         "locations": [
          "AFG",
          "ALB",
          "DZA",
          "AGO",
          "ARG",
          "AUS",
          "AUT",
          "BHR",
          "BGD",
          "BEL",
          "BEN",
          "BOL",
          "BIH",
          "BWA",
          "BRA",
          "BGR",
          "BFA",
          "BDI",
          "KHM",
          "CMR",
          "CAN",
          "CAF",
          "TCD",
          "CHL",
          "CHN",
          "COL",
          "COM",
          "COD",
          "COG",
          "CRI",
          "CIV",
          "HRV",
          "CUB",
          "CZE",
          "DNK",
          "DJI",
          "DOM",
          "ECU",
          "EGY",
          "SLV",
          "GNQ",
          "ERI",
          "ETH",
          "FIN",
          "FRA",
          "GAB",
          "GMB",
          "DEU",
          "GHA",
          "GRC",
          "GTM",
          "GIN",
          "GNB",
          "HTI",
          "HND",
          "HKG",
          "HUN",
          "ISL",
          "IND",
          "IDN",
          "IRN",
          "IRQ",
          "IRL",
          "ISR",
          "ITA",
          "JAM",
          "JPN",
          "JOR",
          "KEN",
          "KOR",
          "KOR",
          "KWT",
          "LBN",
          "LSO",
          "LBR",
          "LBY",
          "MDG",
          "MWI",
          "MYS",
          "MLI",
          "MRT",
          "MUS",
          "MEX",
          "MNG",
          "MNE",
          "MAR",
          "MOZ",
          "MMR",
          "NAM",
          "NPL",
          "NLD",
          "NZL",
          "NIC",
          "NER",
          "NGA",
          "NOR",
          "OMN",
          "PAK",
          "PAN",
          "PRY",
          "PER",
          "PHL",
          "POL",
          "PRT",
          "PRI",
          "REU",
          "ROU",
          "RWA",
          "STP",
          "SAU",
          "SEN",
          "SRB",
          "SLE",
          "SGP",
          "SVK",
          "SVN",
          "SOM",
          "ZAF",
          "ESP",
          "LKA",
          "SDN",
          "SWZ",
          "SWE",
          "CHE",
          "SYR",
          "TWN",
          "TZA",
          "THA",
          "TGO",
          "TTO",
          "TUN",
          "TUR",
          "UGA",
          "GBR",
          "USA",
          "URY",
          "VEN",
          "VNM",
          "PSE",
          "YEM",
          "ZMB",
          "ZWE"
         ],
         "name": "",
         "type": "choropleth",
         "z": [
          43.828,
          76.423,
          72.301,
          42.731,
          75.32,
          81.235,
          79.829,
          75.635,
          64.062,
          79.441,
          56.728,
          65.554,
          74.852,
          50.728,
          72.39,
          73.005,
          52.295,
          49.58,
          59.723,
          50.43,
          80.653,
          44.74100000000001,
          50.651,
          78.553,
          72.961,
          72.889,
          65.152,
          46.461999999999996,
          55.321999999999996,
          78.782,
          48.328,
          75.748,
          78.273,
          76.486,
          78.332,
          54.791000000000004,
          72.235,
          74.994,
          71.33800000000001,
          71.878,
          51.57899999999999,
          58.04,
          52.946999999999996,
          79.313,
          80.657,
          56.735,
          59.448,
          79.406,
          60.022,
          79.483,
          70.259,
          56.007,
          46.388000000000005,
          60.916000000000004,
          70.19800000000001,
          82.208,
          73.33800000000001,
          81.757,
          64.69800000000001,
          70.65,
          70.964,
          59.545,
          78.885,
          80.745,
          80.546,
          72.567,
          82.603,
          72.535,
          54.11,
          67.297,
          78.623,
          77.58800000000001,
          71.993,
          42.592,
          45.678000000000004,
          73.952,
          59.443000000000005,
          48.303000000000004,
          74.241,
          54.467,
          64.164,
          72.801,
          76.195,
          66.803,
          74.543,
          71.164,
          42.082,
          62.068999999999996,
          52.906000000000006,
          63.785,
          79.762,
          80.204,
          72.899,
          56.867,
          46.858999999999995,
          80.196,
          75.64,
          65.483,
          75.53699999999999,
          71.752,
          71.421,
          71.688,
          75.563,
          78.098,
          78.74600000000001,
          76.442,
          72.476,
          46.242,
          65.528,
          72.777,
          63.062,
          74.002,
          42.568000000000005,
          79.972,
          74.663,
          77.926,
          48.159,
          49.339,
          80.941,
          72.396,
          58.556000000000004,
          39.613,
          80.884,
          81.70100000000001,
          74.143,
          78.4,
          52.516999999999996,
          70.616,
          58.42,
          69.819,
          73.923,
          71.777,
          51.542,
          79.425,
          78.242,
          76.384,
          73.747,
          74.249,
          73.422,
          62.698,
          42.38399999999999,
          43.486999999999995
         ]
        }
       ],
       "layout": {
        "coloraxis": {
         "colorbar": {
          "title": {
           "text": "lifeExp"
          }
         },
         "colorscale": [
          [
           0,
           "#0d0887"
          ],
          [
           0.1111111111111111,
           "#46039f"
          ],
          [
           0.2222222222222222,
           "#7201a8"
          ],
          [
           0.3333333333333333,
           "#9c179e"
          ],
          [
           0.4444444444444444,
           "#bd3786"
          ],
          [
           0.5555555555555556,
           "#d8576b"
          ],
          [
           0.6666666666666666,
           "#ed7953"
          ],
          [
           0.7777777777777778,
           "#fb9f3a"
          ],
          [
           0.8888888888888888,
           "#fdca26"
          ],
          [
           1,
           "#f0f921"
          ]
         ]
        },
        "geo": {
         "center": {},
         "domain": {
          "x": [
           0,
           1
          ],
          "y": [
           0,
           1
          ]
         }
        },
        "height": 600,
        "legend": {
         "tracegroupgap": 0
        },
        "margin": {
         "t": 60
        },
        "template": {
         "data": {
          "bar": [
           {
            "error_x": {
             "color": "#2a3f5f"
            },
            "error_y": {
             "color": "#2a3f5f"
            },
            "marker": {
             "line": {
              "color": "#E5ECF6",
              "width": 0.5
             }
            },
            "type": "bar"
           }
          ],
          "barpolar": [
           {
            "marker": {
             "line": {
              "color": "#E5ECF6",
              "width": 0.5
             }
            },
            "type": "barpolar"
           }
          ],
          "carpet": [
           {
            "aaxis": {
             "endlinecolor": "#2a3f5f",
             "gridcolor": "white",
             "linecolor": "white",
             "minorgridcolor": "white",
             "startlinecolor": "#2a3f5f"
            },
            "baxis": {
             "endlinecolor": "#2a3f5f",
             "gridcolor": "white",
             "linecolor": "white",
             "minorgridcolor": "white",
             "startlinecolor": "#2a3f5f"
            },
            "type": "carpet"
           }
          ],
          "choropleth": [
           {
            "colorbar": {
             "outlinewidth": 0,
             "ticks": ""
            },
            "type": "choropleth"
           }
          ],
          "contour": [
           {
            "colorbar": {
             "outlinewidth": 0,
             "ticks": ""
            },
            "colorscale": [
             [
              0,
              "#0d0887"
             ],
             [
              0.1111111111111111,
              "#46039f"
             ],
             [
              0.2222222222222222,
              "#7201a8"
             ],
             [
              0.3333333333333333,
              "#9c179e"
             ],
             [
              0.4444444444444444,
              "#bd3786"
             ],
             [
              0.5555555555555556,
              "#d8576b"
             ],
             [
              0.6666666666666666,
              "#ed7953"
             ],
             [
              0.7777777777777778,
              "#fb9f3a"
             ],
             [
              0.8888888888888888,
              "#fdca26"
             ],
             [
              1,
              "#f0f921"
             ]
            ],
            "type": "contour"
           }
          ],
          "contourcarpet": [
           {
            "colorbar": {
             "outlinewidth": 0,
             "ticks": ""
            },
            "type": "contourcarpet"
           }
          ],
          "heatmap": [
           {
            "colorbar": {
             "outlinewidth": 0,
             "ticks": ""
            },
            "colorscale": [
             [
              0,
              "#0d0887"
             ],
             [
              0.1111111111111111,
              "#46039f"
             ],
             [
              0.2222222222222222,
              "#7201a8"
             ],
             [
              0.3333333333333333,
              "#9c179e"
             ],
             [
              0.4444444444444444,
              "#bd3786"
             ],
             [
              0.5555555555555556,
              "#d8576b"
             ],
             [
              0.6666666666666666,
              "#ed7953"
             ],
             [
              0.7777777777777778,
              "#fb9f3a"
             ],
             [
              0.8888888888888888,
              "#fdca26"
             ],
             [
              1,
              "#f0f921"
             ]
            ],
            "type": "heatmap"
           }
          ],
          "heatmapgl": [
           {
            "colorbar": {
             "outlinewidth": 0,
             "ticks": ""
            },
            "colorscale": [
             [
              0,
              "#0d0887"
             ],
             [
              0.1111111111111111,
              "#46039f"
             ],
             [
              0.2222222222222222,
              "#7201a8"
             ],
             [
              0.3333333333333333,
              "#9c179e"
             ],
             [
              0.4444444444444444,
              "#bd3786"
             ],
             [
              0.5555555555555556,
              "#d8576b"
             ],
             [
              0.6666666666666666,
              "#ed7953"
             ],
             [
              0.7777777777777778,
              "#fb9f3a"
             ],
             [
              0.8888888888888888,
              "#fdca26"
             ],
             [
              1,
              "#f0f921"
             ]
            ],
            "type": "heatmapgl"
           }
          ],
          "histogram": [
           {
            "marker": {
             "colorbar": {
              "outlinewidth": 0,
              "ticks": ""
             }
            },
            "type": "histogram"
           }
          ],
          "histogram2d": [
           {
            "colorbar": {
             "outlinewidth": 0,
             "ticks": ""
            },
            "colorscale": [
             [
              0,
              "#0d0887"
             ],
             [
              0.1111111111111111,
              "#46039f"
             ],
             [
              0.2222222222222222,
              "#7201a8"
             ],
             [
              0.3333333333333333,
              "#9c179e"
             ],
             [
              0.4444444444444444,
              "#bd3786"
             ],
             [
              0.5555555555555556,
              "#d8576b"
             ],
             [
              0.6666666666666666,
              "#ed7953"
             ],
             [
              0.7777777777777778,
              "#fb9f3a"
             ],
             [
              0.8888888888888888,
              "#fdca26"
             ],
             [
              1,
              "#f0f921"
             ]
            ],
            "type": "histogram2d"
           }
          ],
          "histogram2dcontour": [
           {
            "colorbar": {
             "outlinewidth": 0,
             "ticks": ""
            },
            "colorscale": [
             [
              0,
              "#0d0887"
             ],
             [
              0.1111111111111111,
              "#46039f"
             ],
             [
              0.2222222222222222,
              "#7201a8"
             ],
             [
              0.3333333333333333,
              "#9c179e"
             ],
             [
              0.4444444444444444,
              "#bd3786"
             ],
             [
              0.5555555555555556,
              "#d8576b"
             ],
             [
              0.6666666666666666,
              "#ed7953"
             ],
             [
              0.7777777777777778,
              "#fb9f3a"
             ],
             [
              0.8888888888888888,
              "#fdca26"
             ],
             [
              1,
              "#f0f921"
             ]
            ],
            "type": "histogram2dcontour"
           }
          ],
          "mesh3d": [
           {
            "colorbar": {
             "outlinewidth": 0,
             "ticks": ""
            },
            "type": "mesh3d"
           }
          ],
          "parcoords": [
           {
            "line": {
             "colorbar": {
              "outlinewidth": 0,
              "ticks": ""
             }
            },
            "type": "parcoords"
           }
          ],
          "pie": [
           {
            "automargin": true,
            "type": "pie"
           }
          ],
          "scatter": [
           {
            "marker": {
             "colorbar": {
              "outlinewidth": 0,
              "ticks": ""
             }
            },
            "type": "scatter"
           }
          ],
          "scatter3d": [
           {
            "line": {
             "colorbar": {
              "outlinewidth": 0,
              "ticks": ""
             }
            },
            "marker": {
             "colorbar": {
              "outlinewidth": 0,
              "ticks": ""
             }
            },
            "type": "scatter3d"
           }
          ],
          "scattercarpet": [
           {
            "marker": {
             "colorbar": {
              "outlinewidth": 0,
              "ticks": ""
             }
            },
            "type": "scattercarpet"
           }
          ],
          "scattergeo": [
           {
            "marker": {
             "colorbar": {
              "outlinewidth": 0,
              "ticks": ""
             }
            },
            "type": "scattergeo"
           }
          ],
          "scattergl": [
           {
            "marker": {
             "colorbar": {
              "outlinewidth": 0,
              "ticks": ""
             }
            },
            "type": "scattergl"
           }
          ],
          "scattermapbox": [
           {
            "marker": {
             "colorbar": {
              "outlinewidth": 0,
              "ticks": ""
             }
            },
            "type": "scattermapbox"
           }
          ],
          "scatterpolar": [
           {
            "marker": {
             "colorbar": {
              "outlinewidth": 0,
              "ticks": ""
             }
            },
            "type": "scatterpolar"
           }
          ],
          "scatterpolargl": [
           {
            "marker": {
             "colorbar": {
              "outlinewidth": 0,
              "ticks": ""
             }
            },
            "type": "scatterpolargl"
           }
          ],
          "scatterternary": [
           {
            "marker": {
             "colorbar": {
              "outlinewidth": 0,
              "ticks": ""
             }
            },
            "type": "scatterternary"
           }
          ],
          "surface": [
           {
            "colorbar": {
             "outlinewidth": 0,
             "ticks": ""
            },
            "colorscale": [
             [
              0,
              "#0d0887"
             ],
             [
              0.1111111111111111,
              "#46039f"
             ],
             [
              0.2222222222222222,
              "#7201a8"
             ],
             [
              0.3333333333333333,
              "#9c179e"
             ],
             [
              0.4444444444444444,
              "#bd3786"
             ],
             [
              0.5555555555555556,
              "#d8576b"
             ],
             [
              0.6666666666666666,
              "#ed7953"
             ],
             [
              0.7777777777777778,
              "#fb9f3a"
             ],
             [
              0.8888888888888888,
              "#fdca26"
             ],
             [
              1,
              "#f0f921"
             ]
            ],
            "type": "surface"
           }
          ],
          "table": [
           {
            "cells": {
             "fill": {
              "color": "#EBF0F8"
             },
             "line": {
              "color": "white"
             }
            },
            "header": {
             "fill": {
              "color": "#C8D4E3"
             },
             "line": {
              "color": "white"
             }
            },
            "type": "table"
           }
          ]
         },
         "layout": {
          "annotationdefaults": {
           "arrowcolor": "#2a3f5f",
           "arrowhead": 0,
           "arrowwidth": 1
          },
          "coloraxis": {
           "colorbar": {
            "outlinewidth": 0,
            "ticks": ""
           }
          },
          "colorscale": {
           "diverging": [
            [
             0,
             "#8e0152"
            ],
            [
             0.1,
             "#c51b7d"
            ],
            [
             0.2,
             "#de77ae"
            ],
            [
             0.3,
             "#f1b6da"
            ],
            [
             0.4,
             "#fde0ef"
            ],
            [
             0.5,
             "#f7f7f7"
            ],
            [
             0.6,
             "#e6f5d0"
            ],
            [
             0.7,
             "#b8e186"
            ],
            [
             0.8,
             "#7fbc41"
            ],
            [
             0.9,
             "#4d9221"
            ],
            [
             1,
             "#276419"
            ]
           ],
           "sequential": [
            [
             0,
             "#0d0887"
            ],
            [
             0.1111111111111111,
             "#46039f"
            ],
            [
             0.2222222222222222,
             "#7201a8"
            ],
            [
             0.3333333333333333,
             "#9c179e"
            ],
            [
             0.4444444444444444,
             "#bd3786"
            ],
            [
             0.5555555555555556,
             "#d8576b"
            ],
            [
             0.6666666666666666,
             "#ed7953"
            ],
            [
             0.7777777777777778,
             "#fb9f3a"
            ],
            [
             0.8888888888888888,
             "#fdca26"
            ],
            [
             1,
             "#f0f921"
            ]
           ],
           "sequentialminus": [
            [
             0,
             "#0d0887"
            ],
            [
             0.1111111111111111,
             "#46039f"
            ],
            [
             0.2222222222222222,
             "#7201a8"
            ],
            [
             0.3333333333333333,
             "#9c179e"
            ],
            [
             0.4444444444444444,
             "#bd3786"
            ],
            [
             0.5555555555555556,
             "#d8576b"
            ],
            [
             0.6666666666666666,
             "#ed7953"
            ],
            [
             0.7777777777777778,
             "#fb9f3a"
            ],
            [
             0.8888888888888888,
             "#fdca26"
            ],
            [
             1,
             "#f0f921"
            ]
           ]
          },
          "colorway": [
           "#636efa",
           "#EF553B",
           "#00cc96",
           "#ab63fa",
           "#FFA15A",
           "#19d3f3",
           "#FF6692",
           "#B6E880",
           "#FF97FF",
           "#FECB52"
          ],
          "font": {
           "color": "#2a3f5f"
          },
          "geo": {
           "bgcolor": "white",
           "lakecolor": "white",
           "landcolor": "#E5ECF6",
           "showlakes": true,
           "showland": true,
           "subunitcolor": "white"
          },
          "hoverlabel": {
           "align": "left"
          },
          "hovermode": "closest",
          "mapbox": {
           "style": "light"
          },
          "paper_bgcolor": "white",
          "plot_bgcolor": "#E5ECF6",
          "polar": {
           "angularaxis": {
            "gridcolor": "white",
            "linecolor": "white",
            "ticks": ""
           },
           "bgcolor": "#E5ECF6",
           "radialaxis": {
            "gridcolor": "white",
            "linecolor": "white",
            "ticks": ""
           }
          },
          "scene": {
           "xaxis": {
            "backgroundcolor": "#E5ECF6",
            "gridcolor": "white",
            "gridwidth": 2,
            "linecolor": "white",
            "showbackground": true,
            "ticks": "",
            "zerolinecolor": "white"
           },
           "yaxis": {
            "backgroundcolor": "#E5ECF6",
            "gridcolor": "white",
            "gridwidth": 2,
            "linecolor": "white",
            "showbackground": true,
            "ticks": "",
            "zerolinecolor": "white"
           },
           "zaxis": {
            "backgroundcolor": "#E5ECF6",
            "gridcolor": "white",
            "gridwidth": 2,
            "linecolor": "white",
            "showbackground": true,
            "ticks": "",
            "zerolinecolor": "white"
           }
          },
          "shapedefaults": {
           "line": {
            "color": "#2a3f5f"
           }
          },
          "ternary": {
           "aaxis": {
            "gridcolor": "white",
            "linecolor": "white",
            "ticks": ""
           },
           "baxis": {
            "gridcolor": "white",
            "linecolor": "white",
            "ticks": ""
           },
           "bgcolor": "#E5ECF6",
           "caxis": {
            "gridcolor": "white",
            "linecolor": "white",
            "ticks": ""
           }
          },
          "title": {
           "x": 0.05
          },
          "xaxis": {
           "automargin": true,
           "gridcolor": "white",
           "linecolor": "white",
           "ticks": "",
           "title": {
            "standoff": 15
           },
           "zerolinecolor": "white",
           "zerolinewidth": 2
          },
          "yaxis": {
           "automargin": true,
           "gridcolor": "white",
           "linecolor": "white",
           "ticks": "",
           "title": {
            "standoff": 15
           },
           "zerolinecolor": "white",
           "zerolinewidth": 2
          }
         }
        }
       }
      },
      "text/html": [
       "<div>\n",
       "        \n",
       "        \n",
       "            <div id=\"7b98ab1c-ad7e-4861-a05f-30506efe2614\" class=\"plotly-graph-div\" style=\"height:600px; width:100%;\"></div>\n",
       "            <script type=\"text/javascript\">\n",
       "                require([\"plotly\"], function(Plotly) {\n",
       "                    window.PLOTLYENV=window.PLOTLYENV || {};\n",
       "                    \n",
       "                if (document.getElementById(\"7b98ab1c-ad7e-4861-a05f-30506efe2614\")) {\n",
       "                    Plotly.newPlot(\n",
       "                        '7b98ab1c-ad7e-4861-a05f-30506efe2614',\n",
       "                        [{\"coloraxis\": \"coloraxis\", \"geo\": \"geo\", \"hoverlabel\": {\"namelength\": 0}, \"hovertemplate\": \"<b>%{hovertext}</b><br><br>iso_alpha=%{location}<br>lifeExp=%{z}\", \"hovertext\": [\"Afghanistan\", \"Albania\", \"Algeria\", \"Angola\", \"Argentina\", \"Australia\", \"Austria\", \"Bahrain\", \"Bangladesh\", \"Belgium\", \"Benin\", \"Bolivia\", \"Bosnia and Herzegovina\", \"Botswana\", \"Brazil\", \"Bulgaria\", \"Burkina Faso\", \"Burundi\", \"Cambodia\", \"Cameroon\", \"Canada\", \"Central African Republic\", \"Chad\", \"Chile\", \"China\", \"Colombia\", \"Comoros\", \"Congo, Dem. Rep.\", \"Congo, Rep.\", \"Costa Rica\", \"Cote d'Ivoire\", \"Croatia\", \"Cuba\", \"Czech Republic\", \"Denmark\", \"Djibouti\", \"Dominican Republic\", \"Ecuador\", \"Egypt\", \"El Salvador\", \"Equatorial Guinea\", \"Eritrea\", \"Ethiopia\", \"Finland\", \"France\", \"Gabon\", \"Gambia\", \"Germany\", \"Ghana\", \"Greece\", \"Guatemala\", \"Guinea\", \"Guinea-Bissau\", \"Haiti\", \"Honduras\", \"Hong Kong, China\", \"Hungary\", \"Iceland\", \"India\", \"Indonesia\", \"Iran\", \"Iraq\", \"Ireland\", \"Israel\", \"Italy\", \"Jamaica\", \"Japan\", \"Jordan\", \"Kenya\", \"Korea, Dem. Rep.\", \"Korea, Rep.\", \"Kuwait\", \"Lebanon\", \"Lesotho\", \"Liberia\", \"Libya\", \"Madagascar\", \"Malawi\", \"Malaysia\", \"Mali\", \"Mauritania\", \"Mauritius\", \"Mexico\", \"Mongolia\", \"Montenegro\", \"Morocco\", \"Mozambique\", \"Myanmar\", \"Namibia\", \"Nepal\", \"Netherlands\", \"New Zealand\", \"Nicaragua\", \"Niger\", \"Nigeria\", \"Norway\", \"Oman\", \"Pakistan\", \"Panama\", \"Paraguay\", \"Peru\", \"Philippines\", \"Poland\", \"Portugal\", \"Puerto Rico\", \"Reunion\", \"Romania\", \"Rwanda\", \"Sao Tome and Principe\", \"Saudi Arabia\", \"Senegal\", \"Serbia\", \"Sierra Leone\", \"Singapore\", \"Slovak Republic\", \"Slovenia\", \"Somalia\", \"South Africa\", \"Spain\", \"Sri Lanka\", \"Sudan\", \"Swaziland\", \"Sweden\", \"Switzerland\", \"Syria\", \"Taiwan\", \"Tanzania\", \"Thailand\", \"Togo\", \"Trinidad and Tobago\", \"Tunisia\", \"Turkey\", \"Uganda\", \"United Kingdom\", \"United States\", \"Uruguay\", \"Venezuela\", \"Vietnam\", \"West Bank and Gaza\", \"Yemen, Rep.\", \"Zambia\", \"Zimbabwe\"], \"locations\": [\"AFG\", \"ALB\", \"DZA\", \"AGO\", \"ARG\", \"AUS\", \"AUT\", \"BHR\", \"BGD\", \"BEL\", \"BEN\", \"BOL\", \"BIH\", \"BWA\", \"BRA\", \"BGR\", \"BFA\", \"BDI\", \"KHM\", \"CMR\", \"CAN\", \"CAF\", \"TCD\", \"CHL\", \"CHN\", \"COL\", \"COM\", \"COD\", \"COG\", \"CRI\", \"CIV\", \"HRV\", \"CUB\", \"CZE\", \"DNK\", \"DJI\", \"DOM\", \"ECU\", \"EGY\", \"SLV\", \"GNQ\", \"ERI\", \"ETH\", \"FIN\", \"FRA\", \"GAB\", \"GMB\", \"DEU\", \"GHA\", \"GRC\", \"GTM\", \"GIN\", \"GNB\", \"HTI\", \"HND\", \"HKG\", \"HUN\", \"ISL\", \"IND\", \"IDN\", \"IRN\", \"IRQ\", \"IRL\", \"ISR\", \"ITA\", \"JAM\", \"JPN\", \"JOR\", \"KEN\", \"KOR\", \"KOR\", \"KWT\", \"LBN\", \"LSO\", \"LBR\", \"LBY\", \"MDG\", \"MWI\", \"MYS\", \"MLI\", \"MRT\", \"MUS\", \"MEX\", \"MNG\", \"MNE\", \"MAR\", \"MOZ\", \"MMR\", \"NAM\", \"NPL\", \"NLD\", \"NZL\", \"NIC\", \"NER\", \"NGA\", \"NOR\", \"OMN\", \"PAK\", \"PAN\", \"PRY\", \"PER\", \"PHL\", \"POL\", \"PRT\", \"PRI\", \"REU\", \"ROU\", \"RWA\", \"STP\", \"SAU\", \"SEN\", \"SRB\", \"SLE\", \"SGP\", \"SVK\", \"SVN\", \"SOM\", \"ZAF\", \"ESP\", \"LKA\", \"SDN\", \"SWZ\", \"SWE\", \"CHE\", \"SYR\", \"TWN\", \"TZA\", \"THA\", \"TGO\", \"TTO\", \"TUN\", \"TUR\", \"UGA\", \"GBR\", \"USA\", \"URY\", \"VEN\", \"VNM\", \"PSE\", \"YEM\", \"ZMB\", \"ZWE\"], \"name\": \"\", \"type\": \"choropleth\", \"z\": [43.828, 76.423, 72.301, 42.731, 75.32, 81.235, 79.829, 75.635, 64.062, 79.441, 56.728, 65.554, 74.852, 50.728, 72.39, 73.005, 52.295, 49.58, 59.723, 50.43, 80.653, 44.74100000000001, 50.651, 78.553, 72.961, 72.889, 65.152, 46.461999999999996, 55.321999999999996, 78.782, 48.328, 75.748, 78.273, 76.486, 78.332, 54.791000000000004, 72.235, 74.994, 71.33800000000001, 71.878, 51.57899999999999, 58.04, 52.946999999999996, 79.313, 80.657, 56.735, 59.448, 79.406, 60.022, 79.483, 70.259, 56.007, 46.388000000000005, 60.916000000000004, 70.19800000000001, 82.208, 73.33800000000001, 81.757, 64.69800000000001, 70.65, 70.964, 59.545, 78.885, 80.745, 80.546, 72.567, 82.603, 72.535, 54.11, 67.297, 78.623, 77.58800000000001, 71.993, 42.592, 45.678000000000004, 73.952, 59.443000000000005, 48.303000000000004, 74.241, 54.467, 64.164, 72.801, 76.195, 66.803, 74.543, 71.164, 42.082, 62.068999999999996, 52.906000000000006, 63.785, 79.762, 80.204, 72.899, 56.867, 46.858999999999995, 80.196, 75.64, 65.483, 75.53699999999999, 71.752, 71.421, 71.688, 75.563, 78.098, 78.74600000000001, 76.442, 72.476, 46.242, 65.528, 72.777, 63.062, 74.002, 42.568000000000005, 79.972, 74.663, 77.926, 48.159, 49.339, 80.941, 72.396, 58.556000000000004, 39.613, 80.884, 81.70100000000001, 74.143, 78.4, 52.516999999999996, 70.616, 58.42, 69.819, 73.923, 71.777, 51.542, 79.425, 78.242, 76.384, 73.747, 74.249, 73.422, 62.698, 42.38399999999999, 43.486999999999995]}],\n",
       "                        {\"coloraxis\": {\"colorbar\": {\"title\": {\"text\": \"lifeExp\"}}, \"colorscale\": [[0.0, \"#0d0887\"], [0.1111111111111111, \"#46039f\"], [0.2222222222222222, \"#7201a8\"], [0.3333333333333333, \"#9c179e\"], [0.4444444444444444, \"#bd3786\"], [0.5555555555555556, \"#d8576b\"], [0.6666666666666666, \"#ed7953\"], [0.7777777777777778, \"#fb9f3a\"], [0.8888888888888888, \"#fdca26\"], [1.0, \"#f0f921\"]]}, \"geo\": {\"center\": {}, \"domain\": {\"x\": [0.0, 1.0], \"y\": [0.0, 1.0]}}, \"height\": 600, \"legend\": {\"tracegroupgap\": 0}, \"margin\": {\"t\": 60}, \"template\": {\"data\": {\"bar\": [{\"error_x\": {\"color\": \"#2a3f5f\"}, \"error_y\": {\"color\": \"#2a3f5f\"}, \"marker\": {\"line\": {\"color\": \"#E5ECF6\", \"width\": 0.5}}, \"type\": \"bar\"}], \"barpolar\": [{\"marker\": {\"line\": {\"color\": \"#E5ECF6\", \"width\": 0.5}}, \"type\": \"barpolar\"}], \"carpet\": [{\"aaxis\": {\"endlinecolor\": \"#2a3f5f\", \"gridcolor\": \"white\", \"linecolor\": \"white\", \"minorgridcolor\": \"white\", \"startlinecolor\": \"#2a3f5f\"}, \"baxis\": {\"endlinecolor\": \"#2a3f5f\", \"gridcolor\": \"white\", \"linecolor\": \"white\", \"minorgridcolor\": \"white\", \"startlinecolor\": \"#2a3f5f\"}, \"type\": \"carpet\"}], \"choropleth\": [{\"colorbar\": {\"outlinewidth\": 0, \"ticks\": \"\"}, \"type\": \"choropleth\"}], \"contour\": [{\"colorbar\": {\"outlinewidth\": 0, \"ticks\": \"\"}, \"colorscale\": [[0.0, \"#0d0887\"], [0.1111111111111111, \"#46039f\"], [0.2222222222222222, \"#7201a8\"], [0.3333333333333333, \"#9c179e\"], [0.4444444444444444, \"#bd3786\"], [0.5555555555555556, \"#d8576b\"], [0.6666666666666666, \"#ed7953\"], [0.7777777777777778, \"#fb9f3a\"], [0.8888888888888888, \"#fdca26\"], [1.0, \"#f0f921\"]], \"type\": \"contour\"}], \"contourcarpet\": [{\"colorbar\": {\"outlinewidth\": 0, \"ticks\": \"\"}, \"type\": \"contourcarpet\"}], \"heatmap\": [{\"colorbar\": {\"outlinewidth\": 0, \"ticks\": \"\"}, \"colorscale\": [[0.0, \"#0d0887\"], [0.1111111111111111, \"#46039f\"], [0.2222222222222222, \"#7201a8\"], [0.3333333333333333, \"#9c179e\"], [0.4444444444444444, \"#bd3786\"], [0.5555555555555556, \"#d8576b\"], [0.6666666666666666, \"#ed7953\"], [0.7777777777777778, \"#fb9f3a\"], [0.8888888888888888, \"#fdca26\"], [1.0, \"#f0f921\"]], \"type\": \"heatmap\"}], \"heatmapgl\": [{\"colorbar\": {\"outlinewidth\": 0, \"ticks\": \"\"}, \"colorscale\": [[0.0, \"#0d0887\"], [0.1111111111111111, \"#46039f\"], [0.2222222222222222, \"#7201a8\"], [0.3333333333333333, \"#9c179e\"], [0.4444444444444444, \"#bd3786\"], [0.5555555555555556, \"#d8576b\"], [0.6666666666666666, \"#ed7953\"], [0.7777777777777778, \"#fb9f3a\"], [0.8888888888888888, \"#fdca26\"], [1.0, \"#f0f921\"]], \"type\": \"heatmapgl\"}], \"histogram\": [{\"marker\": {\"colorbar\": {\"outlinewidth\": 0, \"ticks\": \"\"}}, \"type\": \"histogram\"}], \"histogram2d\": [{\"colorbar\": {\"outlinewidth\": 0, \"ticks\": \"\"}, \"colorscale\": [[0.0, \"#0d0887\"], [0.1111111111111111, \"#46039f\"], [0.2222222222222222, \"#7201a8\"], [0.3333333333333333, \"#9c179e\"], [0.4444444444444444, \"#bd3786\"], [0.5555555555555556, \"#d8576b\"], [0.6666666666666666, \"#ed7953\"], [0.7777777777777778, \"#fb9f3a\"], [0.8888888888888888, \"#fdca26\"], [1.0, \"#f0f921\"]], \"type\": \"histogram2d\"}], \"histogram2dcontour\": [{\"colorbar\": {\"outlinewidth\": 0, \"ticks\": \"\"}, \"colorscale\": [[0.0, \"#0d0887\"], [0.1111111111111111, \"#46039f\"], [0.2222222222222222, \"#7201a8\"], [0.3333333333333333, \"#9c179e\"], [0.4444444444444444, \"#bd3786\"], [0.5555555555555556, \"#d8576b\"], [0.6666666666666666, \"#ed7953\"], [0.7777777777777778, \"#fb9f3a\"], [0.8888888888888888, \"#fdca26\"], [1.0, \"#f0f921\"]], \"type\": \"histogram2dcontour\"}], \"mesh3d\": [{\"colorbar\": {\"outlinewidth\": 0, \"ticks\": \"\"}, \"type\": \"mesh3d\"}], \"parcoords\": [{\"line\": {\"colorbar\": {\"outlinewidth\": 0, \"ticks\": \"\"}}, \"type\": \"parcoords\"}], \"pie\": [{\"automargin\": true, \"type\": \"pie\"}], \"scatter\": [{\"marker\": {\"colorbar\": {\"outlinewidth\": 0, \"ticks\": \"\"}}, \"type\": \"scatter\"}], \"scatter3d\": [{\"line\": {\"colorbar\": {\"outlinewidth\": 0, \"ticks\": \"\"}}, \"marker\": {\"colorbar\": {\"outlinewidth\": 0, \"ticks\": \"\"}}, \"type\": \"scatter3d\"}], \"scattercarpet\": [{\"marker\": {\"colorbar\": {\"outlinewidth\": 0, \"ticks\": \"\"}}, \"type\": \"scattercarpet\"}], \"scattergeo\": [{\"marker\": {\"colorbar\": {\"outlinewidth\": 0, \"ticks\": \"\"}}, \"type\": \"scattergeo\"}], \"scattergl\": [{\"marker\": {\"colorbar\": {\"outlinewidth\": 0, \"ticks\": \"\"}}, \"type\": \"scattergl\"}], \"scattermapbox\": [{\"marker\": {\"colorbar\": {\"outlinewidth\": 0, \"ticks\": \"\"}}, \"type\": \"scattermapbox\"}], \"scatterpolar\": [{\"marker\": {\"colorbar\": {\"outlinewidth\": 0, \"ticks\": \"\"}}, \"type\": \"scatterpolar\"}], \"scatterpolargl\": [{\"marker\": {\"colorbar\": {\"outlinewidth\": 0, \"ticks\": \"\"}}, \"type\": \"scatterpolargl\"}], \"scatterternary\": [{\"marker\": {\"colorbar\": {\"outlinewidth\": 0, \"ticks\": \"\"}}, \"type\": \"scatterternary\"}], \"surface\": [{\"colorbar\": {\"outlinewidth\": 0, \"ticks\": \"\"}, \"colorscale\": [[0.0, \"#0d0887\"], [0.1111111111111111, \"#46039f\"], [0.2222222222222222, \"#7201a8\"], [0.3333333333333333, \"#9c179e\"], [0.4444444444444444, \"#bd3786\"], [0.5555555555555556, \"#d8576b\"], [0.6666666666666666, \"#ed7953\"], [0.7777777777777778, \"#fb9f3a\"], [0.8888888888888888, \"#fdca26\"], [1.0, \"#f0f921\"]], \"type\": \"surface\"}], \"table\": [{\"cells\": {\"fill\": {\"color\": \"#EBF0F8\"}, \"line\": {\"color\": \"white\"}}, \"header\": {\"fill\": {\"color\": \"#C8D4E3\"}, \"line\": {\"color\": \"white\"}}, \"type\": \"table\"}]}, \"layout\": {\"annotationdefaults\": {\"arrowcolor\": \"#2a3f5f\", \"arrowhead\": 0, \"arrowwidth\": 1}, \"coloraxis\": {\"colorbar\": {\"outlinewidth\": 0, \"ticks\": \"\"}}, \"colorscale\": {\"diverging\": [[0, \"#8e0152\"], [0.1, \"#c51b7d\"], [0.2, \"#de77ae\"], [0.3, \"#f1b6da\"], [0.4, \"#fde0ef\"], [0.5, \"#f7f7f7\"], [0.6, \"#e6f5d0\"], [0.7, \"#b8e186\"], [0.8, \"#7fbc41\"], [0.9, \"#4d9221\"], [1, \"#276419\"]], \"sequential\": [[0.0, \"#0d0887\"], [0.1111111111111111, \"#46039f\"], [0.2222222222222222, \"#7201a8\"], [0.3333333333333333, \"#9c179e\"], [0.4444444444444444, \"#bd3786\"], [0.5555555555555556, \"#d8576b\"], [0.6666666666666666, \"#ed7953\"], [0.7777777777777778, \"#fb9f3a\"], [0.8888888888888888, \"#fdca26\"], [1.0, \"#f0f921\"]], \"sequentialminus\": [[0.0, \"#0d0887\"], [0.1111111111111111, \"#46039f\"], [0.2222222222222222, \"#7201a8\"], [0.3333333333333333, \"#9c179e\"], [0.4444444444444444, \"#bd3786\"], [0.5555555555555556, \"#d8576b\"], [0.6666666666666666, \"#ed7953\"], [0.7777777777777778, \"#fb9f3a\"], [0.8888888888888888, \"#fdca26\"], [1.0, \"#f0f921\"]]}, \"colorway\": [\"#636efa\", \"#EF553B\", \"#00cc96\", \"#ab63fa\", \"#FFA15A\", \"#19d3f3\", \"#FF6692\", \"#B6E880\", \"#FF97FF\", \"#FECB52\"], \"font\": {\"color\": \"#2a3f5f\"}, \"geo\": {\"bgcolor\": \"white\", \"lakecolor\": \"white\", \"landcolor\": \"#E5ECF6\", \"showlakes\": true, \"showland\": true, \"subunitcolor\": \"white\"}, \"hoverlabel\": {\"align\": \"left\"}, \"hovermode\": \"closest\", \"mapbox\": {\"style\": \"light\"}, \"paper_bgcolor\": \"white\", \"plot_bgcolor\": \"#E5ECF6\", \"polar\": {\"angularaxis\": {\"gridcolor\": \"white\", \"linecolor\": \"white\", \"ticks\": \"\"}, \"bgcolor\": \"#E5ECF6\", \"radialaxis\": {\"gridcolor\": \"white\", \"linecolor\": \"white\", \"ticks\": \"\"}}, \"scene\": {\"xaxis\": {\"backgroundcolor\": \"#E5ECF6\", \"gridcolor\": \"white\", \"gridwidth\": 2, \"linecolor\": \"white\", \"showbackground\": true, \"ticks\": \"\", \"zerolinecolor\": \"white\"}, \"yaxis\": {\"backgroundcolor\": \"#E5ECF6\", \"gridcolor\": \"white\", \"gridwidth\": 2, \"linecolor\": \"white\", \"showbackground\": true, \"ticks\": \"\", \"zerolinecolor\": \"white\"}, \"zaxis\": {\"backgroundcolor\": \"#E5ECF6\", \"gridcolor\": \"white\", \"gridwidth\": 2, \"linecolor\": \"white\", \"showbackground\": true, \"ticks\": \"\", \"zerolinecolor\": \"white\"}}, \"shapedefaults\": {\"line\": {\"color\": \"#2a3f5f\"}}, \"ternary\": {\"aaxis\": {\"gridcolor\": \"white\", \"linecolor\": \"white\", \"ticks\": \"\"}, \"baxis\": {\"gridcolor\": \"white\", \"linecolor\": \"white\", \"ticks\": \"\"}, \"bgcolor\": \"#E5ECF6\", \"caxis\": {\"gridcolor\": \"white\", \"linecolor\": \"white\", \"ticks\": \"\"}}, \"title\": {\"x\": 0.05}, \"xaxis\": {\"automargin\": true, \"gridcolor\": \"white\", \"linecolor\": \"white\", \"ticks\": \"\", \"title\": {\"standoff\": 15}, \"zerolinecolor\": \"white\", \"zerolinewidth\": 2}, \"yaxis\": {\"automargin\": true, \"gridcolor\": \"white\", \"linecolor\": \"white\", \"ticks\": \"\", \"title\": {\"standoff\": 15}, \"zerolinecolor\": \"white\", \"zerolinewidth\": 2}}}},\n",
       "                        {\"responsive\": true}\n",
       "                    ).then(function(){\n",
       "                            \n",
       "var gd = document.getElementById('7b98ab1c-ad7e-4861-a05f-30506efe2614');\n",
       "var x = new MutationObserver(function (mutations, observer) {{\n",
       "        var display = window.getComputedStyle(gd).display;\n",
       "        if (!display || display === 'none') {{\n",
       "            console.log([gd, 'removed!']);\n",
       "            Plotly.purge(gd);\n",
       "            observer.disconnect();\n",
       "        }}\n",
       "}});\n",
       "\n",
       "// Listen for the removal of the full notebook cells\n",
       "var notebookContainer = gd.closest('#notebook-container');\n",
       "if (notebookContainer) {{\n",
       "    x.observe(notebookContainer, {childList: true});\n",
       "}}\n",
       "\n",
       "// Listen for the clearing of the current output cell\n",
       "var outputEl = gd.closest('.output');\n",
       "if (outputEl) {{\n",
       "    x.observe(outputEl, {childList: true});\n",
       "}}\n",
       "\n",
       "                        })\n",
       "                };\n",
       "                });\n",
       "            </script>\n",
       "        </div>"
      ]
     },
     "metadata": {},
     "output_type": "display_data"
    }
   ],
   "source": [
    "import plotly.express as px\n",
    "\n",
    "gapminder = px.data.gapminder().query(\"year==2007\")\n",
    "fig = px.choropleth(gapminder, locations=\"iso_alpha\",\n",
    "                    color=\"lifeExp\", # lifeExp is a column of gapminder\n",
    "                    hover_name=\"country\", # column to add to hover information\n",
    "                    color_continuous_scale=px.colors.sequential.Plasma)\n",
    "fig.show()"
   ]
  },
  {
   "cell_type": "code",
   "execution_count": 81,
   "metadata": {},
   "outputs": [
    {
     "data": {
      "text/html": [
       "<div>\n",
       "<style scoped>\n",
       "    .dataframe tbody tr th:only-of-type {\n",
       "        vertical-align: middle;\n",
       "    }\n",
       "\n",
       "    .dataframe tbody tr th {\n",
       "        vertical-align: top;\n",
       "    }\n",
       "\n",
       "    .dataframe thead th {\n",
       "        text-align: right;\n",
       "    }\n",
       "</style>\n",
       "<table border=\"1\" class=\"dataframe\">\n",
       "  <thead>\n",
       "    <tr style=\"text-align: right;\">\n",
       "      <th></th>\n",
       "      <th>country</th>\n",
       "      <th>continent</th>\n",
       "      <th>year</th>\n",
       "      <th>lifeExp</th>\n",
       "      <th>pop</th>\n",
       "      <th>gdpPercap</th>\n",
       "      <th>iso_alpha</th>\n",
       "      <th>iso_num</th>\n",
       "    </tr>\n",
       "  </thead>\n",
       "  <tbody>\n",
       "    <tr>\n",
       "      <th>11</th>\n",
       "      <td>Afghanistan</td>\n",
       "      <td>Asia</td>\n",
       "      <td>2007</td>\n",
       "      <td>43.828</td>\n",
       "      <td>31889923</td>\n",
       "      <td>974.580338</td>\n",
       "      <td>AFG</td>\n",
       "      <td>4</td>\n",
       "    </tr>\n",
       "    <tr>\n",
       "      <th>23</th>\n",
       "      <td>Albania</td>\n",
       "      <td>Europe</td>\n",
       "      <td>2007</td>\n",
       "      <td>76.423</td>\n",
       "      <td>3600523</td>\n",
       "      <td>5937.029526</td>\n",
       "      <td>ALB</td>\n",
       "      <td>8</td>\n",
       "    </tr>\n",
       "    <tr>\n",
       "      <th>35</th>\n",
       "      <td>Algeria</td>\n",
       "      <td>Africa</td>\n",
       "      <td>2007</td>\n",
       "      <td>72.301</td>\n",
       "      <td>33333216</td>\n",
       "      <td>6223.367465</td>\n",
       "      <td>DZA</td>\n",
       "      <td>12</td>\n",
       "    </tr>\n",
       "    <tr>\n",
       "      <th>47</th>\n",
       "      <td>Angola</td>\n",
       "      <td>Africa</td>\n",
       "      <td>2007</td>\n",
       "      <td>42.731</td>\n",
       "      <td>12420476</td>\n",
       "      <td>4797.231267</td>\n",
       "      <td>AGO</td>\n",
       "      <td>24</td>\n",
       "    </tr>\n",
       "    <tr>\n",
       "      <th>59</th>\n",
       "      <td>Argentina</td>\n",
       "      <td>Americas</td>\n",
       "      <td>2007</td>\n",
       "      <td>75.320</td>\n",
       "      <td>40301927</td>\n",
       "      <td>12779.379640</td>\n",
       "      <td>ARG</td>\n",
       "      <td>32</td>\n",
       "    </tr>\n",
       "    <tr>\n",
       "      <th>71</th>\n",
       "      <td>Australia</td>\n",
       "      <td>Oceania</td>\n",
       "      <td>2007</td>\n",
       "      <td>81.235</td>\n",
       "      <td>20434176</td>\n",
       "      <td>34435.367440</td>\n",
       "      <td>AUS</td>\n",
       "      <td>36</td>\n",
       "    </tr>\n",
       "    <tr>\n",
       "      <th>83</th>\n",
       "      <td>Austria</td>\n",
       "      <td>Europe</td>\n",
       "      <td>2007</td>\n",
       "      <td>79.829</td>\n",
       "      <td>8199783</td>\n",
       "      <td>36126.492700</td>\n",
       "      <td>AUT</td>\n",
       "      <td>40</td>\n",
       "    </tr>\n",
       "    <tr>\n",
       "      <th>95</th>\n",
       "      <td>Bahrain</td>\n",
       "      <td>Asia</td>\n",
       "      <td>2007</td>\n",
       "      <td>75.635</td>\n",
       "      <td>708573</td>\n",
       "      <td>29796.048340</td>\n",
       "      <td>BHR</td>\n",
       "      <td>48</td>\n",
       "    </tr>\n",
       "    <tr>\n",
       "      <th>107</th>\n",
       "      <td>Bangladesh</td>\n",
       "      <td>Asia</td>\n",
       "      <td>2007</td>\n",
       "      <td>64.062</td>\n",
       "      <td>150448339</td>\n",
       "      <td>1391.253792</td>\n",
       "      <td>BGD</td>\n",
       "      <td>50</td>\n",
       "    </tr>\n",
       "    <tr>\n",
       "      <th>119</th>\n",
       "      <td>Belgium</td>\n",
       "      <td>Europe</td>\n",
       "      <td>2007</td>\n",
       "      <td>79.441</td>\n",
       "      <td>10392226</td>\n",
       "      <td>33692.605080</td>\n",
       "      <td>BEL</td>\n",
       "      <td>56</td>\n",
       "    </tr>\n",
       "    <tr>\n",
       "      <th>131</th>\n",
       "      <td>Benin</td>\n",
       "      <td>Africa</td>\n",
       "      <td>2007</td>\n",
       "      <td>56.728</td>\n",
       "      <td>8078314</td>\n",
       "      <td>1441.284873</td>\n",
       "      <td>BEN</td>\n",
       "      <td>204</td>\n",
       "    </tr>\n",
       "    <tr>\n",
       "      <th>143</th>\n",
       "      <td>Bolivia</td>\n",
       "      <td>Americas</td>\n",
       "      <td>2007</td>\n",
       "      <td>65.554</td>\n",
       "      <td>9119152</td>\n",
       "      <td>3822.137084</td>\n",
       "      <td>BOL</td>\n",
       "      <td>68</td>\n",
       "    </tr>\n",
       "    <tr>\n",
       "      <th>155</th>\n",
       "      <td>Bosnia and Herzegovina</td>\n",
       "      <td>Europe</td>\n",
       "      <td>2007</td>\n",
       "      <td>74.852</td>\n",
       "      <td>4552198</td>\n",
       "      <td>7446.298803</td>\n",
       "      <td>BIH</td>\n",
       "      <td>70</td>\n",
       "    </tr>\n",
       "    <tr>\n",
       "      <th>167</th>\n",
       "      <td>Botswana</td>\n",
       "      <td>Africa</td>\n",
       "      <td>2007</td>\n",
       "      <td>50.728</td>\n",
       "      <td>1639131</td>\n",
       "      <td>12569.851770</td>\n",
       "      <td>BWA</td>\n",
       "      <td>72</td>\n",
       "    </tr>\n",
       "    <tr>\n",
       "      <th>179</th>\n",
       "      <td>Brazil</td>\n",
       "      <td>Americas</td>\n",
       "      <td>2007</td>\n",
       "      <td>72.390</td>\n",
       "      <td>190010647</td>\n",
       "      <td>9065.800825</td>\n",
       "      <td>BRA</td>\n",
       "      <td>76</td>\n",
       "    </tr>\n",
       "    <tr>\n",
       "      <th>191</th>\n",
       "      <td>Bulgaria</td>\n",
       "      <td>Europe</td>\n",
       "      <td>2007</td>\n",
       "      <td>73.005</td>\n",
       "      <td>7322858</td>\n",
       "      <td>10680.792820</td>\n",
       "      <td>BGR</td>\n",
       "      <td>100</td>\n",
       "    </tr>\n",
       "    <tr>\n",
       "      <th>203</th>\n",
       "      <td>Burkina Faso</td>\n",
       "      <td>Africa</td>\n",
       "      <td>2007</td>\n",
       "      <td>52.295</td>\n",
       "      <td>14326203</td>\n",
       "      <td>1217.032994</td>\n",
       "      <td>BFA</td>\n",
       "      <td>854</td>\n",
       "    </tr>\n",
       "    <tr>\n",
       "      <th>215</th>\n",
       "      <td>Burundi</td>\n",
       "      <td>Africa</td>\n",
       "      <td>2007</td>\n",
       "      <td>49.580</td>\n",
       "      <td>8390505</td>\n",
       "      <td>430.070692</td>\n",
       "      <td>BDI</td>\n",
       "      <td>108</td>\n",
       "    </tr>\n",
       "    <tr>\n",
       "      <th>227</th>\n",
       "      <td>Cambodia</td>\n",
       "      <td>Asia</td>\n",
       "      <td>2007</td>\n",
       "      <td>59.723</td>\n",
       "      <td>14131858</td>\n",
       "      <td>1713.778686</td>\n",
       "      <td>KHM</td>\n",
       "      <td>116</td>\n",
       "    </tr>\n",
       "    <tr>\n",
       "      <th>239</th>\n",
       "      <td>Cameroon</td>\n",
       "      <td>Africa</td>\n",
       "      <td>2007</td>\n",
       "      <td>50.430</td>\n",
       "      <td>17696293</td>\n",
       "      <td>2042.095240</td>\n",
       "      <td>CMR</td>\n",
       "      <td>120</td>\n",
       "    </tr>\n",
       "    <tr>\n",
       "      <th>251</th>\n",
       "      <td>Canada</td>\n",
       "      <td>Americas</td>\n",
       "      <td>2007</td>\n",
       "      <td>80.653</td>\n",
       "      <td>33390141</td>\n",
       "      <td>36319.235010</td>\n",
       "      <td>CAN</td>\n",
       "      <td>124</td>\n",
       "    </tr>\n",
       "    <tr>\n",
       "      <th>263</th>\n",
       "      <td>Central African Republic</td>\n",
       "      <td>Africa</td>\n",
       "      <td>2007</td>\n",
       "      <td>44.741</td>\n",
       "      <td>4369038</td>\n",
       "      <td>706.016537</td>\n",
       "      <td>CAF</td>\n",
       "      <td>140</td>\n",
       "    </tr>\n",
       "    <tr>\n",
       "      <th>275</th>\n",
       "      <td>Chad</td>\n",
       "      <td>Africa</td>\n",
       "      <td>2007</td>\n",
       "      <td>50.651</td>\n",
       "      <td>10238807</td>\n",
       "      <td>1704.063724</td>\n",
       "      <td>TCD</td>\n",
       "      <td>148</td>\n",
       "    </tr>\n",
       "    <tr>\n",
       "      <th>287</th>\n",
       "      <td>Chile</td>\n",
       "      <td>Americas</td>\n",
       "      <td>2007</td>\n",
       "      <td>78.553</td>\n",
       "      <td>16284741</td>\n",
       "      <td>13171.638850</td>\n",
       "      <td>CHL</td>\n",
       "      <td>152</td>\n",
       "    </tr>\n",
       "    <tr>\n",
       "      <th>299</th>\n",
       "      <td>China</td>\n",
       "      <td>Asia</td>\n",
       "      <td>2007</td>\n",
       "      <td>72.961</td>\n",
       "      <td>1318683096</td>\n",
       "      <td>4959.114854</td>\n",
       "      <td>CHN</td>\n",
       "      <td>156</td>\n",
       "    </tr>\n",
       "    <tr>\n",
       "      <th>311</th>\n",
       "      <td>Colombia</td>\n",
       "      <td>Americas</td>\n",
       "      <td>2007</td>\n",
       "      <td>72.889</td>\n",
       "      <td>44227550</td>\n",
       "      <td>7006.580419</td>\n",
       "      <td>COL</td>\n",
       "      <td>170</td>\n",
       "    </tr>\n",
       "    <tr>\n",
       "      <th>323</th>\n",
       "      <td>Comoros</td>\n",
       "      <td>Africa</td>\n",
       "      <td>2007</td>\n",
       "      <td>65.152</td>\n",
       "      <td>710960</td>\n",
       "      <td>986.147879</td>\n",
       "      <td>COM</td>\n",
       "      <td>174</td>\n",
       "    </tr>\n",
       "    <tr>\n",
       "      <th>335</th>\n",
       "      <td>Congo, Dem. Rep.</td>\n",
       "      <td>Africa</td>\n",
       "      <td>2007</td>\n",
       "      <td>46.462</td>\n",
       "      <td>64606759</td>\n",
       "      <td>277.551859</td>\n",
       "      <td>COD</td>\n",
       "      <td>180</td>\n",
       "    </tr>\n",
       "    <tr>\n",
       "      <th>347</th>\n",
       "      <td>Congo, Rep.</td>\n",
       "      <td>Africa</td>\n",
       "      <td>2007</td>\n",
       "      <td>55.322</td>\n",
       "      <td>3800610</td>\n",
       "      <td>3632.557798</td>\n",
       "      <td>COG</td>\n",
       "      <td>178</td>\n",
       "    </tr>\n",
       "    <tr>\n",
       "      <th>359</th>\n",
       "      <td>Costa Rica</td>\n",
       "      <td>Americas</td>\n",
       "      <td>2007</td>\n",
       "      <td>78.782</td>\n",
       "      <td>4133884</td>\n",
       "      <td>9645.061420</td>\n",
       "      <td>CRI</td>\n",
       "      <td>188</td>\n",
       "    </tr>\n",
       "    <tr>\n",
       "      <th>...</th>\n",
       "      <td>...</td>\n",
       "      <td>...</td>\n",
       "      <td>...</td>\n",
       "      <td>...</td>\n",
       "      <td>...</td>\n",
       "      <td>...</td>\n",
       "      <td>...</td>\n",
       "      <td>...</td>\n",
       "    </tr>\n",
       "    <tr>\n",
       "      <th>1355</th>\n",
       "      <td>Sierra Leone</td>\n",
       "      <td>Africa</td>\n",
       "      <td>2007</td>\n",
       "      <td>42.568</td>\n",
       "      <td>6144562</td>\n",
       "      <td>862.540756</td>\n",
       "      <td>SLE</td>\n",
       "      <td>694</td>\n",
       "    </tr>\n",
       "    <tr>\n",
       "      <th>1367</th>\n",
       "      <td>Singapore</td>\n",
       "      <td>Asia</td>\n",
       "      <td>2007</td>\n",
       "      <td>79.972</td>\n",
       "      <td>4553009</td>\n",
       "      <td>47143.179640</td>\n",
       "      <td>SGP</td>\n",
       "      <td>702</td>\n",
       "    </tr>\n",
       "    <tr>\n",
       "      <th>1379</th>\n",
       "      <td>Slovak Republic</td>\n",
       "      <td>Europe</td>\n",
       "      <td>2007</td>\n",
       "      <td>74.663</td>\n",
       "      <td>5447502</td>\n",
       "      <td>18678.314350</td>\n",
       "      <td>SVK</td>\n",
       "      <td>703</td>\n",
       "    </tr>\n",
       "    <tr>\n",
       "      <th>1391</th>\n",
       "      <td>Slovenia</td>\n",
       "      <td>Europe</td>\n",
       "      <td>2007</td>\n",
       "      <td>77.926</td>\n",
       "      <td>2009245</td>\n",
       "      <td>25768.257590</td>\n",
       "      <td>SVN</td>\n",
       "      <td>705</td>\n",
       "    </tr>\n",
       "    <tr>\n",
       "      <th>1403</th>\n",
       "      <td>Somalia</td>\n",
       "      <td>Africa</td>\n",
       "      <td>2007</td>\n",
       "      <td>48.159</td>\n",
       "      <td>9118773</td>\n",
       "      <td>926.141068</td>\n",
       "      <td>SOM</td>\n",
       "      <td>706</td>\n",
       "    </tr>\n",
       "    <tr>\n",
       "      <th>1415</th>\n",
       "      <td>South Africa</td>\n",
       "      <td>Africa</td>\n",
       "      <td>2007</td>\n",
       "      <td>49.339</td>\n",
       "      <td>43997828</td>\n",
       "      <td>9269.657808</td>\n",
       "      <td>ZAF</td>\n",
       "      <td>710</td>\n",
       "    </tr>\n",
       "    <tr>\n",
       "      <th>1427</th>\n",
       "      <td>Spain</td>\n",
       "      <td>Europe</td>\n",
       "      <td>2007</td>\n",
       "      <td>80.941</td>\n",
       "      <td>40448191</td>\n",
       "      <td>28821.063700</td>\n",
       "      <td>ESP</td>\n",
       "      <td>724</td>\n",
       "    </tr>\n",
       "    <tr>\n",
       "      <th>1439</th>\n",
       "      <td>Sri Lanka</td>\n",
       "      <td>Asia</td>\n",
       "      <td>2007</td>\n",
       "      <td>72.396</td>\n",
       "      <td>20378239</td>\n",
       "      <td>3970.095407</td>\n",
       "      <td>LKA</td>\n",
       "      <td>144</td>\n",
       "    </tr>\n",
       "    <tr>\n",
       "      <th>1451</th>\n",
       "      <td>Sudan</td>\n",
       "      <td>Africa</td>\n",
       "      <td>2007</td>\n",
       "      <td>58.556</td>\n",
       "      <td>42292929</td>\n",
       "      <td>2602.394995</td>\n",
       "      <td>SDN</td>\n",
       "      <td>736</td>\n",
       "    </tr>\n",
       "    <tr>\n",
       "      <th>1463</th>\n",
       "      <td>Swaziland</td>\n",
       "      <td>Africa</td>\n",
       "      <td>2007</td>\n",
       "      <td>39.613</td>\n",
       "      <td>1133066</td>\n",
       "      <td>4513.480643</td>\n",
       "      <td>SWZ</td>\n",
       "      <td>748</td>\n",
       "    </tr>\n",
       "    <tr>\n",
       "      <th>1475</th>\n",
       "      <td>Sweden</td>\n",
       "      <td>Europe</td>\n",
       "      <td>2007</td>\n",
       "      <td>80.884</td>\n",
       "      <td>9031088</td>\n",
       "      <td>33859.748350</td>\n",
       "      <td>SWE</td>\n",
       "      <td>752</td>\n",
       "    </tr>\n",
       "    <tr>\n",
       "      <th>1487</th>\n",
       "      <td>Switzerland</td>\n",
       "      <td>Europe</td>\n",
       "      <td>2007</td>\n",
       "      <td>81.701</td>\n",
       "      <td>7554661</td>\n",
       "      <td>37506.419070</td>\n",
       "      <td>CHE</td>\n",
       "      <td>756</td>\n",
       "    </tr>\n",
       "    <tr>\n",
       "      <th>1499</th>\n",
       "      <td>Syria</td>\n",
       "      <td>Asia</td>\n",
       "      <td>2007</td>\n",
       "      <td>74.143</td>\n",
       "      <td>19314747</td>\n",
       "      <td>4184.548089</td>\n",
       "      <td>SYR</td>\n",
       "      <td>760</td>\n",
       "    </tr>\n",
       "    <tr>\n",
       "      <th>1511</th>\n",
       "      <td>Taiwan</td>\n",
       "      <td>Asia</td>\n",
       "      <td>2007</td>\n",
       "      <td>78.400</td>\n",
       "      <td>23174294</td>\n",
       "      <td>28718.276840</td>\n",
       "      <td>TWN</td>\n",
       "      <td>158</td>\n",
       "    </tr>\n",
       "    <tr>\n",
       "      <th>1523</th>\n",
       "      <td>Tanzania</td>\n",
       "      <td>Africa</td>\n",
       "      <td>2007</td>\n",
       "      <td>52.517</td>\n",
       "      <td>38139640</td>\n",
       "      <td>1107.482182</td>\n",
       "      <td>TZA</td>\n",
       "      <td>834</td>\n",
       "    </tr>\n",
       "    <tr>\n",
       "      <th>1535</th>\n",
       "      <td>Thailand</td>\n",
       "      <td>Asia</td>\n",
       "      <td>2007</td>\n",
       "      <td>70.616</td>\n",
       "      <td>65068149</td>\n",
       "      <td>7458.396327</td>\n",
       "      <td>THA</td>\n",
       "      <td>764</td>\n",
       "    </tr>\n",
       "    <tr>\n",
       "      <th>1547</th>\n",
       "      <td>Togo</td>\n",
       "      <td>Africa</td>\n",
       "      <td>2007</td>\n",
       "      <td>58.420</td>\n",
       "      <td>5701579</td>\n",
       "      <td>882.969944</td>\n",
       "      <td>TGO</td>\n",
       "      <td>768</td>\n",
       "    </tr>\n",
       "    <tr>\n",
       "      <th>1559</th>\n",
       "      <td>Trinidad and Tobago</td>\n",
       "      <td>Americas</td>\n",
       "      <td>2007</td>\n",
       "      <td>69.819</td>\n",
       "      <td>1056608</td>\n",
       "      <td>18008.509240</td>\n",
       "      <td>TTO</td>\n",
       "      <td>780</td>\n",
       "    </tr>\n",
       "    <tr>\n",
       "      <th>1571</th>\n",
       "      <td>Tunisia</td>\n",
       "      <td>Africa</td>\n",
       "      <td>2007</td>\n",
       "      <td>73.923</td>\n",
       "      <td>10276158</td>\n",
       "      <td>7092.923025</td>\n",
       "      <td>TUN</td>\n",
       "      <td>788</td>\n",
       "    </tr>\n",
       "    <tr>\n",
       "      <th>1583</th>\n",
       "      <td>Turkey</td>\n",
       "      <td>Europe</td>\n",
       "      <td>2007</td>\n",
       "      <td>71.777</td>\n",
       "      <td>71158647</td>\n",
       "      <td>8458.276384</td>\n",
       "      <td>TUR</td>\n",
       "      <td>792</td>\n",
       "    </tr>\n",
       "    <tr>\n",
       "      <th>1595</th>\n",
       "      <td>Uganda</td>\n",
       "      <td>Africa</td>\n",
       "      <td>2007</td>\n",
       "      <td>51.542</td>\n",
       "      <td>29170398</td>\n",
       "      <td>1056.380121</td>\n",
       "      <td>UGA</td>\n",
       "      <td>800</td>\n",
       "    </tr>\n",
       "    <tr>\n",
       "      <th>1607</th>\n",
       "      <td>United Kingdom</td>\n",
       "      <td>Europe</td>\n",
       "      <td>2007</td>\n",
       "      <td>79.425</td>\n",
       "      <td>60776238</td>\n",
       "      <td>33203.261280</td>\n",
       "      <td>GBR</td>\n",
       "      <td>826</td>\n",
       "    </tr>\n",
       "    <tr>\n",
       "      <th>1619</th>\n",
       "      <td>United States</td>\n",
       "      <td>Americas</td>\n",
       "      <td>2007</td>\n",
       "      <td>78.242</td>\n",
       "      <td>301139947</td>\n",
       "      <td>42951.653090</td>\n",
       "      <td>USA</td>\n",
       "      <td>840</td>\n",
       "    </tr>\n",
       "    <tr>\n",
       "      <th>1631</th>\n",
       "      <td>Uruguay</td>\n",
       "      <td>Americas</td>\n",
       "      <td>2007</td>\n",
       "      <td>76.384</td>\n",
       "      <td>3447496</td>\n",
       "      <td>10611.462990</td>\n",
       "      <td>URY</td>\n",
       "      <td>858</td>\n",
       "    </tr>\n",
       "    <tr>\n",
       "      <th>1643</th>\n",
       "      <td>Venezuela</td>\n",
       "      <td>Americas</td>\n",
       "      <td>2007</td>\n",
       "      <td>73.747</td>\n",
       "      <td>26084662</td>\n",
       "      <td>11415.805690</td>\n",
       "      <td>VEN</td>\n",
       "      <td>862</td>\n",
       "    </tr>\n",
       "    <tr>\n",
       "      <th>1655</th>\n",
       "      <td>Vietnam</td>\n",
       "      <td>Asia</td>\n",
       "      <td>2007</td>\n",
       "      <td>74.249</td>\n",
       "      <td>85262356</td>\n",
       "      <td>2441.576404</td>\n",
       "      <td>VNM</td>\n",
       "      <td>704</td>\n",
       "    </tr>\n",
       "    <tr>\n",
       "      <th>1667</th>\n",
       "      <td>West Bank and Gaza</td>\n",
       "      <td>Asia</td>\n",
       "      <td>2007</td>\n",
       "      <td>73.422</td>\n",
       "      <td>4018332</td>\n",
       "      <td>3025.349798</td>\n",
       "      <td>PSE</td>\n",
       "      <td>275</td>\n",
       "    </tr>\n",
       "    <tr>\n",
       "      <th>1679</th>\n",
       "      <td>Yemen, Rep.</td>\n",
       "      <td>Asia</td>\n",
       "      <td>2007</td>\n",
       "      <td>62.698</td>\n",
       "      <td>22211743</td>\n",
       "      <td>2280.769906</td>\n",
       "      <td>YEM</td>\n",
       "      <td>887</td>\n",
       "    </tr>\n",
       "    <tr>\n",
       "      <th>1691</th>\n",
       "      <td>Zambia</td>\n",
       "      <td>Africa</td>\n",
       "      <td>2007</td>\n",
       "      <td>42.384</td>\n",
       "      <td>11746035</td>\n",
       "      <td>1271.211593</td>\n",
       "      <td>ZMB</td>\n",
       "      <td>894</td>\n",
       "    </tr>\n",
       "    <tr>\n",
       "      <th>1703</th>\n",
       "      <td>Zimbabwe</td>\n",
       "      <td>Africa</td>\n",
       "      <td>2007</td>\n",
       "      <td>43.487</td>\n",
       "      <td>12311143</td>\n",
       "      <td>469.709298</td>\n",
       "      <td>ZWE</td>\n",
       "      <td>716</td>\n",
       "    </tr>\n",
       "  </tbody>\n",
       "</table>\n",
       "<p>142 rows × 8 columns</p>\n",
       "</div>"
      ],
      "text/plain": [
       "                       country continent  year  lifeExp         pop  \\\n",
       "11                 Afghanistan      Asia  2007   43.828    31889923   \n",
       "23                     Albania    Europe  2007   76.423     3600523   \n",
       "35                     Algeria    Africa  2007   72.301    33333216   \n",
       "47                      Angola    Africa  2007   42.731    12420476   \n",
       "59                   Argentina  Americas  2007   75.320    40301927   \n",
       "71                   Australia   Oceania  2007   81.235    20434176   \n",
       "83                     Austria    Europe  2007   79.829     8199783   \n",
       "95                     Bahrain      Asia  2007   75.635      708573   \n",
       "107                 Bangladesh      Asia  2007   64.062   150448339   \n",
       "119                    Belgium    Europe  2007   79.441    10392226   \n",
       "131                      Benin    Africa  2007   56.728     8078314   \n",
       "143                    Bolivia  Americas  2007   65.554     9119152   \n",
       "155     Bosnia and Herzegovina    Europe  2007   74.852     4552198   \n",
       "167                   Botswana    Africa  2007   50.728     1639131   \n",
       "179                     Brazil  Americas  2007   72.390   190010647   \n",
       "191                   Bulgaria    Europe  2007   73.005     7322858   \n",
       "203               Burkina Faso    Africa  2007   52.295    14326203   \n",
       "215                    Burundi    Africa  2007   49.580     8390505   \n",
       "227                   Cambodia      Asia  2007   59.723    14131858   \n",
       "239                   Cameroon    Africa  2007   50.430    17696293   \n",
       "251                     Canada  Americas  2007   80.653    33390141   \n",
       "263   Central African Republic    Africa  2007   44.741     4369038   \n",
       "275                       Chad    Africa  2007   50.651    10238807   \n",
       "287                      Chile  Americas  2007   78.553    16284741   \n",
       "299                      China      Asia  2007   72.961  1318683096   \n",
       "311                   Colombia  Americas  2007   72.889    44227550   \n",
       "323                    Comoros    Africa  2007   65.152      710960   \n",
       "335           Congo, Dem. Rep.    Africa  2007   46.462    64606759   \n",
       "347                Congo, Rep.    Africa  2007   55.322     3800610   \n",
       "359                 Costa Rica  Americas  2007   78.782     4133884   \n",
       "...                        ...       ...   ...      ...         ...   \n",
       "1355              Sierra Leone    Africa  2007   42.568     6144562   \n",
       "1367                 Singapore      Asia  2007   79.972     4553009   \n",
       "1379           Slovak Republic    Europe  2007   74.663     5447502   \n",
       "1391                  Slovenia    Europe  2007   77.926     2009245   \n",
       "1403                   Somalia    Africa  2007   48.159     9118773   \n",
       "1415              South Africa    Africa  2007   49.339    43997828   \n",
       "1427                     Spain    Europe  2007   80.941    40448191   \n",
       "1439                 Sri Lanka      Asia  2007   72.396    20378239   \n",
       "1451                     Sudan    Africa  2007   58.556    42292929   \n",
       "1463                 Swaziland    Africa  2007   39.613     1133066   \n",
       "1475                    Sweden    Europe  2007   80.884     9031088   \n",
       "1487               Switzerland    Europe  2007   81.701     7554661   \n",
       "1499                     Syria      Asia  2007   74.143    19314747   \n",
       "1511                    Taiwan      Asia  2007   78.400    23174294   \n",
       "1523                  Tanzania    Africa  2007   52.517    38139640   \n",
       "1535                  Thailand      Asia  2007   70.616    65068149   \n",
       "1547                      Togo    Africa  2007   58.420     5701579   \n",
       "1559       Trinidad and Tobago  Americas  2007   69.819     1056608   \n",
       "1571                   Tunisia    Africa  2007   73.923    10276158   \n",
       "1583                    Turkey    Europe  2007   71.777    71158647   \n",
       "1595                    Uganda    Africa  2007   51.542    29170398   \n",
       "1607            United Kingdom    Europe  2007   79.425    60776238   \n",
       "1619             United States  Americas  2007   78.242   301139947   \n",
       "1631                   Uruguay  Americas  2007   76.384     3447496   \n",
       "1643                 Venezuela  Americas  2007   73.747    26084662   \n",
       "1655                   Vietnam      Asia  2007   74.249    85262356   \n",
       "1667        West Bank and Gaza      Asia  2007   73.422     4018332   \n",
       "1679               Yemen, Rep.      Asia  2007   62.698    22211743   \n",
       "1691                    Zambia    Africa  2007   42.384    11746035   \n",
       "1703                  Zimbabwe    Africa  2007   43.487    12311143   \n",
       "\n",
       "         gdpPercap iso_alpha  iso_num  \n",
       "11      974.580338       AFG        4  \n",
       "23     5937.029526       ALB        8  \n",
       "35     6223.367465       DZA       12  \n",
       "47     4797.231267       AGO       24  \n",
       "59    12779.379640       ARG       32  \n",
       "71    34435.367440       AUS       36  \n",
       "83    36126.492700       AUT       40  \n",
       "95    29796.048340       BHR       48  \n",
       "107    1391.253792       BGD       50  \n",
       "119   33692.605080       BEL       56  \n",
       "131    1441.284873       BEN      204  \n",
       "143    3822.137084       BOL       68  \n",
       "155    7446.298803       BIH       70  \n",
       "167   12569.851770       BWA       72  \n",
       "179    9065.800825       BRA       76  \n",
       "191   10680.792820       BGR      100  \n",
       "203    1217.032994       BFA      854  \n",
       "215     430.070692       BDI      108  \n",
       "227    1713.778686       KHM      116  \n",
       "239    2042.095240       CMR      120  \n",
       "251   36319.235010       CAN      124  \n",
       "263     706.016537       CAF      140  \n",
       "275    1704.063724       TCD      148  \n",
       "287   13171.638850       CHL      152  \n",
       "299    4959.114854       CHN      156  \n",
       "311    7006.580419       COL      170  \n",
       "323     986.147879       COM      174  \n",
       "335     277.551859       COD      180  \n",
       "347    3632.557798       COG      178  \n",
       "359    9645.061420       CRI      188  \n",
       "...            ...       ...      ...  \n",
       "1355    862.540756       SLE      694  \n",
       "1367  47143.179640       SGP      702  \n",
       "1379  18678.314350       SVK      703  \n",
       "1391  25768.257590       SVN      705  \n",
       "1403    926.141068       SOM      706  \n",
       "1415   9269.657808       ZAF      710  \n",
       "1427  28821.063700       ESP      724  \n",
       "1439   3970.095407       LKA      144  \n",
       "1451   2602.394995       SDN      736  \n",
       "1463   4513.480643       SWZ      748  \n",
       "1475  33859.748350       SWE      752  \n",
       "1487  37506.419070       CHE      756  \n",
       "1499   4184.548089       SYR      760  \n",
       "1511  28718.276840       TWN      158  \n",
       "1523   1107.482182       TZA      834  \n",
       "1535   7458.396327       THA      764  \n",
       "1547    882.969944       TGO      768  \n",
       "1559  18008.509240       TTO      780  \n",
       "1571   7092.923025       TUN      788  \n",
       "1583   8458.276384       TUR      792  \n",
       "1595   1056.380121       UGA      800  \n",
       "1607  33203.261280       GBR      826  \n",
       "1619  42951.653090       USA      840  \n",
       "1631  10611.462990       URY      858  \n",
       "1643  11415.805690       VEN      862  \n",
       "1655   2441.576404       VNM      704  \n",
       "1667   3025.349798       PSE      275  \n",
       "1679   2280.769906       YEM      887  \n",
       "1691   1271.211593       ZMB      894  \n",
       "1703    469.709298       ZWE      716  \n",
       "\n",
       "[142 rows x 8 columns]"
      ]
     },
     "execution_count": 81,
     "metadata": {},
     "output_type": "execute_result"
    }
   ],
   "source": [
    "gapminder"
   ]
  },
  {
   "cell_type": "code",
   "execution_count": 79,
   "metadata": {},
   "outputs": [
    {
     "name": "stdout",
     "output_type": "stream",
     "text": [
      "Collecting plotly\n",
      "  Downloading https://files.pythonhosted.org/packages/e3/67/eb2b2be7a63a66548abea92447fc04d9abf363520f1af6145c5f033cd1b3/plotly-4.3.0-py2.py3-none-any.whl (7.3MB)\n",
      "Requirement already satisfied: six in c:\\users\\alici\\anaconda3\\lib\\site-packages (from plotly) (1.12.0)\n",
      "Collecting retrying>=1.3.3 (from plotly)\n",
      "  Downloading https://files.pythonhosted.org/packages/44/ef/beae4b4ef80902f22e3af073397f079c96969c69b2c7d52a57ea9ae61c9d/retrying-1.3.3.tar.gz\n",
      "Building wheels for collected packages: retrying\n",
      "  Building wheel for retrying (setup.py): started\n",
      "  Building wheel for retrying (setup.py): finished with status 'done'\n",
      "  Stored in directory: C:\\Users\\alici\\AppData\\Local\\pip\\Cache\\wheels\\d7\\a9\\33\\acc7b709e2a35caa7d4cae442f6fe6fbf2c43f80823d46460c\n",
      "Successfully built retrying\n",
      "Installing collected packages: retrying, plotly\n",
      "Successfully installed plotly-4.3.0 retrying-1.3.3\n",
      "Note: you may need to restart the kernel to use updated packages.\n"
     ]
    }
   ],
   "source": [
    "pip install plotly\n"
   ]
  }
 ],
 "metadata": {
  "kernelspec": {
   "display_name": "Python 3",
   "language": "python",
   "name": "python3"
  },
  "language_info": {
   "codemirror_mode": {
    "name": "ipython",
    "version": 3
   },
   "file_extension": ".py",
   "mimetype": "text/x-python",
   "name": "python",
   "nbconvert_exporter": "python",
   "pygments_lexer": "ipython3",
   "version": "3.7.3"
  }
 },
 "nbformat": 4,
 "nbformat_minor": 2
}
