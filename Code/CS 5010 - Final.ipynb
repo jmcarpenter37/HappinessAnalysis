{
 "cells": [
  {
   "cell_type": "markdown",
   "metadata": {},
   "source": [
    "Import Packages and Raw Data"
   ]
  },
  {
   "cell_type": "code",
   "execution_count": 4,
   "metadata": {},
   "outputs": [],
   "source": [
    "import pandas as pd\n",
    "import plotly.express as px\n",
    "\n",
    "df2015= pd.read_csv(\"../2015.csv\")\n",
    "\n",
    "df2016= pd.read_csv(\"../2016.csv\")\n",
    "df2017= pd.read_csv(\"../2017.csv\")\n",
    "\n"
   ]
  },
  {
   "cell_type": "markdown",
   "metadata": {},
   "source": [
    "Pre-processing and Data Cleaning"
   ]
  },
  {
   "cell_type": "code",
   "execution_count": 2,
   "metadata": {},
   "outputs": [
    {
     "name": "stderr",
     "output_type": "stream",
     "text": [
      "C:\\Users\\alici\\Anaconda3\\lib\\site-packages\\pandas\\core\\frame.py:6692: FutureWarning: Sorting because non-concatenation axis is not aligned. A future version\n",
      "of pandas will change to not sort by default.\n",
      "\n",
      "To accept the future behavior, pass 'sort=False'.\n",
      "\n",
      "To retain the current behavior and silence the warning, pass 'sort=True'.\n",
      "\n",
      "  sort=sort)\n"
     ]
    }
   ],
   "source": [
    "df2015['year'] = 2015\n",
    "df2016['year'] = 2016\n",
    "df2017['year'] = 2017\n",
    "\n",
    "df2017= df2017.rename(columns={'Happiness.Rank': 'Happiness Rank', 'Happiness.Score':'Happiness Score',\n",
    "       'Economy..GDP.per.Capita.':'Economy (GDP per Capita)',  'Health..Life.Expectancy.':'Health (Life Expectancy)',\n",
    "       'Trust..Government.Corruption.':'Trust (Government Corruption)',\n",
    "       'Dystopia.Residual':'Dystopia Residual'})\n",
    "\n",
    "df2017 = df2017.replace(to_replace =\"Hong Kong S.A.R., China\", \n",
    "                 value =\"Hong Kong\") \n",
    "df2017 = df2017.replace(to_replace =\"Taiwan Province of China\", \n",
    "                 value =\"Taiwan\") \n",
    "\n",
    "region_df = df2016[['Country', 'Region']]\n",
    "df2017 = df2017.merge(region_df, how = 'left', on = 'Country' )\n",
    "stacked_data = df2015.append(df2016)\n",
    "stacked_data = stacked_data.append(df2017)"
   ]
  },
  {
   "cell_type": "markdown",
   "metadata": {},
   "source": [
    "Map Visualization\n"
   ]
  },
  {
   "cell_type": "code",
   "execution_count": 5,
   "metadata": {},
   "outputs": [],
   "source": [
    "gapminder = px.data.gapminder().query(\"year==2007\")\n",
    "\n",
    "#gapminder\n",
    "df = stacked_data.merge(gapminder[['country', 'iso_alpha']], how = 'left', left_on = \"Country\", right_on = \"country\" )"
   ]
  },
  {
   "cell_type": "code",
   "execution_count": null,
   "metadata": {},
   "outputs": [],
   "source": [
    "import plotly.express as px\n",
    "fig = px.choropleth(df[df['year'] ==2017], locations=\"iso_alpha\",\n",
    "                    color=\"Health (Life Expectancy)\", \n",
    "                    hover_name=\"Country\", # column to add to hover information\n",
    "                    color_continuous_scale=px.colors.sequential.Hot)\n",
    "fig.show()"
   ]
  },
  {
   "cell_type": "code",
   "execution_count": null,
   "metadata": {},
   "outputs": [],
   "source": [
    "import plotly.express as px\n",
    "\n",
    "gapminder = px.data.gapminder().query(\"year==2007\")\n",
    "fig = px.choropleth(gapminder, locations=\"iso_alpha\",\n",
    "                    color=\"lifeExp\", # lifeExp is a column of gapminder\n",
    "                    hover_name=\"country\", # column to add to hover information\n",
    "                    color_continuous_scale=px.colors.sequential.Plasma)\n",
    "fig.show()"
   ]
  },
  {
   "cell_type": "code",
   "execution_count": null,
   "metadata": {},
   "outputs": [],
   "source": [
    "gapminder"
   ]
  },
  {
   "cell_type": "code",
   "execution_count": null,
   "metadata": {},
   "outputs": [],
   "source": [
    "pip install plotly\n"
   ]
  }
 ],
 "metadata": {
  "kernelspec": {
   "display_name": "Python 3",
   "language": "python",
   "name": "python3"
  },
  "language_info": {
   "codemirror_mode": {
    "name": "ipython",
    "version": 3
   },
   "file_extension": ".py",
   "mimetype": "text/x-python",
   "name": "python",
   "nbconvert_exporter": "python",
   "pygments_lexer": "ipython3",
   "version": "3.7.3"
  }
 },
 "nbformat": 4,
 "nbformat_minor": 2
}
