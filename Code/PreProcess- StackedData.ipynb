{
 "cells": [
  {
   "cell_type": "code",
   "execution_count": 50,
   "metadata": {},
   "outputs": [],
   "source": [
    "import pandas as pd\n",
    "df2015= pd.read_csv(\"../2015.csv\")\n",
    "\n",
    "df2016= pd.read_csv(\"../2016.csv\")\n",
    "df2017= pd.read_csv(\"../2017.csv\")\n",
    "\n",
    "df2015['year'] = 2015\n",
    "df2016['year'] = 2016\n",
    "df2017['year'] = 2017"
   ]
  },
  {
   "cell_type": "code",
   "execution_count": 51,
   "metadata": {},
   "outputs": [],
   "source": [
    "df2017= df2017.rename(columns={'Happiness.Rank': 'Happiness Rank', 'Happiness.Score':'Happiness Score',\n",
    "       'Economy..GDP.per.Capita.':'Economy (GDP per Capita)',  'Health..Life.Expectancy.':'Health (Life Expectancy)',\n",
    "       'Trust..Government.Corruption.':'Trust (Government Corruption)',\n",
    "       'Dystopia.Residual':'Dystopia Residual'})\n",
    "\n",
    "df2017 = df2017.replace(to_replace =\"Hong Kong S.A.R., China\", \n",
    "                 value =\"Hong Kong\") \n",
    "df2017 = df2017.replace(to_replace =\"Taiwan Province of China\", \n",
    "                 value =\"Taiwan\") "
   ]
  },
  {
   "cell_type": "code",
   "execution_count": 52,
   "metadata": {},
   "outputs": [
    {
     "name": "stderr",
     "output_type": "stream",
     "text": [
      "C:\\Users\\alici\\Anaconda3\\lib\\site-packages\\pandas\\core\\frame.py:6692: FutureWarning: Sorting because non-concatenation axis is not aligned. A future version\n",
      "of pandas will change to not sort by default.\n",
      "\n",
      "To accept the future behavior, pass 'sort=False'.\n",
      "\n",
      "To retain the current behavior and silence the warning, pass 'sort=True'.\n",
      "\n",
      "  sort=sort)\n"
     ]
    }
   ],
   "source": [
    "stacked_data = df2015.append(df2016)\n",
    "stacked_data = stacked_data.append(df2017)\n",
    "#stacked_data[stacked_data['Country'] == \"Taiwan Province of China\"]\n"
   ]
  },
  {
   "cell_type": "code",
   "execution_count": null,
   "metadata": {},
   "outputs": [],
   "source": [
    "region_df = df2016[['Country', 'Region']]\n",
    "df2017 = df2017.merge(region_df, how = 'left', on = 'Country' )\n",
    "#df1.merge(df2, left_on='lkey', right_on='rkey')"
   ]
  },
  {
   "cell_type": "code",
   "execution_count": 49,
   "metadata": {},
   "outputs": [],
   "source": [
    "stacked_data.to_csv(\"../full_data.csv\", index = False)"
   ]
  }
 ],
 "metadata": {
  "kernelspec": {
   "display_name": "Python 3",
   "language": "python",
   "name": "python3"
  },
  "language_info": {
   "codemirror_mode": {
    "name": "ipython",
    "version": 3
   },
   "file_extension": ".py",
   "mimetype": "text/x-python",
   "name": "python",
   "nbconvert_exporter": "python",
   "pygments_lexer": "ipython3",
   "version": "3.7.3"
  }
 },
 "nbformat": 4,
 "nbformat_minor": 2
}
